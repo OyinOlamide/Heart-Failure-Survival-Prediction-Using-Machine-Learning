{
  "nbformat": 4,
  "nbformat_minor": 0,
  "metadata": {
    "colab": {
      "name": "Heart Failure Machine Learning Prediction.ipynb",
      "provenance": [],
      "collapsed_sections": [],
      "toc_visible": true,
      "include_colab_link": true
    },
    "kernelspec": {
      "name": "python3",
      "display_name": "Python 3"
    },
    "language_info": {
      "name": "python"
    }
  },
  "cells": [
    {
      "cell_type": "markdown",
      "metadata": {
        "id": "view-in-github",
        "colab_type": "text"
      },
      "source": [
        "<a href=\"https://colab.research.google.com/github/OyinOlamide/SCA-Final-Project/blob/main/Heart_Failure_Machine_Learning_Prediction.ipynb\" target=\"_parent\"><img src=\"https://colab.research.google.com/assets/colab-badge.svg\" alt=\"Open In Colab\"/></a>"
      ]
    },
    {
      "cell_type": "markdown",
      "metadata": {
        "id": "-P9kBxZBQwrI"
      },
      "source": [
        "# Data Description\n",
        "\n",
        "Age: Age in years.\n",
        "\n",
        "Anaemia: 0 = False, 1 = True\n",
        "\n",
        "Creatinine_phosphokinase: Level of CPK enzyme in the blood.\n",
        "\n",
        "Diabetes: 0 = False, 1 = True\n",
        "\n",
        "Ejection fraction: Percentage of how much blood the left ventricle pumps out with each contraction.\n",
        "\n",
        "High blood pressure: 0 = False, 1 = True\n",
        "\n",
        "Platelets: Platelet count in the blood.\n",
        "\n",
        "Serum creatinine: Measure of creatinine in the blood.\n",
        "\n",
        "Serum sodium: The measure of sodium in the blood.\n",
        "\n",
        "Sex: 0 = Woman, 1 = Man\n",
        "\n",
        "Smoking: 0 = False, 1 = True\n",
        "\n",
        "Time: Number of days\n",
        "\n",
        "Death event: 0 = False, 1 = True"
      ]
    },
    {
      "cell_type": "code",
      "metadata": {
        "id": "0Axdefqqn3gp"
      },
      "source": [
        "from google.colab import files"
      ],
      "execution_count": 111,
      "outputs": []
    },
    {
      "cell_type": "code",
      "metadata": {
        "id": "jddr1IZjMa9z"
      },
      "source": [
        "#necessary imports\n",
        "\n",
        "import numpy as np\n",
        "import pandas as pd\n",
        "import matplotlib.pyplot as plt\n",
        "import seaborn as sns\n",
        "\n",
        "%matplotlib inline\n",
        "\n",
        "import warnings\n",
        "warnings.filterwarnings(\"ignore\")\n",
        "\n",
        "import plotly as py\n",
        "import plotly.graph_objs as go\n",
        "import plotly.express as px\n",
        "from plotly.offline import download_plotlyjs, plot, init_notebook_mode, iplot"
      ],
      "execution_count": 112,
      "outputs": []
    },
    {
      "cell_type": "code",
      "metadata": {
        "id": "UmwbfEjC7B-V",
        "colab": {
          "resources": {
            "http://localhost:8080/nbextensions/google.colab/files.js": {
              "data": "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",
              "ok": true,
              "headers": [
                [
                  "content-type",
                  "application/javascript"
                ]
              ],
              "status": 200,
              "status_text": ""
            }
          },
          "base_uri": "https://localhost:8080/",
          "height": 72
        },
        "outputId": "b821d84a-1301-4b0e-d6be-3fb69c9745c7"
      },
      "source": [
        "HF=files.upload()"
      ],
      "execution_count": 113,
      "outputs": [
        {
          "output_type": "display_data",
          "data": {
            "text/html": [
              "\n",
              "     <input type=\"file\" id=\"files-789624c8-384f-4887-8d66-332b87c38907\" name=\"files[]\" multiple disabled\n",
              "        style=\"border:none\" />\n",
              "     <output id=\"result-789624c8-384f-4887-8d66-332b87c38907\">\n",
              "      Upload widget is only available when the cell has been executed in the\n",
              "      current browser session. Please rerun this cell to enable.\n",
              "      </output>\n",
              "      <script src=\"/nbextensions/google.colab/files.js\"></script> "
            ],
            "text/plain": [
              "<IPython.core.display.HTML object>"
            ]
          },
          "metadata": {
            "tags": []
          }
        },
        {
          "output_type": "stream",
          "text": [
            "Saving heart_failure_clinical_records_dataset.csv to heart_failure_clinical_records_dataset (4).csv\n"
          ],
          "name": "stdout"
        }
      ]
    },
    {
      "cell_type": "code",
      "metadata": {
        "id": "-gcyNojUQMyQ"
      },
      "source": [
        "import io\n",
        "HF = pd.read_csv(io.BytesIO(HF[\"heart_failure_clinical_records_dataset.csv\"]))"
      ],
      "execution_count": 114,
      "outputs": []
    },
    {
      "cell_type": "code",
      "metadata": {
        "id": "n_XOBc4JMd_V",
        "colab": {
          "base_uri": "https://localhost:8080/"
        },
        "outputId": "bb7334c5-4474-4592-c22f-5ff1c303f903"
      },
      "source": [
        "pip install plotly"
      ],
      "execution_count": 115,
      "outputs": [
        {
          "output_type": "stream",
          "text": [
            "Requirement already satisfied: plotly in /usr/local/lib/python3.7/dist-packages (4.4.1)\n",
            "Requirement already satisfied: six in /usr/local/lib/python3.7/dist-packages (from plotly) (1.15.0)\n",
            "Requirement already satisfied: retrying>=1.3.3 in /usr/local/lib/python3.7/dist-packages (from plotly) (1.3.3)\n"
          ],
          "name": "stdout"
        }
      ]
    },
    {
      "cell_type": "code",
      "metadata": {
        "id": "kUt40I6nMvrZ",
        "colab": {
          "base_uri": "https://localhost:8080/"
        },
        "outputId": "e447bf07-58ed-489f-f787-993101d5145c"
      },
      "source": [
        "pip install -U seaborn"
      ],
      "execution_count": 116,
      "outputs": [
        {
          "output_type": "stream",
          "text": [
            "Requirement already up-to-date: seaborn in /usr/local/lib/python3.7/dist-packages (0.11.1)\n",
            "Requirement already satisfied, skipping upgrade: scipy>=1.0 in /usr/local/lib/python3.7/dist-packages (from seaborn) (1.4.1)\n",
            "Requirement already satisfied, skipping upgrade: numpy>=1.15 in /usr/local/lib/python3.7/dist-packages (from seaborn) (1.19.5)\n",
            "Requirement already satisfied, skipping upgrade: pandas>=0.23 in /usr/local/lib/python3.7/dist-packages (from seaborn) (1.1.5)\n",
            "Requirement already satisfied, skipping upgrade: matplotlib>=2.2 in /usr/local/lib/python3.7/dist-packages (from seaborn) (3.2.2)\n",
            "Requirement already satisfied, skipping upgrade: python-dateutil>=2.7.3 in /usr/local/lib/python3.7/dist-packages (from pandas>=0.23->seaborn) (2.8.1)\n",
            "Requirement already satisfied, skipping upgrade: pytz>=2017.2 in /usr/local/lib/python3.7/dist-packages (from pandas>=0.23->seaborn) (2018.9)\n",
            "Requirement already satisfied, skipping upgrade: pyparsing!=2.0.4,!=2.1.2,!=2.1.6,>=2.0.1 in /usr/local/lib/python3.7/dist-packages (from matplotlib>=2.2->seaborn) (2.4.7)\n",
            "Requirement already satisfied, skipping upgrade: kiwisolver>=1.0.1 in /usr/local/lib/python3.7/dist-packages (from matplotlib>=2.2->seaborn) (1.3.1)\n",
            "Requirement already satisfied, skipping upgrade: cycler>=0.10 in /usr/local/lib/python3.7/dist-packages (from matplotlib>=2.2->seaborn) (0.10.0)\n",
            "Requirement already satisfied, skipping upgrade: six>=1.5 in /usr/local/lib/python3.7/dist-packages (from python-dateutil>=2.7.3->pandas>=0.23->seaborn) (1.15.0)\n"
          ],
          "name": "stdout"
        }
      ]
    },
    {
      "cell_type": "code",
      "metadata": {
        "id": "AbxOATMVMyMq",
        "colab": {
          "base_uri": "https://localhost:8080/"
        },
        "outputId": "93790a4a-6170-4f12-e82f-86e137677164"
      },
      "source": [
        "pip install xgboost"
      ],
      "execution_count": 117,
      "outputs": [
        {
          "output_type": "stream",
          "text": [
            "Requirement already satisfied: xgboost in /usr/local/lib/python3.7/dist-packages (0.90)\n",
            "Requirement already satisfied: numpy in /usr/local/lib/python3.7/dist-packages (from xgboost) (1.19.5)\n",
            "Requirement already satisfied: scipy in /usr/local/lib/python3.7/dist-packages (from xgboost) (1.4.1)\n"
          ],
          "name": "stdout"
        }
      ]
    },
    {
      "cell_type": "code",
      "metadata": {
        "id": "zV-wl0U9vH10",
        "colab": {
          "base_uri": "https://localhost:8080/",
          "height": 224
        },
        "outputId": "ea7391db-6df7-4022-ed6f-8d1cc2930681"
      },
      "source": [
        "HF.head()"
      ],
      "execution_count": 118,
      "outputs": [
        {
          "output_type": "execute_result",
          "data": {
            "text/html": [
              "<div>\n",
              "<style scoped>\n",
              "    .dataframe tbody tr th:only-of-type {\n",
              "        vertical-align: middle;\n",
              "    }\n",
              "\n",
              "    .dataframe tbody tr th {\n",
              "        vertical-align: top;\n",
              "    }\n",
              "\n",
              "    .dataframe thead th {\n",
              "        text-align: right;\n",
              "    }\n",
              "</style>\n",
              "<table border=\"1\" class=\"dataframe\">\n",
              "  <thead>\n",
              "    <tr style=\"text-align: right;\">\n",
              "      <th></th>\n",
              "      <th>age</th>\n",
              "      <th>anaemia</th>\n",
              "      <th>creatinine_phosphokinase</th>\n",
              "      <th>diabetes</th>\n",
              "      <th>ejection_fraction</th>\n",
              "      <th>high_blood_pressure</th>\n",
              "      <th>platelets</th>\n",
              "      <th>serum_creatinine</th>\n",
              "      <th>serum_sodium</th>\n",
              "      <th>sex</th>\n",
              "      <th>smoking</th>\n",
              "      <th>time</th>\n",
              "      <th>DEATH_EVENT</th>\n",
              "    </tr>\n",
              "  </thead>\n",
              "  <tbody>\n",
              "    <tr>\n",
              "      <th>0</th>\n",
              "      <td>75.0</td>\n",
              "      <td>0</td>\n",
              "      <td>582</td>\n",
              "      <td>0</td>\n",
              "      <td>20</td>\n",
              "      <td>1</td>\n",
              "      <td>265000.00</td>\n",
              "      <td>1.9</td>\n",
              "      <td>130</td>\n",
              "      <td>1</td>\n",
              "      <td>0</td>\n",
              "      <td>4</td>\n",
              "      <td>1</td>\n",
              "    </tr>\n",
              "    <tr>\n",
              "      <th>1</th>\n",
              "      <td>55.0</td>\n",
              "      <td>0</td>\n",
              "      <td>7861</td>\n",
              "      <td>0</td>\n",
              "      <td>38</td>\n",
              "      <td>0</td>\n",
              "      <td>263358.03</td>\n",
              "      <td>1.1</td>\n",
              "      <td>136</td>\n",
              "      <td>1</td>\n",
              "      <td>0</td>\n",
              "      <td>6</td>\n",
              "      <td>1</td>\n",
              "    </tr>\n",
              "    <tr>\n",
              "      <th>2</th>\n",
              "      <td>65.0</td>\n",
              "      <td>0</td>\n",
              "      <td>146</td>\n",
              "      <td>0</td>\n",
              "      <td>20</td>\n",
              "      <td>0</td>\n",
              "      <td>162000.00</td>\n",
              "      <td>1.3</td>\n",
              "      <td>129</td>\n",
              "      <td>1</td>\n",
              "      <td>1</td>\n",
              "      <td>7</td>\n",
              "      <td>1</td>\n",
              "    </tr>\n",
              "    <tr>\n",
              "      <th>3</th>\n",
              "      <td>50.0</td>\n",
              "      <td>1</td>\n",
              "      <td>111</td>\n",
              "      <td>0</td>\n",
              "      <td>20</td>\n",
              "      <td>0</td>\n",
              "      <td>210000.00</td>\n",
              "      <td>1.9</td>\n",
              "      <td>137</td>\n",
              "      <td>1</td>\n",
              "      <td>0</td>\n",
              "      <td>7</td>\n",
              "      <td>1</td>\n",
              "    </tr>\n",
              "    <tr>\n",
              "      <th>4</th>\n",
              "      <td>65.0</td>\n",
              "      <td>1</td>\n",
              "      <td>160</td>\n",
              "      <td>1</td>\n",
              "      <td>20</td>\n",
              "      <td>0</td>\n",
              "      <td>327000.00</td>\n",
              "      <td>2.7</td>\n",
              "      <td>116</td>\n",
              "      <td>0</td>\n",
              "      <td>0</td>\n",
              "      <td>8</td>\n",
              "      <td>1</td>\n",
              "    </tr>\n",
              "  </tbody>\n",
              "</table>\n",
              "</div>"
            ],
            "text/plain": [
              "    age  anaemia  creatinine_phosphokinase  ...  smoking  time  DEATH_EVENT\n",
              "0  75.0        0                       582  ...        0     4            1\n",
              "1  55.0        0                      7861  ...        0     6            1\n",
              "2  65.0        0                       146  ...        1     7            1\n",
              "3  50.0        1                       111  ...        0     7            1\n",
              "4  65.0        1                       160  ...        0     8            1\n",
              "\n",
              "[5 rows x 13 columns]"
            ]
          },
          "metadata": {
            "tags": []
          },
          "execution_count": 118
        }
      ]
    },
    {
      "cell_type": "code",
      "metadata": {
        "id": "9RRgENoSNrbp",
        "colab": {
          "base_uri": "https://localhost:8080/"
        },
        "outputId": "ec3bdf32-95fd-4662-972e-0d1bbc6b96c3"
      },
      "source": [
        "HF.dtypes"
      ],
      "execution_count": 119,
      "outputs": [
        {
          "output_type": "execute_result",
          "data": {
            "text/plain": [
              "age                         float64\n",
              "anaemia                       int64\n",
              "creatinine_phosphokinase      int64\n",
              "diabetes                      int64\n",
              "ejection_fraction             int64\n",
              "high_blood_pressure           int64\n",
              "platelets                   float64\n",
              "serum_creatinine            float64\n",
              "serum_sodium                  int64\n",
              "sex                           int64\n",
              "smoking                       int64\n",
              "time                          int64\n",
              "DEATH_EVENT                   int64\n",
              "dtype: object"
            ]
          },
          "metadata": {
            "tags": []
          },
          "execution_count": 119
        }
      ]
    },
    {
      "cell_type": "code",
      "metadata": {
        "id": "2yX-NR-xNwQL",
        "colab": {
          "base_uri": "https://localhost:8080/"
        },
        "outputId": "7ebb8017-32a4-4930-a3f4-86e33385504e"
      },
      "source": [
        "HF.columns"
      ],
      "execution_count": 120,
      "outputs": [
        {
          "output_type": "execute_result",
          "data": {
            "text/plain": [
              "Index(['age', 'anaemia', 'creatinine_phosphokinase', 'diabetes',\n",
              "       'ejection_fraction', 'high_blood_pressure', 'platelets',\n",
              "       'serum_creatinine', 'serum_sodium', 'sex', 'smoking', 'time',\n",
              "       'DEATH_EVENT'],\n",
              "      dtype='object')"
            ]
          },
          "metadata": {
            "tags": []
          },
          "execution_count": 120
        }
      ]
    },
    {
      "cell_type": "code",
      "metadata": {
        "id": "RDtBKnKJNwym",
        "colab": {
          "base_uri": "https://localhost:8080/"
        },
        "outputId": "708b552d-0219-4ed4-80f9-41cd62ce2b19"
      },
      "source": [
        "HF.shape"
      ],
      "execution_count": 121,
      "outputs": [
        {
          "output_type": "execute_result",
          "data": {
            "text/plain": [
              "(299, 13)"
            ]
          },
          "metadata": {
            "tags": []
          },
          "execution_count": 121
        }
      ]
    },
    {
      "cell_type": "code",
      "metadata": {
        "id": "8AGt6-ELNw8R",
        "colab": {
          "base_uri": "https://localhost:8080/"
        },
        "outputId": "995d0bea-880f-4b2b-cd41-03b17026e5c9"
      },
      "source": [
        "HF.info"
      ],
      "execution_count": 122,
      "outputs": [
        {
          "output_type": "execute_result",
          "data": {
            "text/plain": [
              "<bound method DataFrame.info of       age  anaemia  creatinine_phosphokinase  ...  smoking  time  DEATH_EVENT\n",
              "0    75.0        0                       582  ...        0     4            1\n",
              "1    55.0        0                      7861  ...        0     6            1\n",
              "2    65.0        0                       146  ...        1     7            1\n",
              "3    50.0        1                       111  ...        0     7            1\n",
              "4    65.0        1                       160  ...        0     8            1\n",
              "..    ...      ...                       ...  ...      ...   ...          ...\n",
              "294  62.0        0                        61  ...        1   270            0\n",
              "295  55.0        0                      1820  ...        0   271            0\n",
              "296  45.0        0                      2060  ...        0   278            0\n",
              "297  45.0        0                      2413  ...        1   280            0\n",
              "298  50.0        0                       196  ...        1   285            0\n",
              "\n",
              "[299 rows x 13 columns]>"
            ]
          },
          "metadata": {
            "tags": []
          },
          "execution_count": 122
        }
      ]
    },
    {
      "cell_type": "code",
      "metadata": {
        "id": "jmGaNXIuNxBu",
        "colab": {
          "base_uri": "https://localhost:8080/",
          "height": 317
        },
        "outputId": "0fabb8ae-c6e7-4805-b9f4-1f549da216b2"
      },
      "source": [
        "HF.describe()"
      ],
      "execution_count": 123,
      "outputs": [
        {
          "output_type": "execute_result",
          "data": {
            "text/html": [
              "<div>\n",
              "<style scoped>\n",
              "    .dataframe tbody tr th:only-of-type {\n",
              "        vertical-align: middle;\n",
              "    }\n",
              "\n",
              "    .dataframe tbody tr th {\n",
              "        vertical-align: top;\n",
              "    }\n",
              "\n",
              "    .dataframe thead th {\n",
              "        text-align: right;\n",
              "    }\n",
              "</style>\n",
              "<table border=\"1\" class=\"dataframe\">\n",
              "  <thead>\n",
              "    <tr style=\"text-align: right;\">\n",
              "      <th></th>\n",
              "      <th>age</th>\n",
              "      <th>anaemia</th>\n",
              "      <th>creatinine_phosphokinase</th>\n",
              "      <th>diabetes</th>\n",
              "      <th>ejection_fraction</th>\n",
              "      <th>high_blood_pressure</th>\n",
              "      <th>platelets</th>\n",
              "      <th>serum_creatinine</th>\n",
              "      <th>serum_sodium</th>\n",
              "      <th>sex</th>\n",
              "      <th>smoking</th>\n",
              "      <th>time</th>\n",
              "      <th>DEATH_EVENT</th>\n",
              "    </tr>\n",
              "  </thead>\n",
              "  <tbody>\n",
              "    <tr>\n",
              "      <th>count</th>\n",
              "      <td>299.000000</td>\n",
              "      <td>299.000000</td>\n",
              "      <td>299.000000</td>\n",
              "      <td>299.000000</td>\n",
              "      <td>299.000000</td>\n",
              "      <td>299.000000</td>\n",
              "      <td>299.000000</td>\n",
              "      <td>299.00000</td>\n",
              "      <td>299.000000</td>\n",
              "      <td>299.000000</td>\n",
              "      <td>299.00000</td>\n",
              "      <td>299.000000</td>\n",
              "      <td>299.00000</td>\n",
              "    </tr>\n",
              "    <tr>\n",
              "      <th>mean</th>\n",
              "      <td>60.833893</td>\n",
              "      <td>0.431438</td>\n",
              "      <td>581.839465</td>\n",
              "      <td>0.418060</td>\n",
              "      <td>38.083612</td>\n",
              "      <td>0.351171</td>\n",
              "      <td>263358.029264</td>\n",
              "      <td>1.39388</td>\n",
              "      <td>136.625418</td>\n",
              "      <td>0.648829</td>\n",
              "      <td>0.32107</td>\n",
              "      <td>130.260870</td>\n",
              "      <td>0.32107</td>\n",
              "    </tr>\n",
              "    <tr>\n",
              "      <th>std</th>\n",
              "      <td>11.894809</td>\n",
              "      <td>0.496107</td>\n",
              "      <td>970.287881</td>\n",
              "      <td>0.494067</td>\n",
              "      <td>11.834841</td>\n",
              "      <td>0.478136</td>\n",
              "      <td>97804.236869</td>\n",
              "      <td>1.03451</td>\n",
              "      <td>4.412477</td>\n",
              "      <td>0.478136</td>\n",
              "      <td>0.46767</td>\n",
              "      <td>77.614208</td>\n",
              "      <td>0.46767</td>\n",
              "    </tr>\n",
              "    <tr>\n",
              "      <th>min</th>\n",
              "      <td>40.000000</td>\n",
              "      <td>0.000000</td>\n",
              "      <td>23.000000</td>\n",
              "      <td>0.000000</td>\n",
              "      <td>14.000000</td>\n",
              "      <td>0.000000</td>\n",
              "      <td>25100.000000</td>\n",
              "      <td>0.50000</td>\n",
              "      <td>113.000000</td>\n",
              "      <td>0.000000</td>\n",
              "      <td>0.00000</td>\n",
              "      <td>4.000000</td>\n",
              "      <td>0.00000</td>\n",
              "    </tr>\n",
              "    <tr>\n",
              "      <th>25%</th>\n",
              "      <td>51.000000</td>\n",
              "      <td>0.000000</td>\n",
              "      <td>116.500000</td>\n",
              "      <td>0.000000</td>\n",
              "      <td>30.000000</td>\n",
              "      <td>0.000000</td>\n",
              "      <td>212500.000000</td>\n",
              "      <td>0.90000</td>\n",
              "      <td>134.000000</td>\n",
              "      <td>0.000000</td>\n",
              "      <td>0.00000</td>\n",
              "      <td>73.000000</td>\n",
              "      <td>0.00000</td>\n",
              "    </tr>\n",
              "    <tr>\n",
              "      <th>50%</th>\n",
              "      <td>60.000000</td>\n",
              "      <td>0.000000</td>\n",
              "      <td>250.000000</td>\n",
              "      <td>0.000000</td>\n",
              "      <td>38.000000</td>\n",
              "      <td>0.000000</td>\n",
              "      <td>262000.000000</td>\n",
              "      <td>1.10000</td>\n",
              "      <td>137.000000</td>\n",
              "      <td>1.000000</td>\n",
              "      <td>0.00000</td>\n",
              "      <td>115.000000</td>\n",
              "      <td>0.00000</td>\n",
              "    </tr>\n",
              "    <tr>\n",
              "      <th>75%</th>\n",
              "      <td>70.000000</td>\n",
              "      <td>1.000000</td>\n",
              "      <td>582.000000</td>\n",
              "      <td>1.000000</td>\n",
              "      <td>45.000000</td>\n",
              "      <td>1.000000</td>\n",
              "      <td>303500.000000</td>\n",
              "      <td>1.40000</td>\n",
              "      <td>140.000000</td>\n",
              "      <td>1.000000</td>\n",
              "      <td>1.00000</td>\n",
              "      <td>203.000000</td>\n",
              "      <td>1.00000</td>\n",
              "    </tr>\n",
              "    <tr>\n",
              "      <th>max</th>\n",
              "      <td>95.000000</td>\n",
              "      <td>1.000000</td>\n",
              "      <td>7861.000000</td>\n",
              "      <td>1.000000</td>\n",
              "      <td>80.000000</td>\n",
              "      <td>1.000000</td>\n",
              "      <td>850000.000000</td>\n",
              "      <td>9.40000</td>\n",
              "      <td>148.000000</td>\n",
              "      <td>1.000000</td>\n",
              "      <td>1.00000</td>\n",
              "      <td>285.000000</td>\n",
              "      <td>1.00000</td>\n",
              "    </tr>\n",
              "  </tbody>\n",
              "</table>\n",
              "</div>"
            ],
            "text/plain": [
              "              age     anaemia  ...        time  DEATH_EVENT\n",
              "count  299.000000  299.000000  ...  299.000000    299.00000\n",
              "mean    60.833893    0.431438  ...  130.260870      0.32107\n",
              "std     11.894809    0.496107  ...   77.614208      0.46767\n",
              "min     40.000000    0.000000  ...    4.000000      0.00000\n",
              "25%     51.000000    0.000000  ...   73.000000      0.00000\n",
              "50%     60.000000    0.000000  ...  115.000000      0.00000\n",
              "75%     70.000000    1.000000  ...  203.000000      1.00000\n",
              "max     95.000000    1.000000  ...  285.000000      1.00000\n",
              "\n",
              "[8 rows x 13 columns]"
            ]
          },
          "metadata": {
            "tags": []
          },
          "execution_count": 123
        }
      ]
    },
    {
      "cell_type": "code",
      "metadata": {
        "id": "d8PgSdkrNxCs",
        "colab": {
          "base_uri": "https://localhost:8080/",
          "height": 733
        },
        "outputId": "48b3f2d2-3485-4668-b668-e47026418608"
      },
      "source": [
        "plt.figure(figsize=(15,10))\n",
        "sns.heatmap(HF.corr(method='pearson'), annot=True)"
      ],
      "execution_count": 124,
      "outputs": [
        {
          "output_type": "execute_result",
          "data": {
            "text/plain": [
              "<matplotlib.axes._subplots.AxesSubplot at 0x7fb833573fd0>"
            ]
          },
          "metadata": {
            "tags": []
          },
          "execution_count": 124
        },
        {
          "output_type": "display_data",
          "data": {
            "image/png": "[encoded data removed]",
            "text/plain": [
              "<Figure size 1080x720 with 2 Axes>"
            ]
          },
          "metadata": {
            "tags": []
          }
        }
      ]
    },
    {
      "cell_type": "markdown",
      "metadata": {
        "id": "haPoeJItRnHA"
      },
      "source": [
        "## Renaming Columns"
      ]
    },
    {
      "cell_type": "code",
      "metadata": {
        "id": "b_Q8KWCANxHb"
      },
      "source": [
        "HF.rename(columns={'creatinine_phosphokinase':'CPK','high_blood_pressure':'HBP', 'ejection_fraction':'EF', 'DEATH_EVENT':'death_event'},inplace=True);\n",
        "HF.rename(columns=lambda x:x.strip().replace(' ','_'),inplace=True)"
      ],
      "execution_count": 125,
      "outputs": []
    },
    {
      "cell_type": "code",
      "metadata": {
        "id": "nUe8HiTbODhU",
        "colab": {
          "base_uri": "https://localhost:8080/"
        },
        "outputId": "dc16022e-fa90-488b-8727-350a7ec35290"
      },
      "source": [
        "HF.columns"
      ],
      "execution_count": 126,
      "outputs": [
        {
          "output_type": "execute_result",
          "data": {
            "text/plain": [
              "Index(['age', 'anaemia', 'CPK', 'diabetes', 'EF', 'HBP', 'platelets',\n",
              "       'serum_creatinine', 'serum_sodium', 'sex', 'smoking', 'time',\n",
              "       'death_event'],\n",
              "      dtype='object')"
            ]
          },
          "metadata": {
            "tags": []
          },
          "execution_count": 126
        }
      ]
    },
    {
      "cell_type": "code",
      "metadata": {
        "id": "Y89VJ5qxODiW",
        "colab": {
          "base_uri": "https://localhost:8080/",
          "height": 419
        },
        "outputId": "950c20e5-db43-4650-b381-a20f73d5a88c"
      },
      "source": [
        "#check for null values\n",
        "\n",
        "HF.isnull()"
      ],
      "execution_count": 127,
      "outputs": [
        {
          "output_type": "execute_result",
          "data": {
            "text/html": [
              "<div>\n",
              "<style scoped>\n",
              "    .dataframe tbody tr th:only-of-type {\n",
              "        vertical-align: middle;\n",
              "    }\n",
              "\n",
              "    .dataframe tbody tr th {\n",
              "        vertical-align: top;\n",
              "    }\n",
              "\n",
              "    .dataframe thead th {\n",
              "        text-align: right;\n",
              "    }\n",
              "</style>\n",
              "<table border=\"1\" class=\"dataframe\">\n",
              "  <thead>\n",
              "    <tr style=\"text-align: right;\">\n",
              "      <th></th>\n",
              "      <th>age</th>\n",
              "      <th>anaemia</th>\n",
              "      <th>CPK</th>\n",
              "      <th>diabetes</th>\n",
              "      <th>EF</th>\n",
              "      <th>HBP</th>\n",
              "      <th>platelets</th>\n",
              "      <th>serum_creatinine</th>\n",
              "      <th>serum_sodium</th>\n",
              "      <th>sex</th>\n",
              "      <th>smoking</th>\n",
              "      <th>time</th>\n",
              "      <th>death_event</th>\n",
              "    </tr>\n",
              "  </thead>\n",
              "  <tbody>\n",
              "    <tr>\n",
              "      <th>0</th>\n",
              "      <td>False</td>\n",
              "      <td>False</td>\n",
              "      <td>False</td>\n",
              "      <td>False</td>\n",
              "      <td>False</td>\n",
              "      <td>False</td>\n",
              "      <td>False</td>\n",
              "      <td>False</td>\n",
              "      <td>False</td>\n",
              "      <td>False</td>\n",
              "      <td>False</td>\n",
              "      <td>False</td>\n",
              "      <td>False</td>\n",
              "    </tr>\n",
              "    <tr>\n",
              "      <th>1</th>\n",
              "      <td>False</td>\n",
              "      <td>False</td>\n",
              "      <td>False</td>\n",
              "      <td>False</td>\n",
              "      <td>False</td>\n",
              "      <td>False</td>\n",
              "      <td>False</td>\n",
              "      <td>False</td>\n",
              "      <td>False</td>\n",
              "      <td>False</td>\n",
              "      <td>False</td>\n",
              "      <td>False</td>\n",
              "      <td>False</td>\n",
              "    </tr>\n",
              "    <tr>\n",
              "      <th>2</th>\n",
              "      <td>False</td>\n",
              "      <td>False</td>\n",
              "      <td>False</td>\n",
              "      <td>False</td>\n",
              "      <td>False</td>\n",
              "      <td>False</td>\n",
              "      <td>False</td>\n",
              "      <td>False</td>\n",
              "      <td>False</td>\n",
              "      <td>False</td>\n",
              "      <td>False</td>\n",
              "      <td>False</td>\n",
              "      <td>False</td>\n",
              "    </tr>\n",
              "    <tr>\n",
              "      <th>3</th>\n",
              "      <td>False</td>\n",
              "      <td>False</td>\n",
              "      <td>False</td>\n",
              "      <td>False</td>\n",
              "      <td>False</td>\n",
              "      <td>False</td>\n",
              "      <td>False</td>\n",
              "      <td>False</td>\n",
              "      <td>False</td>\n",
              "      <td>False</td>\n",
              "      <td>False</td>\n",
              "      <td>False</td>\n",
              "      <td>False</td>\n",
              "    </tr>\n",
              "    <tr>\n",
              "      <th>4</th>\n",
              "      <td>False</td>\n",
              "      <td>False</td>\n",
              "      <td>False</td>\n",
              "      <td>False</td>\n",
              "      <td>False</td>\n",
              "      <td>False</td>\n",
              "      <td>False</td>\n",
              "      <td>False</td>\n",
              "      <td>False</td>\n",
              "      <td>False</td>\n",
              "      <td>False</td>\n",
              "      <td>False</td>\n",
              "      <td>False</td>\n",
              "    </tr>\n",
              "    <tr>\n",
              "      <th>...</th>\n",
              "      <td>...</td>\n",
              "      <td>...</td>\n",
              "      <td>...</td>\n",
              "      <td>...</td>\n",
              "      <td>...</td>\n",
              "      <td>...</td>\n",
              "      <td>...</td>\n",
              "      <td>...</td>\n",
              "      <td>...</td>\n",
              "      <td>...</td>\n",
              "      <td>...</td>\n",
              "      <td>...</td>\n",
              "      <td>...</td>\n",
              "    </tr>\n",
              "    <tr>\n",
              "      <th>294</th>\n",
              "      <td>False</td>\n",
              "      <td>False</td>\n",
              "      <td>False</td>\n",
              "      <td>False</td>\n",
              "      <td>False</td>\n",
              "      <td>False</td>\n",
              "      <td>False</td>\n",
              "      <td>False</td>\n",
              "      <td>False</td>\n",
              "      <td>False</td>\n",
              "      <td>False</td>\n",
              "      <td>False</td>\n",
              "      <td>False</td>\n",
              "    </tr>\n",
              "    <tr>\n",
              "      <th>295</th>\n",
              "      <td>False</td>\n",
              "      <td>False</td>\n",
              "      <td>False</td>\n",
              "      <td>False</td>\n",
              "      <td>False</td>\n",
              "      <td>False</td>\n",
              "      <td>False</td>\n",
              "      <td>False</td>\n",
              "      <td>False</td>\n",
              "      <td>False</td>\n",
              "      <td>False</td>\n",
              "      <td>False</td>\n",
              "      <td>False</td>\n",
              "    </tr>\n",
              "    <tr>\n",
              "      <th>296</th>\n",
              "      <td>False</td>\n",
              "      <td>False</td>\n",
              "      <td>False</td>\n",
              "      <td>False</td>\n",
              "      <td>False</td>\n",
              "      <td>False</td>\n",
              "      <td>False</td>\n",
              "      <td>False</td>\n",
              "      <td>False</td>\n",
              "      <td>False</td>\n",
              "      <td>False</td>\n",
              "      <td>False</td>\n",
              "      <td>False</td>\n",
              "    </tr>\n",
              "    <tr>\n",
              "      <th>297</th>\n",
              "      <td>False</td>\n",
              "      <td>False</td>\n",
              "      <td>False</td>\n",
              "      <td>False</td>\n",
              "      <td>False</td>\n",
              "      <td>False</td>\n",
              "      <td>False</td>\n",
              "      <td>False</td>\n",
              "      <td>False</td>\n",
              "      <td>False</td>\n",
              "      <td>False</td>\n",
              "      <td>False</td>\n",
              "      <td>False</td>\n",
              "    </tr>\n",
              "    <tr>\n",
              "      <th>298</th>\n",
              "      <td>False</td>\n",
              "      <td>False</td>\n",
              "      <td>False</td>\n",
              "      <td>False</td>\n",
              "      <td>False</td>\n",
              "      <td>False</td>\n",
              "      <td>False</td>\n",
              "      <td>False</td>\n",
              "      <td>False</td>\n",
              "      <td>False</td>\n",
              "      <td>False</td>\n",
              "      <td>False</td>\n",
              "      <td>False</td>\n",
              "    </tr>\n",
              "  </tbody>\n",
              "</table>\n",
              "<p>299 rows × 13 columns</p>\n",
              "</div>"
            ],
            "text/plain": [
              "       age  anaemia    CPK  diabetes  ...    sex  smoking   time  death_event\n",
              "0    False    False  False     False  ...  False    False  False        False\n",
              "1    False    False  False     False  ...  False    False  False        False\n",
              "2    False    False  False     False  ...  False    False  False        False\n",
              "3    False    False  False     False  ...  False    False  False        False\n",
              "4    False    False  False     False  ...  False    False  False        False\n",
              "..     ...      ...    ...       ...  ...    ...      ...    ...          ...\n",
              "294  False    False  False     False  ...  False    False  False        False\n",
              "295  False    False  False     False  ...  False    False  False        False\n",
              "296  False    False  False     False  ...  False    False  False        False\n",
              "297  False    False  False     False  ...  False    False  False        False\n",
              "298  False    False  False     False  ...  False    False  False        False\n",
              "\n",
              "[299 rows x 13 columns]"
            ]
          },
          "metadata": {
            "tags": []
          },
          "execution_count": 127
        }
      ]
    },
    {
      "cell_type": "code",
      "metadata": {
        "id": "6QcHUL2WODm0",
        "colab": {
          "base_uri": "https://localhost:8080/"
        },
        "outputId": "429fc752-34ea-4a57-dfa5-fc4531d48a0a"
      },
      "source": [
        "HF.isnull().sum()"
      ],
      "execution_count": 128,
      "outputs": [
        {
          "output_type": "execute_result",
          "data": {
            "text/plain": [
              "age                 0\n",
              "anaemia             0\n",
              "CPK                 0\n",
              "diabetes            0\n",
              "EF                  0\n",
              "HBP                 0\n",
              "platelets           0\n",
              "serum_creatinine    0\n",
              "serum_sodium        0\n",
              "sex                 0\n",
              "smoking             0\n",
              "time                0\n",
              "death_event         0\n",
              "dtype: int64"
            ]
          },
          "metadata": {
            "tags": []
          },
          "execution_count": 128
        }
      ]
    },
    {
      "cell_type": "code",
      "metadata": {
        "id": "RIP3qYavODvE",
        "colab": {
          "base_uri": "https://localhost:8080/"
        },
        "outputId": "4b2d5397-ca80-462a-8d4b-84e89c5731e8"
      },
      "source": [
        "#Check for duplicated values\n",
        "\n",
        "HF.duplicated()"
      ],
      "execution_count": 129,
      "outputs": [
        {
          "output_type": "execute_result",
          "data": {
            "text/plain": [
              "0      False\n",
              "1      False\n",
              "2      False\n",
              "3      False\n",
              "4      False\n",
              "       ...  \n",
              "294    False\n",
              "295    False\n",
              "296    False\n",
              "297    False\n",
              "298    False\n",
              "Length: 299, dtype: bool"
            ]
          },
          "metadata": {
            "tags": []
          },
          "execution_count": 129
        }
      ]
    },
    {
      "cell_type": "code",
      "metadata": {
        "id": "DwWrjsKuODwA",
        "colab": {
          "base_uri": "https://localhost:8080/"
        },
        "outputId": "679f15be-d22f-4347-ab99-b62dd93c8acd"
      },
      "source": [
        "HF.duplicated().sum()"
      ],
      "execution_count": 130,
      "outputs": [
        {
          "output_type": "execute_result",
          "data": {
            "text/plain": [
              "0"
            ]
          },
          "metadata": {
            "tags": []
          },
          "execution_count": 130
        }
      ]
    },
    {
      "cell_type": "code",
      "metadata": {
        "id": "lQD1HzysODz-",
        "colab": {
          "base_uri": "https://localhost:8080/",
          "height": 419
        },
        "outputId": "92199a62-e853-4ed5-af67-1041e0c96684"
      },
      "source": [
        "HF.drop_duplicates(subset=None, keep='first', inplace=False)"
      ],
      "execution_count": 131,
      "outputs": [
        {
          "output_type": "execute_result",
          "data": {
            "text/html": [
              "<div>\n",
              "<style scoped>\n",
              "    .dataframe tbody tr th:only-of-type {\n",
              "        vertical-align: middle;\n",
              "    }\n",
              "\n",
              "    .dataframe tbody tr th {\n",
              "        vertical-align: top;\n",
              "    }\n",
              "\n",
              "    .dataframe thead th {\n",
              "        text-align: right;\n",
              "    }\n",
              "</style>\n",
              "<table border=\"1\" class=\"dataframe\">\n",
              "  <thead>\n",
              "    <tr style=\"text-align: right;\">\n",
              "      <th></th>\n",
              "      <th>age</th>\n",
              "      <th>anaemia</th>\n",
              "      <th>CPK</th>\n",
              "      <th>diabetes</th>\n",
              "      <th>EF</th>\n",
              "      <th>HBP</th>\n",
              "      <th>platelets</th>\n",
              "      <th>serum_creatinine</th>\n",
              "      <th>serum_sodium</th>\n",
              "      <th>sex</th>\n",
              "      <th>smoking</th>\n",
              "      <th>time</th>\n",
              "      <th>death_event</th>\n",
              "    </tr>\n",
              "  </thead>\n",
              "  <tbody>\n",
              "    <tr>\n",
              "      <th>0</th>\n",
              "      <td>75.0</td>\n",
              "      <td>0</td>\n",
              "      <td>582</td>\n",
              "      <td>0</td>\n",
              "      <td>20</td>\n",
              "      <td>1</td>\n",
              "      <td>265000.00</td>\n",
              "      <td>1.9</td>\n",
              "      <td>130</td>\n",
              "      <td>1</td>\n",
              "      <td>0</td>\n",
              "      <td>4</td>\n",
              "      <td>1</td>\n",
              "    </tr>\n",
              "    <tr>\n",
              "      <th>1</th>\n",
              "      <td>55.0</td>\n",
              "      <td>0</td>\n",
              "      <td>7861</td>\n",
              "      <td>0</td>\n",
              "      <td>38</td>\n",
              "      <td>0</td>\n",
              "      <td>263358.03</td>\n",
              "      <td>1.1</td>\n",
              "      <td>136</td>\n",
              "      <td>1</td>\n",
              "      <td>0</td>\n",
              "      <td>6</td>\n",
              "      <td>1</td>\n",
              "    </tr>\n",
              "    <tr>\n",
              "      <th>2</th>\n",
              "      <td>65.0</td>\n",
              "      <td>0</td>\n",
              "      <td>146</td>\n",
              "      <td>0</td>\n",
              "      <td>20</td>\n",
              "      <td>0</td>\n",
              "      <td>162000.00</td>\n",
              "      <td>1.3</td>\n",
              "      <td>129</td>\n",
              "      <td>1</td>\n",
              "      <td>1</td>\n",
              "      <td>7</td>\n",
              "      <td>1</td>\n",
              "    </tr>\n",
              "    <tr>\n",
              "      <th>3</th>\n",
              "      <td>50.0</td>\n",
              "      <td>1</td>\n",
              "      <td>111</td>\n",
              "      <td>0</td>\n",
              "      <td>20</td>\n",
              "      <td>0</td>\n",
              "      <td>210000.00</td>\n",
              "      <td>1.9</td>\n",
              "      <td>137</td>\n",
              "      <td>1</td>\n",
              "      <td>0</td>\n",
              "      <td>7</td>\n",
              "      <td>1</td>\n",
              "    </tr>\n",
              "    <tr>\n",
              "      <th>4</th>\n",
              "      <td>65.0</td>\n",
              "      <td>1</td>\n",
              "      <td>160</td>\n",
              "      <td>1</td>\n",
              "      <td>20</td>\n",
              "      <td>0</td>\n",
              "      <td>327000.00</td>\n",
              "      <td>2.7</td>\n",
              "      <td>116</td>\n",
              "      <td>0</td>\n",
              "      <td>0</td>\n",
              "      <td>8</td>\n",
              "      <td>1</td>\n",
              "    </tr>\n",
              "    <tr>\n",
              "      <th>...</th>\n",
              "      <td>...</td>\n",
              "      <td>...</td>\n",
              "      <td>...</td>\n",
              "      <td>...</td>\n",
              "      <td>...</td>\n",
              "      <td>...</td>\n",
              "      <td>...</td>\n",
              "      <td>...</td>\n",
              "      <td>...</td>\n",
              "      <td>...</td>\n",
              "      <td>...</td>\n",
              "      <td>...</td>\n",
              "      <td>...</td>\n",
              "    </tr>\n",
              "    <tr>\n",
              "      <th>294</th>\n",
              "      <td>62.0</td>\n",
              "      <td>0</td>\n",
              "      <td>61</td>\n",
              "      <td>1</td>\n",
              "      <td>38</td>\n",
              "      <td>1</td>\n",
              "      <td>155000.00</td>\n",
              "      <td>1.1</td>\n",
              "      <td>143</td>\n",
              "      <td>1</td>\n",
              "      <td>1</td>\n",
              "      <td>270</td>\n",
              "      <td>0</td>\n",
              "    </tr>\n",
              "    <tr>\n",
              "      <th>295</th>\n",
              "      <td>55.0</td>\n",
              "      <td>0</td>\n",
              "      <td>1820</td>\n",
              "      <td>0</td>\n",
              "      <td>38</td>\n",
              "      <td>0</td>\n",
              "      <td>270000.00</td>\n",
              "      <td>1.2</td>\n",
              "      <td>139</td>\n",
              "      <td>0</td>\n",
              "      <td>0</td>\n",
              "      <td>271</td>\n",
              "      <td>0</td>\n",
              "    </tr>\n",
              "    <tr>\n",
              "      <th>296</th>\n",
              "      <td>45.0</td>\n",
              "      <td>0</td>\n",
              "      <td>2060</td>\n",
              "      <td>1</td>\n",
              "      <td>60</td>\n",
              "      <td>0</td>\n",
              "      <td>742000.00</td>\n",
              "      <td>0.8</td>\n",
              "      <td>138</td>\n",
              "      <td>0</td>\n",
              "      <td>0</td>\n",
              "      <td>278</td>\n",
              "      <td>0</td>\n",
              "    </tr>\n",
              "    <tr>\n",
              "      <th>297</th>\n",
              "      <td>45.0</td>\n",
              "      <td>0</td>\n",
              "      <td>2413</td>\n",
              "      <td>0</td>\n",
              "      <td>38</td>\n",
              "      <td>0</td>\n",
              "      <td>140000.00</td>\n",
              "      <td>1.4</td>\n",
              "      <td>140</td>\n",
              "      <td>1</td>\n",
              "      <td>1</td>\n",
              "      <td>280</td>\n",
              "      <td>0</td>\n",
              "    </tr>\n",
              "    <tr>\n",
              "      <th>298</th>\n",
              "      <td>50.0</td>\n",
              "      <td>0</td>\n",
              "      <td>196</td>\n",
              "      <td>0</td>\n",
              "      <td>45</td>\n",
              "      <td>0</td>\n",
              "      <td>395000.00</td>\n",
              "      <td>1.6</td>\n",
              "      <td>136</td>\n",
              "      <td>1</td>\n",
              "      <td>1</td>\n",
              "      <td>285</td>\n",
              "      <td>0</td>\n",
              "    </tr>\n",
              "  </tbody>\n",
              "</table>\n",
              "<p>299 rows × 13 columns</p>\n",
              "</div>"
            ],
            "text/plain": [
              "      age  anaemia   CPK  diabetes  ...  sex  smoking  time  death_event\n",
              "0    75.0        0   582         0  ...    1        0     4            1\n",
              "1    55.0        0  7861         0  ...    1        0     6            1\n",
              "2    65.0        0   146         0  ...    1        1     7            1\n",
              "3    50.0        1   111         0  ...    1        0     7            1\n",
              "4    65.0        1   160         1  ...    0        0     8            1\n",
              "..    ...      ...   ...       ...  ...  ...      ...   ...          ...\n",
              "294  62.0        0    61         1  ...    1        1   270            0\n",
              "295  55.0        0  1820         0  ...    0        0   271            0\n",
              "296  45.0        0  2060         1  ...    0        0   278            0\n",
              "297  45.0        0  2413         0  ...    1        1   280            0\n",
              "298  50.0        0   196         0  ...    1        1   285            0\n",
              "\n",
              "[299 rows x 13 columns]"
            ]
          },
          "metadata": {
            "tags": []
          },
          "execution_count": 131
        }
      ]
    },
    {
      "cell_type": "code",
      "metadata": {
        "id": "zUDH6eWvOD1C",
        "colab": {
          "base_uri": "https://localhost:8080/"
        },
        "outputId": "090dedc3-7ced-4265-c410-dc97f1d48f7d"
      },
      "source": [
        "HF.nunique()"
      ],
      "execution_count": 132,
      "outputs": [
        {
          "output_type": "execute_result",
          "data": {
            "text/plain": [
              "age                  47\n",
              "anaemia               2\n",
              "CPK                 208\n",
              "diabetes              2\n",
              "EF                   17\n",
              "HBP                   2\n",
              "platelets           176\n",
              "serum_creatinine     40\n",
              "serum_sodium         27\n",
              "sex                   2\n",
              "smoking               2\n",
              "time                148\n",
              "death_event           2\n",
              "dtype: int64"
            ]
          },
          "metadata": {
            "tags": []
          },
          "execution_count": 132
        }
      ]
    },
    {
      "cell_type": "markdown",
      "metadata": {
        "id": "xo3C7XvGQ5jG"
      },
      "source": [
        "## Exploratory Data Analysis"
      ]
    },
    {
      "cell_type": "markdown",
      "metadata": {
        "id": "n0PRWL03RJOJ"
      },
      "source": [
        "**The Target Column Is The** **Death** **Event** **Column**\n",
        "\n",
        "\n",
        "Death Event Column"
      ]
    },
    {
      "cell_type": "code",
      "metadata": {
        "id": "xF9F2pCLOD4d",
        "colab": {
          "base_uri": "https://localhost:8080/",
          "height": 842
        },
        "outputId": "7e3ba2a7-5c26-4d69-96da-005095d19c6a"
      },
      "source": [
        "plt.figure(figsize = (12, 7))\n",
        "\n",
        "sns.countplot(y = 'death_event', data = HF)\n",
        "plt.show()\n",
        "\n",
        "values = HF['death_event'].value_counts()\n",
        "labels = ['Survived', 'Dead']\n",
        "\n",
        "fig, ax = plt.subplots(figsize = (5, 5), dpi = 100)\n",
        "explode = (0, 0.06)\n",
        "\n",
        "patches, texts, autotexts = ax.pie(values, labels = labels, autopct = '%1.2f%%', shadow = True,\n",
        "                                   startangle = 90, explode = explode)\n",
        "\n",
        "plt.setp(texts, color = 'grey')\n",
        "plt.setp(autotexts, size = 12, color = 'white')\n",
        "autotexts[1].set_color('black')\n",
        "plt.show()"
      ],
      "execution_count": 133,
      "outputs": [
        {
          "output_type": "display_data",
          "data": {
            "image/png": "[encoded data removed]",
            "text/plain": [
              "<Figure size 864x504 with 1 Axes>"
            ]
          },
          "metadata": {
            "tags": []
          }
        },
        {
          "output_type": "display_data",
          "data": {
            "image/png": "[encoded data removed]",
            "text/plain": [
              "<Figure size 500x500 with 1 Axes>"
            ]
          },
          "metadata": {
            "tags": []
          }
        }
      ]
    },
    {
      "cell_type": "markdown",
      "metadata": {
        "id": "21RetFGsSc-o"
      },
      "source": [
        "**ALL CONTINOUS VALUE**S"
      ]
    },
    {
      "cell_type": "markdown",
      "metadata": {
        "id": "cjozAY70SZF2"
      },
      "source": [
        "Age Column"
      ]
    },
    {
      "cell_type": "code",
      "metadata": {
        "id": "XECnCvEaOD-t",
        "colab": {
          "base_uri": "https://localhost:8080/",
          "height": 676
        },
        "outputId": "1425a855-7280-41ad-d22b-4fec059be8bc"
      },
      "source": [
        "plt.figure(figsize = (15, 6))\n",
        "plt.style.use('ggplot')\n",
        "\n",
        "sns.distplot(HF['age'])\n",
        "plt.show()\n",
        "\n",
        "#Check for outliers\n",
        "sns.boxplot(HF['age'])\n",
        "\n"
      ],
      "execution_count": 134,
      "outputs": [
        {
          "output_type": "display_data",
          "data": {
            "image/png": "[encoded data removed]",
            "text/plain": [
              "<Figure size 1080x432 with 1 Axes>"
            ]
          },
          "metadata": {
            "tags": []
          }
        },
        {
          "output_type": "execute_result",
          "data": {
            "text/plain": [
              "<matplotlib.axes._subplots.AxesSubplot at 0x7fb83332fcd0>"
            ]
          },
          "metadata": {
            "tags": []
          },
          "execution_count": 134
        },
        {
          "output_type": "display_data",
          "data": {
            "image/png": "[encoded data removed]",
            "text/plain": [
              "<Figure size 432x288 with 1 Axes>"
            ]
          },
          "metadata": {
            "tags": []
          }
        }
      ]
    },
    {
      "cell_type": "markdown",
      "metadata": {
        "id": "NCZyNCtYbkud"
      },
      "source": [
        "CPK"
      ]
    },
    {
      "cell_type": "code",
      "metadata": {
        "id": "VcD9bkuVNxIk",
        "colab": {
          "base_uri": "https://localhost:8080/",
          "height": 300
        },
        "outputId": "db52590c-d156-4b33-9780-3a5257aef5c5"
      },
      "source": [
        "sns.kdeplot(\n",
        "   data=HF, x=\"CPK\", hue=\"death_event\",\n",
        "   fill=True, common_norm=False, palette=\"rocket\",\n",
        "   alpha=.5, linewidth=0,\n",
        ")\n"
      ],
      "execution_count": 135,
      "outputs": [
        {
          "output_type": "execute_result",
          "data": {
            "text/plain": [
              "<matplotlib.axes._subplots.AxesSubplot at 0x7fb83351c610>"
            ]
          },
          "metadata": {
            "tags": []
          },
          "execution_count": 135
        },
        {
          "output_type": "display_data",
          "data": {
            "image/png": "[encoded data removed]",
            "text/plain": [
              "<Figure size 432x288 with 1 Axes>"
            ]
          },
          "metadata": {
            "tags": []
          }
        }
      ]
    },
    {
      "cell_type": "code",
      "metadata": {
        "id": "vUWNMDDAS4_W",
        "colab": {
          "base_uri": "https://localhost:8080/",
          "height": 299
        },
        "outputId": "1f9a9c46-909e-4ff0-c2c5-d6f9edae565b"
      },
      "source": [
        "#Check for outliers\n",
        "\n",
        "sns.boxplot(HF['CPK'])"
      ],
      "execution_count": 136,
      "outputs": [
        {
          "output_type": "execute_result",
          "data": {
            "text/plain": [
              "<matplotlib.axes._subplots.AxesSubplot at 0x7fb833510f10>"
            ]
          },
          "metadata": {
            "tags": []
          },
          "execution_count": 136
        },
        {
          "output_type": "display_data",
          "data": {
            "image/png": "[encoded data removed]",
            "text/plain": [
              "<Figure size 432x288 with 1 Axes>"
            ]
          },
          "metadata": {
            "tags": []
          }
        }
      ]
    },
    {
      "cell_type": "markdown",
      "metadata": {
        "id": "O7DRPZQebGw2"
      },
      "source": [
        "Ejection Fraction (EF)"
      ]
    },
    {
      "cell_type": "code",
      "metadata": {
        "id": "5R_9_MBvax_H",
        "colab": {
          "base_uri": "https://localhost:8080/",
          "height": 299
        },
        "outputId": "e8685145-fbd1-43e9-edf9-2be1c1e39137"
      },
      "source": [
        "sns.kdeplot(\n",
        "   data=HF, x=\"EF\", hue=\"death_event\",\n",
        "   fill=True, common_norm=False, palette=\"viridis\",\n",
        "   alpha=.5, linewidth=0,\n",
        ")"
      ],
      "execution_count": 137,
      "outputs": [
        {
          "output_type": "execute_result",
          "data": {
            "text/plain": [
              "<matplotlib.axes._subplots.AxesSubplot at 0x7fb84177f4d0>"
            ]
          },
          "metadata": {
            "tags": []
          },
          "execution_count": 137
        },
        {
          "output_type": "display_data",
          "data": {
            "image/png": "[encoded data removed]",
            "text/plain": [
              "<Figure size 432x288 with 1 Axes>"
            ]
          },
          "metadata": {
            "tags": []
          }
        }
      ]
    },
    {
      "cell_type": "code",
      "metadata": {
        "id": "yaSQdgHUa7uc",
        "colab": {
          "base_uri": "https://localhost:8080/",
          "height": 299
        },
        "outputId": "4d92d997-4276-49c0-99c0-14d0df885cd6"
      },
      "source": [
        "#Check for outliers\n",
        "\n",
        "sns.boxplot(HF['EF'])"
      ],
      "execution_count": 138,
      "outputs": [
        {
          "output_type": "execute_result",
          "data": {
            "text/plain": [
              "<matplotlib.axes._subplots.AxesSubplot at 0x7fb8418188d0>"
            ]
          },
          "metadata": {
            "tags": []
          },
          "execution_count": 138
        },
        {
          "output_type": "display_data",
          "data": {
            "image/png": "[encoded data removed]",
            "text/plain": [
              "<Figure size 432x288 with 1 Axes>"
            ]
          },
          "metadata": {
            "tags": []
          }
        }
      ]
    },
    {
      "cell_type": "markdown",
      "metadata": {
        "id": "uHVYkHtubL78"
      },
      "source": [
        "Platelets"
      ]
    },
    {
      "cell_type": "code",
      "metadata": {
        "id": "QHu0BAbATLUM",
        "colab": {
          "base_uri": "https://localhost:8080/",
          "height": 310
        },
        "outputId": "6af96b5e-3afe-4a14-bbf9-dbc519a22118"
      },
      "source": [
        "sns.kdeplot(\n",
        "   data=HF, x=\"platelets\", hue=\"death_event\",\n",
        "   fill=True, common_norm=False, palette=\"magma\",\n",
        "   alpha=.5, linewidth=0,\n",
        ")"
      ],
      "execution_count": 139,
      "outputs": [
        {
          "output_type": "execute_result",
          "data": {
            "text/plain": [
              "<matplotlib.axes._subplots.AxesSubplot at 0x7fb84316f0d0>"
            ]
          },
          "metadata": {
            "tags": []
          },
          "execution_count": 139
        },
        {
          "output_type": "display_data",
          "data": {
            "image/png": "[encoded data removed]",
            "text/plain": [
              "<Figure size 432x288 with 1 Axes>"
            ]
          },
          "metadata": {
            "tags": []
          }
        }
      ]
    },
    {
      "cell_type": "code",
      "metadata": {
        "id": "hgaEAPjPT3fK",
        "colab": {
          "base_uri": "https://localhost:8080/",
          "height": 299
        },
        "outputId": "8dccfcda-4341-4d44-86fb-42aa8c20fd0e"
      },
      "source": [
        "#Check for outliers\n",
        "\n",
        "sns.boxplot(HF['platelets'])"
      ],
      "execution_count": 140,
      "outputs": [
        {
          "output_type": "execute_result",
          "data": {
            "text/plain": [
              "<matplotlib.axes._subplots.AxesSubplot at 0x7fb84c9b4190>"
            ]
          },
          "metadata": {
            "tags": []
          },
          "execution_count": 140
        },
        {
          "output_type": "display_data",
          "data": {
            "image/png": "[encoded data removed]",
            "text/plain": [
              "<Figure size 432x288 with 1 Axes>"
            ]
          },
          "metadata": {
            "tags": []
          }
        }
      ]
    },
    {
      "cell_type": "markdown",
      "metadata": {
        "id": "e-89jcT1bRD_"
      },
      "source": [
        "Serum Sodium"
      ]
    },
    {
      "cell_type": "code",
      "metadata": {
        "id": "UaSbtX2BUK9K",
        "colab": {
          "base_uri": "https://localhost:8080/",
          "height": 299
        },
        "outputId": "24c2dc7e-e369-454e-f864-bbc99b83716d"
      },
      "source": [
        "sns.kdeplot(\n",
        "   data=HF, x=\"serum_sodium\", hue=\"death_event\",\n",
        "   fill=True, common_norm=False, palette=\"rocket\",\n",
        "   alpha=.5, linewidth=0,\n",
        ")"
      ],
      "execution_count": 141,
      "outputs": [
        {
          "output_type": "execute_result",
          "data": {
            "text/plain": [
              "<matplotlib.axes._subplots.AxesSubplot at 0x7fb8446f5610>"
            ]
          },
          "metadata": {
            "tags": []
          },
          "execution_count": 141
        },
        {
          "output_type": "display_data",
          "data": {
            "image/png": "[encoded data removed]",
            "text/plain": [
              "<Figure size 432x288 with 1 Axes>"
            ]
          },
          "metadata": {
            "tags": []
          }
        }
      ]
    },
    {
      "cell_type": "code",
      "metadata": {
        "id": "PRoBsKJCUfwS",
        "colab": {
          "base_uri": "https://localhost:8080/",
          "height": 299
        },
        "outputId": "700e8a6a-aa3f-4fcf-b6ae-e5bb2be71364"
      },
      "source": [
        "#Check for outliers\n",
        "\n",
        "sns.boxplot(HF['serum_sodium'])"
      ],
      "execution_count": 142,
      "outputs": [
        {
          "output_type": "execute_result",
          "data": {
            "text/plain": [
              "<matplotlib.axes._subplots.AxesSubplot at 0x7fb84182d710>"
            ]
          },
          "metadata": {
            "tags": []
          },
          "execution_count": 142
        },
        {
          "output_type": "display_data",
          "data": {
            "image/png": "[encoded data removed]",
            "text/plain": [
              "<Figure size 432x288 with 1 Axes>"
            ]
          },
          "metadata": {
            "tags": []
          }
        }
      ]
    },
    {
      "cell_type": "markdown",
      "metadata": {
        "id": "8Z42aeekbXq-"
      },
      "source": [
        "Serum Creatinine"
      ]
    },
    {
      "cell_type": "code",
      "metadata": {
        "id": "8iVmXR_pUXZH",
        "colab": {
          "base_uri": "https://localhost:8080/",
          "height": 299
        },
        "outputId": "f9368108-558b-46e8-d038-ee27f63cd879"
      },
      "source": [
        "sns.kdeplot(\n",
        "   data=HF, x=\"serum_creatinine\", hue=\"death_event\",\n",
        "   fill=True, common_norm=False, palette=\"mako\",\n",
        "   alpha=.5, linewidth=0,\n",
        ")"
      ],
      "execution_count": 143,
      "outputs": [
        {
          "output_type": "execute_result",
          "data": {
            "text/plain": [
              "<matplotlib.axes._subplots.AxesSubplot at 0x7fb84177fb90>"
            ]
          },
          "metadata": {
            "tags": []
          },
          "execution_count": 143
        },
        {
          "output_type": "display_data",
          "data": {
            "image/png": "[encoded data removed]",
            "text/plain": [
              "<Figure size 432x288 with 1 Axes>"
            ]
          },
          "metadata": {
            "tags": []
          }
        }
      ]
    },
    {
      "cell_type": "code",
      "metadata": {
        "id": "FzDTBUa6Umol",
        "colab": {
          "base_uri": "https://localhost:8080/",
          "height": 299
        },
        "outputId": "ea5abdf5-1993-48ac-bdf5-f683feef32df"
      },
      "source": [
        "#Check for outliers\n",
        "\n",
        "sns.boxplot(HF['serum_creatinine'])"
      ],
      "execution_count": 144,
      "outputs": [
        {
          "output_type": "execute_result",
          "data": {
            "text/plain": [
              "<matplotlib.axes._subplots.AxesSubplot at 0x7fb84c9f9b50>"
            ]
          },
          "metadata": {
            "tags": []
          },
          "execution_count": 144
        },
        {
          "output_type": "display_data",
          "data": {
            "image/png": "[encoded data removed]",
            "text/plain": [
              "<Figure size 432x288 with 1 Axes>"
            ]
          },
          "metadata": {
            "tags": []
          }
        }
      ]
    },
    {
      "cell_type": "markdown",
      "metadata": {
        "id": "UjfmoYUXbdWE"
      },
      "source": [
        "Time"
      ]
    },
    {
      "cell_type": "code",
      "metadata": {
        "id": "00XkamqWUzRE",
        "colab": {
          "base_uri": "https://localhost:8080/",
          "height": 299
        },
        "outputId": "d0e7fb71-b4b9-4b45-80c4-3c4301173d6b"
      },
      "source": [
        "sns.kdeplot(\n",
        "   data=HF, x=\"time\", hue=\"death_event\",\n",
        "   fill=True, common_norm=False, palette=\"flare\",\n",
        "   alpha=.5, linewidth=0,\n",
        ")"
      ],
      "execution_count": 145,
      "outputs": [
        {
          "output_type": "execute_result",
          "data": {
            "text/plain": [
              "<matplotlib.axes._subplots.AxesSubplot at 0x7fb8330ffcd0>"
            ]
          },
          "metadata": {
            "tags": []
          },
          "execution_count": 145
        },
        {
          "output_type": "display_data",
          "data": {
            "image/png": "[encoded data removed]",
            "text/plain": [
              "<Figure size 432x288 with 1 Axes>"
            ]
          },
          "metadata": {
            "tags": []
          }
        }
      ]
    },
    {
      "cell_type": "code",
      "metadata": {
        "id": "kcvKojTZU8Ij",
        "colab": {
          "base_uri": "https://localhost:8080/",
          "height": 299
        },
        "outputId": "5bf3868c-75d6-4246-c539-dcfa320d20a8"
      },
      "source": [
        "#Check for outliers\n",
        "\n",
        "sns.boxplot(HF['time'])"
      ],
      "execution_count": 146,
      "outputs": [
        {
          "output_type": "execute_result",
          "data": {
            "text/plain": [
              "<matplotlib.axes._subplots.AxesSubplot at 0x7fb833065f10>"
            ]
          },
          "metadata": {
            "tags": []
          },
          "execution_count": 146
        },
        {
          "output_type": "display_data",
          "data": {
            "image/png": "[encoded data removed]",
            "text/plain": [
              "<Figure size 432x288 with 1 Axes>"
            ]
          },
          "metadata": {
            "tags": []
          }
        }
      ]
    },
    {
      "cell_type": "markdown",
      "metadata": {
        "id": "8-Bk7lzsVOPP"
      },
      "source": [
        "**ALL BOOLEAN VALUES**"
      ]
    },
    {
      "cell_type": "markdown",
      "metadata": {
        "id": "2mLlmgUcVOnL"
      },
      "source": [
        "Anaemia"
      ]
    },
    {
      "cell_type": "code",
      "metadata": {
        "id": "u-8CDIwjXN09",
        "colab": {
          "base_uri": "https://localhost:8080/"
        },
        "outputId": "fb64a9ac-7826-4ee2-acc4-44e552a3d2cd"
      },
      "source": [
        "(HF['anaemia'].value_counts()/sum(HF['anaemia'].value_counts()))*100"
      ],
      "execution_count": 147,
      "outputs": [
        {
          "output_type": "execute_result",
          "data": {
            "text/plain": [
              "0    56.856187\n",
              "1    43.143813\n",
              "Name: anaemia, dtype: float64"
            ]
          },
          "metadata": {
            "tags": []
          },
          "execution_count": 147
        }
      ]
    },
    {
      "cell_type": "code",
      "metadata": {
        "id": "gfuZHCUwXJzU",
        "colab": {
          "base_uri": "https://localhost:8080/"
        },
        "outputId": "bf2f8a1c-1e2b-4b1f-f48f-e7e1d05be776"
      },
      "source": [
        "HF.anaemia.value_counts()"
      ],
      "execution_count": 148,
      "outputs": [
        {
          "output_type": "execute_result",
          "data": {
            "text/plain": [
              "0    170\n",
              "1    129\n",
              "Name: anaemia, dtype: int64"
            ]
          },
          "metadata": {
            "tags": []
          },
          "execution_count": 148
        }
      ]
    },
    {
      "cell_type": "code",
      "metadata": {
        "id": "Zv4WoUtvV0b5",
        "colab": {
          "base_uri": "https://localhost:8080/"
        },
        "outputId": "517c71cd-1759-448b-b304-3cdae83dfddf"
      },
      "source": [
        "HF.groupby(['anaemia', 'death_event'])['death_event'].count()"
      ],
      "execution_count": 149,
      "outputs": [
        {
          "output_type": "execute_result",
          "data": {
            "text/plain": [
              "anaemia  death_event\n",
              "0        0              120\n",
              "         1               50\n",
              "1        0               83\n",
              "         1               46\n",
              "Name: death_event, dtype: int64"
            ]
          },
          "metadata": {
            "tags": []
          },
          "execution_count": 149
        }
      ]
    },
    {
      "cell_type": "code",
      "metadata": {
        "id": "zM6Z07GdVLDJ",
        "colab": {
          "base_uri": "https://localhost:8080/",
          "height": 500
        },
        "outputId": "de81d490-73a8-4ece-aab9-cbaf94143661"
      },
      "source": [
        "plt.figure(figsize = (16, 8))\n",
        "\n",
        "sns.countplot('anaemia', hue = 'death_event', data = HF)\n",
        "plt.show()"
      ],
      "execution_count": 150,
      "outputs": [
        {
          "output_type": "display_data",
          "data": {
            "image/png": "[encoded data removed]",
            "text/plain": [
              "<Figure size 1152x576 with 1 Axes>"
            ]
          },
          "metadata": {
            "tags": []
          }
        }
      ]
    },
    {
      "cell_type": "markdown",
      "metadata": {
        "id": "MrocwQYCXXK5"
      },
      "source": [
        "Diabetes"
      ]
    },
    {
      "cell_type": "code",
      "metadata": {
        "id": "c-5YEOX-XWJH",
        "colab": {
          "base_uri": "https://localhost:8080/"
        },
        "outputId": "3ddb55c4-5923-4829-d3c4-352afae2cd3f"
      },
      "source": [
        "(HF['diabetes'].value_counts()/sum(HF['diabetes'].value_counts()))*100"
      ],
      "execution_count": 151,
      "outputs": [
        {
          "output_type": "execute_result",
          "data": {
            "text/plain": [
              "0    58.19398\n",
              "1    41.80602\n",
              "Name: diabetes, dtype: float64"
            ]
          },
          "metadata": {
            "tags": []
          },
          "execution_count": 151
        }
      ]
    },
    {
      "cell_type": "code",
      "metadata": {
        "id": "DGW66gj-XepY",
        "colab": {
          "base_uri": "https://localhost:8080/"
        },
        "outputId": "7ac72db2-c074-4532-f032-5430137a5f64"
      },
      "source": [
        "HF.diabetes.value_counts()"
      ],
      "execution_count": 152,
      "outputs": [
        {
          "output_type": "execute_result",
          "data": {
            "text/plain": [
              "0    174\n",
              "1    125\n",
              "Name: diabetes, dtype: int64"
            ]
          },
          "metadata": {
            "tags": []
          },
          "execution_count": 152
        }
      ]
    },
    {
      "cell_type": "code",
      "metadata": {
        "id": "Lr9hwFSYXhiR",
        "colab": {
          "base_uri": "https://localhost:8080/"
        },
        "outputId": "dbd33017-329c-4822-8a0e-2197b42c3224"
      },
      "source": [
        "HF.groupby(['diabetes', 'death_event'])['death_event'].count()"
      ],
      "execution_count": 153,
      "outputs": [
        {
          "output_type": "execute_result",
          "data": {
            "text/plain": [
              "diabetes  death_event\n",
              "0         0              118\n",
              "          1               56\n",
              "1         0               85\n",
              "          1               40\n",
              "Name: death_event, dtype: int64"
            ]
          },
          "metadata": {
            "tags": []
          },
          "execution_count": 153
        }
      ]
    },
    {
      "cell_type": "code",
      "metadata": {
        "id": "6niEfqO3Xj_7",
        "colab": {
          "base_uri": "https://localhost:8080/",
          "height": 500
        },
        "outputId": "fa415a41-5ce1-487a-a87c-14d8f432deba"
      },
      "source": [
        "plt.figure(figsize = (16, 8))\n",
        "\n",
        "sns.countplot('diabetes', hue = 'death_event', data = HF)\n",
        "plt.show()"
      ],
      "execution_count": 154,
      "outputs": [
        {
          "output_type": "display_data",
          "data": {
            "image/png": "[encoded data removed]",
            "text/plain": [
              "<Figure size 1152x576 with 1 Axes>"
            ]
          },
          "metadata": {
            "tags": []
          }
        }
      ]
    },
    {
      "cell_type": "markdown",
      "metadata": {
        "id": "7zZ0Vb26YuWw"
      },
      "source": [
        "Hgh Blood Pressure (HBP)"
      ]
    },
    {
      "cell_type": "code",
      "metadata": {
        "id": "u6QKJWmFYlo_",
        "colab": {
          "base_uri": "https://localhost:8080/"
        },
        "outputId": "ca7b1ba3-9439-4d28-882f-632fa25ecaef"
      },
      "source": [
        "(HF['HBP'].value_counts()/sum(HF['HBP'].value_counts()))*100"
      ],
      "execution_count": 155,
      "outputs": [
        {
          "output_type": "execute_result",
          "data": {
            "text/plain": [
              "0    64.882943\n",
              "1    35.117057\n",
              "Name: HBP, dtype: float64"
            ]
          },
          "metadata": {
            "tags": []
          },
          "execution_count": 155
        }
      ]
    },
    {
      "cell_type": "code",
      "metadata": {
        "id": "09pEV3CcY63Y",
        "colab": {
          "base_uri": "https://localhost:8080/"
        },
        "outputId": "3a50f08b-91da-4386-b3bc-f0ebe6fef25c"
      },
      "source": [
        "HF.HBP.value_counts()"
      ],
      "execution_count": 156,
      "outputs": [
        {
          "output_type": "execute_result",
          "data": {
            "text/plain": [
              "0    194\n",
              "1    105\n",
              "Name: HBP, dtype: int64"
            ]
          },
          "metadata": {
            "tags": []
          },
          "execution_count": 156
        }
      ]
    },
    {
      "cell_type": "code",
      "metadata": {
        "id": "l3Vog9_HY_wP",
        "colab": {
          "base_uri": "https://localhost:8080/"
        },
        "outputId": "6370e134-36f8-481f-d075-d33dafe82703"
      },
      "source": [
        "HF.groupby(['HBP', 'death_event'])['death_event'].count()"
      ],
      "execution_count": 157,
      "outputs": [
        {
          "output_type": "execute_result",
          "data": {
            "text/plain": [
              "HBP  death_event\n",
              "0    0              137\n",
              "     1               57\n",
              "1    0               66\n",
              "     1               39\n",
              "Name: death_event, dtype: int64"
            ]
          },
          "metadata": {
            "tags": []
          },
          "execution_count": 157
        }
      ]
    },
    {
      "cell_type": "code",
      "metadata": {
        "id": "_C71DHeoZCpK",
        "colab": {
          "base_uri": "https://localhost:8080/",
          "height": 500
        },
        "outputId": "0c7b3e86-3f32-4e0b-bbcc-3bb84c9d653d"
      },
      "source": [
        "plt.figure(figsize = (16, 8))\n",
        "\n",
        "sns.countplot('HBP', hue = 'death_event', data = HF)\n",
        "plt.show()"
      ],
      "execution_count": 158,
      "outputs": [
        {
          "output_type": "display_data",
          "data": {
            "image/png": "[encoded data removed]",
            "text/plain": [
              "<Figure size 1152x576 with 1 Axes>"
            ]
          },
          "metadata": {
            "tags": []
          }
        }
      ]
    },
    {
      "cell_type": "markdown",
      "metadata": {
        "id": "Y8k6yMSEZe4r"
      },
      "source": [
        "Sex"
      ]
    },
    {
      "cell_type": "code",
      "metadata": {
        "id": "_T6QUA5uZCqy",
        "colab": {
          "base_uri": "https://localhost:8080/"
        },
        "outputId": "e59ab0a3-9e8a-4c64-c927-aaa9bd3a8ba1"
      },
      "source": [
        "(HF['sex'].value_counts()/sum(HF['sex'].value_counts()))*100"
      ],
      "execution_count": 159,
      "outputs": [
        {
          "output_type": "execute_result",
          "data": {
            "text/plain": [
              "1    64.882943\n",
              "0    35.117057\n",
              "Name: sex, dtype: float64"
            ]
          },
          "metadata": {
            "tags": []
          },
          "execution_count": 159
        }
      ]
    },
    {
      "cell_type": "code",
      "metadata": {
        "id": "HNmabWbnZCt4",
        "colab": {
          "base_uri": "https://localhost:8080/"
        },
        "outputId": "e9ce67fe-cea3-45bf-fdfb-48b67c8069b6"
      },
      "source": [
        "HF.sex.value_counts()"
      ],
      "execution_count": 160,
      "outputs": [
        {
          "output_type": "execute_result",
          "data": {
            "text/plain": [
              "1    194\n",
              "0    105\n",
              "Name: sex, dtype: int64"
            ]
          },
          "metadata": {
            "tags": []
          },
          "execution_count": 160
        }
      ]
    },
    {
      "cell_type": "code",
      "metadata": {
        "id": "KD1tla9ZZCv0",
        "colab": {
          "base_uri": "https://localhost:8080/"
        },
        "outputId": "8a0ee48a-2298-4f9d-9586-271961a7c949"
      },
      "source": [
        "HF.groupby(['sex', 'death_event'])['death_event'].count()"
      ],
      "execution_count": 161,
      "outputs": [
        {
          "output_type": "execute_result",
          "data": {
            "text/plain": [
              "sex  death_event\n",
              "0    0               71\n",
              "     1               34\n",
              "1    0              132\n",
              "     1               62\n",
              "Name: death_event, dtype: int64"
            ]
          },
          "metadata": {
            "tags": []
          },
          "execution_count": 161
        }
      ]
    },
    {
      "cell_type": "code",
      "metadata": {
        "id": "_FKeuwf3ZCyr",
        "colab": {
          "base_uri": "https://localhost:8080/",
          "height": 500
        },
        "outputId": "c8c51d77-15c1-47f7-a06b-536aebba3764"
      },
      "source": [
        "plt.figure(figsize = (16, 8))\n",
        "\n",
        "sns.countplot('sex', hue = 'death_event', data = HF)\n",
        "plt.show()"
      ],
      "execution_count": 162,
      "outputs": [
        {
          "output_type": "display_data",
          "data": {
            "image/png": "[encoded data removed]",
            "text/plain": [
              "<Figure size 1152x576 with 1 Axes>"
            ]
          },
          "metadata": {
            "tags": []
          }
        }
      ]
    },
    {
      "cell_type": "markdown",
      "metadata": {
        "id": "oS2VRt6Zb4sG"
      },
      "source": [
        "Smoking"
      ]
    },
    {
      "cell_type": "code",
      "metadata": {
        "id": "MyCDGL-Ub8eb",
        "colab": {
          "base_uri": "https://localhost:8080/"
        },
        "outputId": "275e52ca-2981-46ad-c3cb-92d37e97360a"
      },
      "source": [
        "(HF['smoking'].value_counts()/sum(HF['smoking'].value_counts()))*100"
      ],
      "execution_count": 163,
      "outputs": [
        {
          "output_type": "execute_result",
          "data": {
            "text/plain": [
              "0    67.892977\n",
              "1    32.107023\n",
              "Name: smoking, dtype: float64"
            ]
          },
          "metadata": {
            "tags": []
          },
          "execution_count": 163
        }
      ]
    },
    {
      "cell_type": "code",
      "metadata": {
        "id": "bbsNvnypb_Oq",
        "colab": {
          "base_uri": "https://localhost:8080/"
        },
        "outputId": "41501f40-9688-4d56-ae8b-b0bdff32c8ec"
      },
      "source": [
        "HF.smoking.value_counts()"
      ],
      "execution_count": 164,
      "outputs": [
        {
          "output_type": "execute_result",
          "data": {
            "text/plain": [
              "0    203\n",
              "1     96\n",
              "Name: smoking, dtype: int64"
            ]
          },
          "metadata": {
            "tags": []
          },
          "execution_count": 164
        }
      ]
    },
    {
      "cell_type": "code",
      "metadata": {
        "id": "Ojcy20LGcFxL",
        "colab": {
          "base_uri": "https://localhost:8080/"
        },
        "outputId": "f930e4e0-c04d-4ee8-ee7b-c07f2da6e117"
      },
      "source": [
        "HF.groupby(['smoking', 'death_event'])['death_event'].count()"
      ],
      "execution_count": 165,
      "outputs": [
        {
          "output_type": "execute_result",
          "data": {
            "text/plain": [
              "smoking  death_event\n",
              "0        0              137\n",
              "         1               66\n",
              "1        0               66\n",
              "         1               30\n",
              "Name: death_event, dtype: int64"
            ]
          },
          "metadata": {
            "tags": []
          },
          "execution_count": 165
        }
      ]
    },
    {
      "cell_type": "code",
      "metadata": {
        "id": "ZVMw7LOZcKn4",
        "colab": {
          "base_uri": "https://localhost:8080/",
          "height": 500
        },
        "outputId": "bbd7eddf-713e-418e-fe56-7b33126418f9"
      },
      "source": [
        "plt.figure(figsize = (16, 8))\n",
        "\n",
        "sns.countplot('smoking', hue = 'death_event', data = HF)\n",
        "plt.show()"
      ],
      "execution_count": 166,
      "outputs": [
        {
          "output_type": "display_data",
          "data": {
            "image/png": "[encoded data removed]",
            "text/plain": [
              "<Figure size 1152x576 with 1 Axes>"
            ]
          },
          "metadata": {
            "tags": []
          }
        }
      ]
    },
    {
      "cell_type": "markdown",
      "metadata": {
        "id": "dxhKRyyTaIxK"
      },
      "source": [
        "# **Model Building**"
      ]
    },
    {
      "cell_type": "code",
      "metadata": {
        "id": "OtSJ6DmWhZmK",
        "colab": {
          "base_uri": "https://localhost:8080/"
        },
        "outputId": "b6f05b81-8482-4111-eeed-7fb5bbf92824"
      },
      "source": [
        "outliers = ['CPK','Platelets','serum_sodium','serum_creatinine']\n",
        "def outlier_removal(HF,column):\n",
        "    q1 = HF[column].quantile(0.25)\n",
        "    q3 = HF[column].quantile(0.75)\n",
        "    iqr = q3 - q1\n",
        "    point_low = q1 - 1.5 * iqr\n",
        "    point_high = q3 + 1.5 * iqr\n",
        "    clean_HF = HF.loc[(HF[column] >  point_low) & (HF[column] <  point_high)]\n",
        "    return clean_HF\n",
        "\n",
        "# clean the dataset by removing outliers\n",
        "HF_cleaned = outlier_removal(outlier_removal(outlier_removal(HF,'CPK'),'platelets'),'serum_sodium')\n",
        "print(HF.shape)\n",
        "print(HF_cleaned.shape)"
      ],
      "execution_count": 167,
      "outputs": [
        {
          "output_type": "stream",
          "text": [
            "(299, 13)\n",
            "(247, 13)\n"
          ],
          "name": "stdout"
        }
      ]
    },
    {
      "cell_type": "code",
      "metadata": {
        "id": "HneYo8YWZC0U"
      },
      "source": [
        "X = HF.drop('death_event',axis=1)\n",
        "y = HF['death_event']"
      ],
      "execution_count": 168,
      "outputs": []
    },
    {
      "cell_type": "code",
      "metadata": {
        "id": "0op2Jur8ZC4j",
        "colab": {
          "base_uri": "https://localhost:8080/"
        },
        "outputId": "7a30ab82-476b-4d6f-cd87-9d0fc8430e54"
      },
      "source": [
        "from imblearn.over_sampling import RandomOverSampler\n",
        "rs = RandomOverSampler(random_state=42)\n",
        "X, y = rs.fit_resample(X,y)\n",
        "X.shape,y.shape"
      ],
      "execution_count": 169,
      "outputs": [
        {
          "output_type": "execute_result",
          "data": {
            "text/plain": [
              "((406, 12), (406,))"
            ]
          },
          "metadata": {
            "tags": []
          },
          "execution_count": 169
        }
      ]
    },
    {
      "cell_type": "code",
      "metadata": {
        "id": "Gspw_92jgkwp"
      },
      "source": [
        "features = ['age', 'anaemia', 'CPK', 'diabetes',\n",
        "       'EF', 'HBP', 'platelets',\n",
        "       'serum_creatinine', 'serum_sodium', 'sex', 'smoking', 'time']\n",
        "label = ['death_event']\n",
        "X=HF[features]\n",
        "y=HF[label]"
      ],
      "execution_count": 170,
      "outputs": []
    },
    {
      "cell_type": "code",
      "metadata": {
        "id": "Iz1gKA86ZC7Z"
      },
      "source": [
        "from sklearn.model_selection import train_test_split\n",
        "X_train,X_test, y_train,y_test=train_test_split(X,y,test_size=0.33, shuffle =True,random_state=42)"
      ],
      "execution_count": 171,
      "outputs": []
    },
    {
      "cell_type": "code",
      "metadata": {
        "id": "fGw-qAhdgAQI"
      },
      "source": [
        "F1 = ['time','EF','serum_creatinine','age','serum_sodium','HBP']\n",
        "predictors = HF[F1]\n",
        "target = HF[\"death_event\"]\n",
        "\n",
        "X_train, X_test, y_train, y_test = train_test_split(predictors, target, test_size = 0.22, random_state = 0)"
      ],
      "execution_count": 172,
      "outputs": []
    },
    {
      "cell_type": "code",
      "metadata": {
        "id": "Q3uQNIxxgAZK"
      },
      "source": [
        "from sklearn.preprocessing import StandardScaler\n",
        "sc=StandardScaler()\n",
        "\n",
        "X_train = sc.fit_transform(X_train[F1])\n",
        "X_test = sc.transform(X_test[F1])"
      ],
      "execution_count": 173,
      "outputs": []
    },
    {
      "cell_type": "markdown",
      "metadata": {
        "id": "N9XUGvjoyaYL"
      },
      "source": [
        "Logistic Regression"
      ]
    },
    {
      "cell_type": "code",
      "metadata": {
        "id": "uWZfuw_Tzh8U",
        "colab": {
          "base_uri": "https://localhost:8080/"
        },
        "outputId": "f21dfb24-929e-4bf4-f41b-24ff53ae9801"
      },
      "source": [
        "from sklearn.linear_model import LogisticRegression\n",
        "log_reg = LogisticRegression()\n",
        "log_reg.fit(X_train,y_train)"
      ],
      "execution_count": 174,
      "outputs": [
        {
          "output_type": "execute_result",
          "data": {
            "text/plain": [
              "LogisticRegression(C=1.0, class_weight=None, dual=False, fit_intercept=True,\n",
              "                   intercept_scaling=1, l1_ratio=None, max_iter=100,\n",
              "                   multi_class='auto', n_jobs=None, penalty='l2',\n",
              "                   random_state=None, solver='lbfgs', tol=0.0001, verbose=0,\n",
              "                   warm_start=False)"
            ]
          },
          "metadata": {
            "tags": []
          },
          "execution_count": 174
        }
      ]
    },
    {
      "cell_type": "code",
      "metadata": {
        "id": "NmqD46Dlzloh",
        "colab": {
          "base_uri": "https://localhost:8080/"
        },
        "outputId": "35e65873-1c2d-40d3-d4b0-f92efebe6289"
      },
      "source": [
        "y_pred_log_reg = log_reg.predict(X_test)\n",
        "y_pred_log_reg"
      ],
      "execution_count": 175,
      "outputs": [
        {
          "output_type": "execute_result",
          "data": {
            "text/plain": [
              "array([0, 0, 1, 0, 0, 0, 1, 0, 1, 0, 0, 1, 0, 0, 1, 1, 0, 0, 0, 0, 0, 0,\n",
              "       1, 0, 0, 0, 0, 0, 0, 0, 0, 1, 0, 0, 0, 0, 0, 0, 0, 1, 0, 0, 0, 0,\n",
              "       1, 0, 0, 0, 0, 1, 0, 0, 0, 0, 1, 0, 0, 1, 0, 0, 1, 0, 0, 0, 0, 0])"
            ]
          },
          "metadata": {
            "tags": []
          },
          "execution_count": 175
        }
      ]
    },
    {
      "cell_type": "code",
      "metadata": {
        "id": "w_vHuCWxzvaL",
        "colab": {
          "base_uri": "https://localhost:8080/"
        },
        "outputId": "ee623530-89ed-4346-bdc9-268f56118d94"
      },
      "source": [
        "from sklearn.metrics import f1_score, roc_auc_score,accuracy_score,confusion_matrix, precision_recall_curve, auc, roc_curve, recall_score, classification_report \n",
        "classification_report = classification_report(y_test, y_pred_log_reg)\n",
        "print(classification_report)"
      ],
      "execution_count": 176,
      "outputs": [
        {
          "output_type": "stream",
          "text": [
            "              precision    recall  f1-score   support\n",
            "\n",
            "           0       0.77      0.95      0.85        42\n",
            "           1       0.86      0.50      0.63        24\n",
            "\n",
            "    accuracy                           0.79        66\n",
            "   macro avg       0.81      0.73      0.74        66\n",
            "weighted avg       0.80      0.79      0.77        66\n",
            "\n"
          ],
          "name": "stdout"
        }
      ]
    },
    {
      "cell_type": "code",
      "metadata": {
        "id": "zXL4qTrI0Roz",
        "colab": {
          "base_uri": "https://localhost:8080/"
        },
        "outputId": "3bc40ed8-554c-45db-d6f1-5ffb5c95ce59"
      },
      "source": [
        "print(accuracy_score(y_test,y_pred_log_reg))"
      ],
      "execution_count": 177,
      "outputs": [
        {
          "output_type": "stream",
          "text": [
            "0.7878787878787878\n"
          ],
          "name": "stdout"
        }
      ]
    },
    {
      "cell_type": "code",
      "metadata": {
        "id": "nAohjCeSSCnt",
        "colab": {
          "base_uri": "https://localhost:8080/"
        },
        "outputId": "4ba09418-c537-41f4-ea0a-d959bb46389f"
      },
      "source": [
        "auc = roc_auc_score(y_test, y_pred_log_reg)\n",
        "auc"
      ],
      "execution_count": 178,
      "outputs": [
        {
          "output_type": "execute_result",
          "data": {
            "text/plain": [
              "0.726190476190476"
            ]
          },
          "metadata": {
            "tags": []
          },
          "execution_count": 178
        }
      ]
    },
    {
      "cell_type": "markdown",
      "metadata": {
        "id": "p30LVDuaysBe"
      },
      "source": [
        "Random Forest"
      ]
    },
    {
      "cell_type": "code",
      "metadata": {
        "id": "Zp9OV9jfZDCi"
      },
      "source": [
        "from sklearn.ensemble import RandomForestClassifier\n",
        "RFC = RandomForestClassifier()"
      ],
      "execution_count": 179,
      "outputs": []
    },
    {
      "cell_type": "code",
      "metadata": {
        "id": "RIoonAnO9Yns",
        "colab": {
          "base_uri": "https://localhost:8080/"
        },
        "outputId": "110822f7-aed7-4db7-a894-63e8b2caab38"
      },
      "source": [
        "#random forest\n",
        "model = RandomForestClassifier(n_estimators=100, max_depth=5, random_state=1)\n",
        "model.fit(X_train, y_train)\n",
        "y_pred = model.predict(X_test)\n",
        "\n",
        "acc_randomforest = round(accuracy_score(y_pred, y_test) * 100, 2)\n",
        "print(\"Random Forest Model Accuracy : \",acc_randomforest)\n",
        "print(classification_report)"
      ],
      "execution_count": 180,
      "outputs": [
        {
          "output_type": "stream",
          "text": [
            "Random Forest Model Accuracy :  84.85\n",
            "              precision    recall  f1-score   support\n",
            "\n",
            "           0       0.77      0.95      0.85        42\n",
            "           1       0.86      0.50      0.63        24\n",
            "\n",
            "    accuracy                           0.79        66\n",
            "   macro avg       0.81      0.73      0.74        66\n",
            "weighted avg       0.80      0.79      0.77        66\n",
            "\n"
          ],
          "name": "stdout"
        }
      ]
    },
    {
      "cell_type": "code",
      "metadata": {
        "id": "dZbts7FpS8ro",
        "colab": {
          "base_uri": "https://localhost:8080/"
        },
        "outputId": "b7e9596b-14d5-400d-82c1-c217e48c833a"
      },
      "source": [
        "auc = roc_auc_score(y_pred, y_test)\n",
        "auc"
      ],
      "execution_count": 181,
      "outputs": [
        {
          "output_type": "execute_result",
          "data": {
            "text/plain": [
              "0.87875"
            ]
          },
          "metadata": {
            "tags": []
          },
          "execution_count": 181
        }
      ]
    },
    {
      "cell_type": "markdown",
      "metadata": {
        "id": "tvvfNP_Ln0Cl"
      },
      "source": [
        "MLPC"
      ]
    },
    {
      "cell_type": "code",
      "metadata": {
        "id": "exDcBIcmZDGe"
      },
      "source": [
        "from sklearn.neural_network import MLPClassifier\n",
        "M = MLPClassifier(hidden_layer_sizes=(128,128))"
      ],
      "execution_count": 182,
      "outputs": []
    },
    {
      "cell_type": "code",
      "metadata": {
        "id": "BD_h9FQWZDIK",
        "colab": {
          "base_uri": "https://localhost:8080/"
        },
        "outputId": "5f4c8b4f-3ffd-4ffe-dbb0-d071bc25628a"
      },
      "source": [
        "M.fit(X_train,y_train)\n",
        "y_predM = M.predict(X_test)\n",
        "print(f1_score(y_test,y_predM))\n",
        "print(confusion_matrix(y_test,y_predM))\n",
        "print(classification_report)"
      ],
      "execution_count": 183,
      "outputs": [
        {
          "output_type": "stream",
          "text": [
            "0.7555555555555556\n",
            "[[38  4]\n",
            " [ 7 17]]\n",
            "              precision    recall  f1-score   support\n",
            "\n",
            "           0       0.77      0.95      0.85        42\n",
            "           1       0.86      0.50      0.63        24\n",
            "\n",
            "    accuracy                           0.79        66\n",
            "   macro avg       0.81      0.73      0.74        66\n",
            "weighted avg       0.80      0.79      0.77        66\n",
            "\n"
          ],
          "name": "stdout"
        }
      ]
    },
    {
      "cell_type": "code",
      "metadata": {
        "id": "LsoGuGlkTIkm",
        "colab": {
          "base_uri": "https://localhost:8080/"
        },
        "outputId": "562849ec-b58e-4d45-9ddc-620874766c47"
      },
      "source": [
        "auc = roc_auc_score(y_test, y_predM)\n",
        "auc"
      ],
      "execution_count": 184,
      "outputs": [
        {
          "output_type": "execute_result",
          "data": {
            "text/plain": [
              "0.8065476190476191"
            ]
          },
          "metadata": {
            "tags": []
          },
          "execution_count": 184
        }
      ]
    },
    {
      "cell_type": "markdown",
      "metadata": {
        "id": "rQfrY_kWoN15"
      },
      "source": [
        "XGB"
      ]
    },
    {
      "cell_type": "code",
      "metadata": {
        "id": "mU5vUmlVZDMr",
        "colab": {
          "base_uri": "https://localhost:8080/"
        },
        "outputId": "f2d381a6-322e-4377-dbc8-969316c408e3"
      },
      "source": [
        "import xgboost as xgb\n",
        "model = xgb.XGBClassifier()\n",
        "model.fit(X_train,y_train)\n",
        "y_pred1 = model.predict(X_test)\n",
        "roc_auc_score(y_test, y_pred1)"
      ],
      "execution_count": 185,
      "outputs": [
        {
          "output_type": "execute_result",
          "data": {
            "text/plain": [
              "0.818452380952381"
            ]
          },
          "metadata": {
            "tags": []
          },
          "execution_count": 185
        }
      ]
    },
    {
      "cell_type": "code",
      "metadata": {
        "id": "IuGjB1_Aogfb",
        "colab": {
          "base_uri": "https://localhost:8080/"
        },
        "outputId": "fdadc2bb-e64b-43d8-ffbf-7c002ff6fc49"
      },
      "source": [
        "print(classification_report)"
      ],
      "execution_count": 186,
      "outputs": [
        {
          "output_type": "stream",
          "text": [
            "              precision    recall  f1-score   support\n",
            "\n",
            "           0       0.77      0.95      0.85        42\n",
            "           1       0.86      0.50      0.63        24\n",
            "\n",
            "    accuracy                           0.79        66\n",
            "   macro avg       0.81      0.73      0.74        66\n",
            "weighted avg       0.80      0.79      0.77        66\n",
            "\n"
          ],
          "name": "stdout"
        }
      ]
    },
    {
      "cell_type": "code",
      "metadata": {
        "id": "b3mhIfMNoR7j",
        "colab": {
          "base_uri": "https://localhost:8080/"
        },
        "outputId": "47d3b9e6-c78d-465e-a2ad-f6da0e551978"
      },
      "source": [
        "accuracy = accuracy_score(y_test, y_pred1)\n",
        "print(accuracy)"
      ],
      "execution_count": 187,
      "outputs": [
        {
          "output_type": "stream",
          "text": [
            "0.8484848484848485\n"
          ],
          "name": "stdout"
        }
      ]
    },
    {
      "cell_type": "markdown",
      "metadata": {
        "id": "TbERU7A3pbW3"
      },
      "source": [
        "Gaussian Naive Bayes"
      ]
    },
    {
      "cell_type": "code",
      "metadata": {
        "id": "aMdhKghEpe1N"
      },
      "source": [
        "from sklearn.metrics import accuracy_score\n",
        "from sklearn.naive_bayes import GaussianNB"
      ],
      "execution_count": 188,
      "outputs": []
    },
    {
      "cell_type": "code",
      "metadata": {
        "id": "PG2eBhRYpORv",
        "colab": {
          "base_uri": "https://localhost:8080/"
        },
        "outputId": "88b19421-d441-4473-8d4d-37169aab34f0"
      },
      "source": [
        "#gaussian naive bayes\n",
        "gnb = GaussianNB()\n",
        "gnb.fit(X_train, y_train)\n",
        "  \n",
        "# making predictions on the testing set\n",
        "y_pred = gnb.predict(X_test)\n",
        "  \n",
        "# comparing actual response values (y_test) with predicted response values (y_pred)\n",
        "acc_naivebayes = round(accuracy_score(y_test, y_pred)*100,2)\n",
        "print(\"Gaussian Naive Bayes model accuracy(in %):\",acc_naivebayes )\n",
        "print(classification_report)"
      ],
      "execution_count": 189,
      "outputs": [
        {
          "output_type": "stream",
          "text": [
            "Gaussian Naive Bayes model accuracy(in %): 78.79\n",
            "              precision    recall  f1-score   support\n",
            "\n",
            "           0       0.77      0.95      0.85        42\n",
            "           1       0.86      0.50      0.63        24\n",
            "\n",
            "    accuracy                           0.79        66\n",
            "   macro avg       0.81      0.73      0.74        66\n",
            "weighted avg       0.80      0.79      0.77        66\n",
            "\n"
          ],
          "name": "stdout"
        }
      ]
    },
    {
      "cell_type": "code",
      "metadata": {
        "id": "JrAxF2jnTZ0n",
        "colab": {
          "base_uri": "https://localhost:8080/"
        },
        "outputId": "688584f9-f014-4bb4-bbda-921f0427d65c"
      },
      "source": [
        "auc = roc_auc_score(y_test, y_pred)\n",
        "auc"
      ],
      "execution_count": 190,
      "outputs": [
        {
          "output_type": "execute_result",
          "data": {
            "text/plain": [
              "0.726190476190476"
            ]
          },
          "metadata": {
            "tags": []
          },
          "execution_count": 190
        }
      ]
    },
    {
      "cell_type": "markdown",
      "metadata": {
        "id": "VTeJj1-DqzJD"
      },
      "source": [
        "SVM"
      ]
    },
    {
      "cell_type": "code",
      "metadata": {
        "id": "0h907KKDq0WT",
        "colab": {
          "base_uri": "https://localhost:8080/"
        },
        "outputId": "3b8c4727-6449-4074-9210-a855d9ae75cd"
      },
      "source": [
        "#SVM Classifier\n",
        "\n",
        "from sklearn.svm import SVC  \n",
        "clf = SVC(kernel='linear') \n",
        "  \n",
        "# fitting x samples and y classes \n",
        "clf.fit(X_train, y_train) \n",
        "y_pred = clf.predict(X_test)\n",
        "\n",
        "acc_SVM = round(accuracy_score(y_pred, y_test) * 100, 2)\n",
        "print(\"SVM Model Accuracy : \",acc_SVM)\n",
        "print(classification_report)"
      ],
      "execution_count": 191,
      "outputs": [
        {
          "output_type": "stream",
          "text": [
            "SVM Model Accuracy :  78.79\n",
            "              precision    recall  f1-score   support\n",
            "\n",
            "           0       0.77      0.95      0.85        42\n",
            "           1       0.86      0.50      0.63        24\n",
            "\n",
            "    accuracy                           0.79        66\n",
            "   macro avg       0.81      0.73      0.74        66\n",
            "weighted avg       0.80      0.79      0.77        66\n",
            "\n"
          ],
          "name": "stdout"
        }
      ]
    },
    {
      "cell_type": "code",
      "metadata": {
        "id": "m0UUIZ3WTg3h",
        "colab": {
          "base_uri": "https://localhost:8080/"
        },
        "outputId": "2479c602-8122-4905-902a-ca961ac4a39e"
      },
      "source": [
        "auc = roc_auc_score(y_pred, y_test)\n",
        "auc"
      ],
      "execution_count": 192,
      "outputs": [
        {
          "output_type": "execute_result",
          "data": {
            "text/plain": [
              "0.8131868131868132"
            ]
          },
          "metadata": {
            "tags": []
          },
          "execution_count": 192
        }
      ]
    },
    {
      "cell_type": "markdown",
      "metadata": {
        "id": "7d4IZ06hq_rr"
      },
      "source": [
        "DTC"
      ]
    },
    {
      "cell_type": "code",
      "metadata": {
        "id": "JbSQA2ATrCqb",
        "colab": {
          "base_uri": "https://localhost:8080/"
        },
        "outputId": "b3f822b2-fd28-477a-bd3d-b5ad6983f868"
      },
      "source": [
        "from sklearn.tree import DecisionTreeClassifier\n",
        "\n",
        "modeldt = DecisionTreeClassifier()\n",
        "\n",
        "# fit the model with the training data\n",
        "modeldt.fit(X_train,y_train)\n",
        "\n",
        "# depth of the decision tree\n",
        "print('Depth of the Decision Tree :', modeldt.get_depth())\n",
        "\n",
        "# predict the target on the train dataset\n",
        "predict_train = modeldt.predict(X_train)\n",
        "\n",
        "# Accuray Score on train dataset\n",
        "accuracy_train = accuracy_score(y_train,predict_train)\n",
        "print('accuracy_score on train dataset : ', accuracy_train)\n",
        "\n",
        "# predict the target on the test dataset\n",
        "predict_test = model.predict(X_test)\n",
        "\n",
        "# Accuracy Score on test dataset\n",
        "accuracy_test = accuracy_score(y_test,predict_test)\n",
        "print('accuracy_score on test dataset : ', accuracy_test*100)\n",
        "print(classification_report)"
      ],
      "execution_count": 193,
      "outputs": [
        {
          "output_type": "stream",
          "text": [
            "Depth of the Decision Tree : 10\n",
            "accuracy_score on train dataset :  1.0\n",
            "accuracy_score on test dataset :  84.84848484848484\n",
            "              precision    recall  f1-score   support\n",
            "\n",
            "           0       0.77      0.95      0.85        42\n",
            "           1       0.86      0.50      0.63        24\n",
            "\n",
            "    accuracy                           0.79        66\n",
            "   macro avg       0.81      0.73      0.74        66\n",
            "weighted avg       0.80      0.79      0.77        66\n",
            "\n"
          ],
          "name": "stdout"
        }
      ]
    },
    {
      "cell_type": "code",
      "metadata": {
        "id": "fGOkMvKWTrle",
        "colab": {
          "base_uri": "https://localhost:8080/"
        },
        "outputId": "8878cada-29fc-4c2a-a6a8-8059c6d38236"
      },
      "source": [
        "auc = roc_auc_score(y_test, predict_test)\n",
        "auc"
      ],
      "execution_count": 194,
      "outputs": [
        {
          "output_type": "execute_result",
          "data": {
            "text/plain": [
              "0.818452380952381"
            ]
          },
          "metadata": {
            "tags": []
          },
          "execution_count": 194
        }
      ]
    },
    {
      "cell_type": "markdown",
      "metadata": {
        "id": "Ce2qPaucEFoO"
      },
      "source": [
        "Gradient Boostingg Classifier"
      ]
    },
    {
      "cell_type": "code",
      "metadata": {
        "id": "k4ePVgtHDQaU"
      },
      "source": [
        "from sklearn.ensemble import GradientBoostingClassifier\n",
        "import lightgbm"
      ],
      "execution_count": 195,
      "outputs": []
    },
    {
      "cell_type": "code",
      "metadata": {
        "id": "1BY8rsCUC-J9",
        "colab": {
          "base_uri": "https://localhost:8080/"
        },
        "outputId": "fccff61c-9711-4e85-cae3-f7f41c01bc19"
      },
      "source": [
        "gradientboost_clf = GradientBoostingClassifier(max_depth=2, random_state=1)\n",
        "gradientboost_clf.fit(X_train,y_train)\n",
        "gradientboost_pred = gradientboost_clf.predict(X_test)\n",
        "gradientboost_f1 = f1_score(y_test, gradientboost_pred)\n",
        "gradientboost_f1\n",
        "\n",
        "acc_GBC= round(accuracy_score(y_pred, y_test) * 100, 2)\n",
        "print(acc_GBC)\n",
        "\n",
        "print(classification_report)"
      ],
      "execution_count": 196,
      "outputs": [
        {
          "output_type": "stream",
          "text": [
            "78.79\n",
            "              precision    recall  f1-score   support\n",
            "\n",
            "           0       0.77      0.95      0.85        42\n",
            "           1       0.86      0.50      0.63        24\n",
            "\n",
            "    accuracy                           0.79        66\n",
            "   macro avg       0.81      0.73      0.74        66\n",
            "weighted avg       0.80      0.79      0.77        66\n",
            "\n"
          ],
          "name": "stdout"
        }
      ]
    },
    {
      "cell_type": "code",
      "metadata": {
        "id": "9DJK9ThfTzzm",
        "colab": {
          "base_uri": "https://localhost:8080/"
        },
        "outputId": "bfc842ec-4975-4697-c8c1-94528d033b83"
      },
      "source": [
        "auc = roc_auc_score(y_pred, y_test)\n",
        "auc"
      ],
      "execution_count": 197,
      "outputs": [
        {
          "output_type": "execute_result",
          "data": {
            "text/plain": [
              "0.8131868131868132"
            ]
          },
          "metadata": {
            "tags": []
          },
          "execution_count": 197
        }
      ]
    },
    {
      "cell_type": "markdown",
      "metadata": {
        "id": "qZcfxjLLFI9F"
      },
      "source": [
        "LGBMC"
      ]
    },
    {
      "cell_type": "code",
      "metadata": {
        "id": "DgP3FrtZEazT",
        "colab": {
          "base_uri": "https://localhost:8080/"
        },
        "outputId": "a38d6582-d495-4c94-f708-ce9d485d5081"
      },
      "source": [
        "from sklearn.metrics import precision_score\n",
        "lgb_clf = lightgbm.LGBMClassifier(max_depth=2, random_state=4)\n",
        "lgb_clf.fit(X_train,y_train)\n",
        "lgb_pred = lgb_clf.predict(X_test)\n",
        "lgb_f1 = f1_score(y_test, lgb_pred)\n",
        "lgb_precision = precision_score(y_test, lgb_pred)\n",
        "lgb_f1"
      ],
      "execution_count": 198,
      "outputs": [
        {
          "output_type": "execute_result",
          "data": {
            "text/plain": [
              "0.7999999999999999"
            ]
          },
          "metadata": {
            "tags": []
          },
          "execution_count": 198
        }
      ]
    },
    {
      "cell_type": "code",
      "metadata": {
        "id": "HLpgiZqNUwvt",
        "colab": {
          "base_uri": "https://localhost:8080/"
        },
        "outputId": "d8cdbba8-8f00-4100-9a14-d57f3f66d6db"
      },
      "source": [
        "acc_lgb = round(accuracy_score(y_test, lgb_pred) * 100, 2)\n",
        "acc_lgb"
      ],
      "execution_count": 199,
      "outputs": [
        {
          "output_type": "execute_result",
          "data": {
            "text/plain": [
              "86.36"
            ]
          },
          "metadata": {
            "tags": []
          },
          "execution_count": 199
        }
      ]
    },
    {
      "cell_type": "code",
      "metadata": {
        "id": "aBcroDZnT7xO",
        "colab": {
          "base_uri": "https://localhost:8080/"
        },
        "outputId": "5939f63b-1b1e-49b0-f3b3-17e17a7ea480"
      },
      "source": [
        "auc = roc_auc_score(y_test, lgb_pred)\n",
        "auc"
      ],
      "execution_count": 200,
      "outputs": [
        {
          "output_type": "execute_result",
          "data": {
            "text/plain": [
              "0.8392857142857143"
            ]
          },
          "metadata": {
            "tags": []
          },
          "execution_count": 200
        }
      ]
    },
    {
      "cell_type": "code",
      "metadata": {
        "id": "GqFFO1NQVOS-"
      },
      "source": [
        ""
      ],
      "execution_count": 200,
      "outputs": []
    },
    {
      "cell_type": "code",
      "metadata": {
        "id": "oZMywD0OVObI"
      },
      "source": [
        "# saving the model \n",
        "import pickle \n",
        "pickle_out = open(\"classifier.pkl\", mode = \"wb\") \n",
        "pickle.dump(lgb_clf, pickle_out) \n",
        "pickle_out.close()"
      ],
      "execution_count": 201,
      "outputs": []
    },
    {
      "cell_type": "code",
      "metadata": {
        "id": "vXJZnvrQVk39"
      },
      "source": [
        "!pip install -q pyngrok\n",
        "\n",
        "!pip install -q streamlit\n",
        "\n",
        "!pip install -q streamlit_ace"
      ],
      "execution_count": 202,
      "outputs": []
    },
    {
      "cell_type": "code",
      "metadata": {
        "id": "Ye-Yr3PcVk_b",
        "colab": {
          "base_uri": "https://localhost:8080/"
        },
        "outputId": "7e7f9ff9-2187-4c85-b1fb-0766023dd7a2"
      },
      "source": [
        "%%writefile app.py\n",
        " \n",
        "import pickle\n",
        "import streamlit as st\n",
        " \n",
        "# loading the trained model\n",
        "pickle_in = open('classifier.pkl', 'rb') \n",
        "classifier = pickle.load(pickle_in)\n",
        " \n",
        "@st.cache()\n",
        "  \n",
        "# defining the function which will make the prediction using the data which the user inputs \n",
        "def prediction(time,EF,serum_creatinine,age,serum_sodium,HBP):   \n",
        " \n",
        "    # Pre-processing user input    \n",
        "    if HBP == \"Yes\":\n",
        "        HBP = 1\n",
        "    else:\n",
        "        HBP = 0\n",
        " \n",
        "  \n",
        "    # Making predictions \n",
        "    prediction = classifier.predict( \n",
        "        [[time,EF,serum_creatinine,age,serum_sodium,HBP]])\n",
        "     \n",
        "    if prediction == 0:\n",
        "        pred = 'Will Survive'\n",
        "    else:\n",
        "        pred = 'Will Die'\n",
        "    return pred\n",
        "      \n",
        "  \n",
        "# this is the main function in which we define our webpage  \n",
        "def main():       \n",
        "    # front end elements of the web page \n",
        "    html_temp = \"\"\" \n",
        "    <div style =\"background-color:yellow;padding:13px\"> \n",
        "    <h1 style =\"color:black;text-align:center;\">Streamlit Heart Failure Survival Prediction App</h1> \n",
        "    </div> \n",
        "    \"\"\"\n",
        "      \n",
        "    # display the front end aspect\n",
        "    st.markdown(html_temp, unsafe_allow_html = True) \n",
        "      \n",
        "    # following lines create boxes in which user can enter data required to make prediction \n",
        "    age = st.number_input(\"What Is Patient's Age?\") \n",
        "    HBP = st.selectbox('Does Patient Have High Blood Pressure?',(\"Yes\",\"No\"))\n",
        "    time = st.number_input(\"How Long Has Patient Had It?\") \n",
        "    EF = st.number_input(\"Ejection Fraction In Percentage\")\n",
        "    serum_creatinine = st.number_input(\"How much creatinine is in the patient's blood?\")\n",
        "    serum_sodium = st.number_input(\"How much sodium is in the patient's blood?\")\n",
        "    result =\"\"\n",
        "      \n",
        "    # when 'Predict' is clicked, make the prediction and store it \n",
        "    if st.button(\"Predict\"): \n",
        "        result = prediction(time,EF,serum_creatinine,age,serum_sodium,HBP) \n",
        "        st.success('Patient {}'.format(result))\n",
        "        \n",
        "     \n",
        "if __name__=='__main__': \n",
        "    main()"
      ],
      "execution_count": 203,
      "outputs": [
        {
          "output_type": "stream",
          "text": [
            "Overwriting app.py\n"
          ],
          "name": "stdout"
        }
      ]
    },
    {
      "cell_type": "code",
      "metadata": {
        "id": "-w7qQr8zcpak"
      },
      "source": [
        "!streamlit run app.py &>/dev/null&"
      ],
      "execution_count": 204,
      "outputs": []
    },
    {
      "cell_type": "code",
      "metadata": {
        "id": "Yrwho1t2wBYK",
        "colab": {
          "base_uri": "https://localhost:8080/"
        },
        "outputId": "f3dc7ee9-24ca-4f08-bba5-3c2b52fc4ba2"
      },
      "source": [
        "!git init"
      ],
      "execution_count": 205,
      "outputs": [
        {
          "output_type": "stream",
          "text": [
            "Reinitialized existing Git repository in /content/.git/\n"
          ],
          "name": "stdout"
        }
      ]
    },
    {
      "cell_type": "code",
      "metadata": {
        "id": "h259c2mHx6sl"
      },
      "source": [
        "!mkdir -p ~/.streamlit/"
      ],
      "execution_count": 206,
      "outputs": []
    },
    {
      "cell_type": "code",
      "metadata": {
        "id": "G12HSzxrylch"
      },
      "source": [
        "!echo \"\\\n",
        "[server]\\n\\\n",
        "headless = true\\n\\\n",
        "port = $PORT\\n\\\n",
        "enableCORS = false\\n\\\n",
        "\\n\\\n",
        "\" > ~/.streamlit/config.toml"
      ],
      "execution_count": 207,
      "outputs": []
    },
    {
      "cell_type": "code",
      "metadata": {
        "id": "jBMMYrj2zHd_",
        "colab": {
          "base_uri": "https://localhost:8080/"
        },
        "outputId": "1f9823a1-588f-44fb-bbed-b9a577f3a9c1"
      },
      "source": [
        "%%writefile requirements.txt\n",
        "\n",
        "streamlit"
      ],
      "execution_count": 208,
      "outputs": [
        {
          "output_type": "stream",
          "text": [
            "Overwriting requirements.txt\n"
          ],
          "name": "stdout"
        }
      ]
    },
    {
      "cell_type": "code",
      "metadata": {
        "id": "6Rtlz1UOypGP",
        "colab": {
          "base_uri": "https://localhost:8080/"
        },
        "outputId": "cfc52a68-7a29-4bb7-e7e9-fa3d02d27b3f"
      },
      "source": [
        "%%writefile Procfile\n",
        "\n",
        "web: sh setup.sh && streamlit run app.py"
      ],
      "execution_count": 209,
      "outputs": [
        {
          "output_type": "stream",
          "text": [
            "Overwriting Procfile\n"
          ],
          "name": "stdout"
        }
      ]
    },
    {
      "cell_type": "code",
      "metadata": {
        "id": "E6_uc1aT0_KM",
        "colab": {
          "base_uri": "https://localhost:8080/"
        },
        "outputId": "1f958419-8757-4c59-fe7b-431a5f38ea52"
      },
      "source": [
        "!curl https://cli-assets.heroku.com/install-ubuntu.sh | sh"
      ],
      "execution_count": 210,
      "outputs": [
        {
          "output_type": "stream",
          "text": [
            "  % Total    % Received % Xferd  Average Speed   Time    Time     Time  Current\n",
            "                                 Dload  Upload   Total   Spent    Left  Speed\n",
            "100  1232  100  1232    0     0   5625      0 --:--:-- --:--:-- --:--:--  5625\n",
            "+ dpkg -s apt-transport-https\n",
            "+ echo deb https://cli-assets.heroku.com/apt ./\n",
            "+ dpkg -s heroku-toolbelt\n",
            "+ true\n",
            "+ curl https://cli-assets.heroku.com/apt/release.key\n",
            "+ apt-key add -\n",
            "  % Total    % Received % Xferd  Average Speed   Time    Time     Time  Current\n",
            "                                 Dload  Upload   Total   Spent    Left  Speed\n",
            "100  5393  100  5393    0     0  53396      0 --:--:-- --:--:-- --:--:-- 53396\n",
            "OK\n",
            "+ apt-get update\n",
            "Hit:1 https://cli-assets.heroku.com/apt ./ InRelease\n",
            "Hit:2 https://cloud.r-project.org/bin/linux/ubuntu bionic-cran40/ InRelease\n",
            "Ign:3 https://developer.download.nvidia.com/compute/cuda/repos/ubuntu1804/x86_64  InRelease\n",
            "Get:4 http://security.ubuntu.com/ubuntu bionic-security InRelease [88.7 kB]\n",
            "Get:5 http://ppa.launchpad.net/c2d4u.team/c2d4u4.0+/ubuntu bionic InRelease [15.9 kB]\n",
            "Hit:6 http://archive.ubuntu.com/ubuntu bionic InRelease\n",
            "Ign:7 https://developer.download.nvidia.com/compute/machine-learning/repos/ubuntu1804/x86_64  InRelease\n",
            "Get:8 http://archive.ubuntu.com/ubuntu bionic-updates InRelease [88.7 kB]\n",
            "Hit:9 https://developer.download.nvidia.com/compute/cuda/repos/ubuntu1804/x86_64  Release\n",
            "Hit:10 https://developer.download.nvidia.com/compute/machine-learning/repos/ubuntu1804/x86_64  Release\n",
            "Hit:11 http://ppa.launchpad.net/cran/libgit2/ubuntu bionic InRelease\n",
            "Hit:13 http://ppa.launchpad.net/deadsnakes/ppa/ubuntu bionic InRelease\n",
            "Get:15 http://archive.ubuntu.com/ubuntu bionic-backports InRelease [74.6 kB]\n",
            "Hit:16 http://ppa.launchpad.net/graphics-drivers/ppa/ubuntu bionic InRelease\n",
            "Get:17 http://ppa.launchpad.net/c2d4u.team/c2d4u4.0+/ubuntu bionic/main Sources [1,767 kB]\n",
            "Get:18 http://ppa.launchpad.net/c2d4u.team/c2d4u4.0+/ubuntu bionic/main amd64 Packages [904 kB]\n",
            "Fetched 2,939 kB in 6s (483 kB/s)\n",
            "Reading package lists... Done\n",
            "+ apt-get install -y heroku\n",
            "Reading package lists... Done\n",
            "Building dependency tree       \n",
            "Reading state information... Done\n",
            "heroku is already the newest version (7.54.0-1).\n",
            "The following package was automatically installed and is no longer required:\n",
            "  libnvidia-common-460\n",
            "Use 'apt autoremove' to remove it.\n",
            "0 upgraded, 0 newly installed, 0 to remove and 72 not upgraded.\n",
            "heroku installed to /usr/bin/heroku\n",
            "heroku/7.54.0 linux-x64 node-v12.21.0\n"
          ],
          "name": "stdout"
        }
      ]
    }
  ]
}