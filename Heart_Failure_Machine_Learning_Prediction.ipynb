{
  "nbformat": 4,
  "nbformat_minor": 0,
  "metadata": {
    "colab": {
      "name": "Heart Failure Machine Learning Prediction.ipynb",
      "provenance": [],
      "collapsed_sections": [],
      "toc_visible": true,
      "include_colab_link": true
    },
    "kernelspec": {
      "name": "python3",
      "display_name": "Python 3"
    },
    "language_info": {
      "name": "python"
    }
  },
  "cells": [
    {
      "cell_type": "markdown",
      "metadata": {
        "id": "view-in-github",
        "colab_type": "text"
      },
      "source": [
        "<a href=\"https://colab.research.google.com/github/OyinOlamide/SCA-Final-Project/blob/main/Heart_Failure_Machine_Learning_Prediction.ipynb\" target=\"_parent\"><img src=\"https://colab.research.google.com/assets/colab-badge.svg\" alt=\"Open In Colab\"/></a>"
      ]
    },
    {
      "cell_type": "code",
      "metadata": {
        "id": "0Axdefqqn3gp"
      },
      "source": [
        "from google.colab import files"
      ],
      "execution_count": 5,
      "outputs": []
    },
    {
      "cell_type": "code",
      "metadata": {
        "id": "jddr1IZjMa9z"
      },
      "source": [
        "#necessary imports\n",
        "\n",
        "import numpy as np\n",
        "import pandas as pd\n",
        "import matplotlib.pyplot as plt\n",
        "import seaborn as sns\n",
        "\n",
        "%matplotlib inline\n",
        "\n",
        "import warnings\n",
        "warnings.filterwarnings(\"ignore\")\n",
        "\n",
        "import plotly as py\n",
        "import plotly.graph_objs as go\n",
        "import plotly.express as px\n",
        "from plotly.offline import download_plotlyjs, plot, init_notebook_mode, iplot"
      ],
      "execution_count": 6,
      "outputs": []
    },
    {
      "cell_type": "code",
      "metadata": {
        "id": "UmwbfEjC7B-V",
        "colab": {
          "resources": {
            "http://localhost:8080/nbextensions/google.colab/files.js": {
              "data": "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",
              "ok": true,
              "headers": [
                [
                  "content-type",
                  "application/javascript"
                ]
              ],
              "status": 200,
              "status_text": ""
            }
          },
          "base_uri": "https://localhost:8080/",
          "height": 72
        },
        "outputId": "ce32a918-c9e5-4a6a-da0e-d9e4376c3cfe"
      },
      "source": [
        "HF=files.upload()"
      ],
      "execution_count": 7,
      "outputs": [
        {
          "output_type": "display_data",
          "data": {
            "text/html": [
              "\n",
              "     <input type=\"file\" id=\"files-dbe021c2-64a5-40b2-84c8-264199070f81\" name=\"files[]\" multiple disabled\n",
              "        style=\"border:none\" />\n",
              "     <output id=\"result-dbe021c2-64a5-40b2-84c8-264199070f81\">\n",
              "      Upload widget is only available when the cell has been executed in the\n",
              "      current browser session. Please rerun this cell to enable.\n",
              "      </output>\n",
              "      <script src=\"/nbextensions/google.colab/files.js\"></script> "
            ],
            "text/plain": [
              "<IPython.core.display.HTML object>"
            ]
          },
          "metadata": {
            "tags": []
          }
        },
        {
          "output_type": "stream",
          "text": [
            "Saving heart_failure_clinical_records_dataset.csv to heart_failure_clinical_records_dataset (3).csv\n"
          ],
          "name": "stdout"
        }
      ]
    },
    {
      "cell_type": "code",
      "metadata": {
        "id": "-gcyNojUQMyQ"
      },
      "source": [
        "import io\n",
        "HF = pd.read_csv(io.BytesIO(HF[\"heart_failure_clinical_records_dataset.csv\"]))"
      ],
      "execution_count": 8,
      "outputs": []
    },
    {
      "cell_type": "code",
      "metadata": {
        "id": "n_XOBc4JMd_V",
        "colab": {
          "base_uri": "https://localhost:8080/"
        },
        "outputId": "1c2c7765-e68b-44a3-e8db-08a78d622ed2"
      },
      "source": [
        "pip install plotly"
      ],
      "execution_count": 9,
      "outputs": [
        {
          "output_type": "stream",
          "text": [
            "Requirement already satisfied: plotly in /usr/local/lib/python3.7/dist-packages (4.4.1)\n",
            "Requirement already satisfied: six in /usr/local/lib/python3.7/dist-packages (from plotly) (1.15.0)\n",
            "Requirement already satisfied: retrying>=1.3.3 in /usr/local/lib/python3.7/dist-packages (from plotly) (1.3.3)\n"
          ],
          "name": "stdout"
        }
      ]
    },
    {
      "cell_type": "code",
      "metadata": {
        "id": "kUt40I6nMvrZ",
        "colab": {
          "base_uri": "https://localhost:8080/"
        },
        "outputId": "83b19b43-ee79-4f92-bf9a-2216c23df02e"
      },
      "source": [
        "pip install -U seaborn"
      ],
      "execution_count": 10,
      "outputs": [
        {
          "output_type": "stream",
          "text": [
            "Requirement already up-to-date: seaborn in /usr/local/lib/python3.7/dist-packages (0.11.1)\n",
            "Requirement already satisfied, skipping upgrade: pandas>=0.23 in /usr/local/lib/python3.7/dist-packages (from seaborn) (1.1.5)\n",
            "Requirement already satisfied, skipping upgrade: scipy>=1.0 in /usr/local/lib/python3.7/dist-packages (from seaborn) (1.4.1)\n",
            "Requirement already satisfied, skipping upgrade: matplotlib>=2.2 in /usr/local/lib/python3.7/dist-packages (from seaborn) (3.2.2)\n",
            "Requirement already satisfied, skipping upgrade: numpy>=1.15 in /usr/local/lib/python3.7/dist-packages (from seaborn) (1.19.5)\n",
            "Requirement already satisfied, skipping upgrade: pytz>=2017.2 in /usr/local/lib/python3.7/dist-packages (from pandas>=0.23->seaborn) (2018.9)\n",
            "Requirement already satisfied, skipping upgrade: python-dateutil>=2.7.3 in /usr/local/lib/python3.7/dist-packages (from pandas>=0.23->seaborn) (2.8.1)\n",
            "Requirement already satisfied, skipping upgrade: kiwisolver>=1.0.1 in /usr/local/lib/python3.7/dist-packages (from matplotlib>=2.2->seaborn) (1.3.1)\n",
            "Requirement already satisfied, skipping upgrade: pyparsing!=2.0.4,!=2.1.2,!=2.1.6,>=2.0.1 in /usr/local/lib/python3.7/dist-packages (from matplotlib>=2.2->seaborn) (2.4.7)\n",
            "Requirement already satisfied, skipping upgrade: cycler>=0.10 in /usr/local/lib/python3.7/dist-packages (from matplotlib>=2.2->seaborn) (0.10.0)\n",
            "Requirement already satisfied, skipping upgrade: six>=1.5 in /usr/local/lib/python3.7/dist-packages (from python-dateutil>=2.7.3->pandas>=0.23->seaborn) (1.15.0)\n"
          ],
          "name": "stdout"
        }
      ]
    },
    {
      "cell_type": "code",
      "metadata": {
        "id": "AbxOATMVMyMq",
        "colab": {
          "base_uri": "https://localhost:8080/"
        },
        "outputId": "8bd119ec-ed3b-4aa2-ecaf-0927f7b34410"
      },
      "source": [
        "pip install xgboost"
      ],
      "execution_count": 11,
      "outputs": [
        {
          "output_type": "stream",
          "text": [
            "Requirement already satisfied: xgboost in /usr/local/lib/python3.7/dist-packages (0.90)\n",
            "Requirement already satisfied: numpy in /usr/local/lib/python3.7/dist-packages (from xgboost) (1.19.5)\n",
            "Requirement already satisfied: scipy in /usr/local/lib/python3.7/dist-packages (from xgboost) (1.4.1)\n"
          ],
          "name": "stdout"
        }
      ]
    },
    {
      "cell_type": "code",
      "metadata": {
        "id": "zV-wl0U9vH10",
        "colab": {
          "base_uri": "https://localhost:8080/",
          "height": 204
        },
        "outputId": "60649ac5-287f-459c-cb99-5bf3a2c796b8"
      },
      "source": [
        "HF.head()"
      ],
      "execution_count": 12,
      "outputs": [
        {
          "output_type": "execute_result",
          "data": {
            "text/html": [
              "<div>\n",
              "<style scoped>\n",
              "    .dataframe tbody tr th:only-of-type {\n",
              "        vertical-align: middle;\n",
              "    }\n",
              "\n",
              "    .dataframe tbody tr th {\n",
              "        vertical-align: top;\n",
              "    }\n",
              "\n",
              "    .dataframe thead th {\n",
              "        text-align: right;\n",
              "    }\n",
              "</style>\n",
              "<table border=\"1\" class=\"dataframe\">\n",
              "  <thead>\n",
              "    <tr style=\"text-align: right;\">\n",
              "      <th></th>\n",
              "      <th>age</th>\n",
              "      <th>anaemia</th>\n",
              "      <th>creatinine_phosphokinase</th>\n",
              "      <th>diabetes</th>\n",
              "      <th>ejection_fraction</th>\n",
              "      <th>high_blood_pressure</th>\n",
              "      <th>platelets</th>\n",
              "      <th>serum_creatinine</th>\n",
              "      <th>serum_sodium</th>\n",
              "      <th>sex</th>\n",
              "      <th>smoking</th>\n",
              "      <th>time</th>\n",
              "      <th>DEATH_EVENT</th>\n",
              "    </tr>\n",
              "  </thead>\n",
              "  <tbody>\n",
              "    <tr>\n",
              "      <th>0</th>\n",
              "      <td>75.0</td>\n",
              "      <td>0</td>\n",
              "      <td>582</td>\n",
              "      <td>0</td>\n",
              "      <td>20</td>\n",
              "      <td>1</td>\n",
              "      <td>265000.00</td>\n",
              "      <td>1.9</td>\n",
              "      <td>130</td>\n",
              "      <td>1</td>\n",
              "      <td>0</td>\n",
              "      <td>4</td>\n",
              "      <td>1</td>\n",
              "    </tr>\n",
              "    <tr>\n",
              "      <th>1</th>\n",
              "      <td>55.0</td>\n",
              "      <td>0</td>\n",
              "      <td>7861</td>\n",
              "      <td>0</td>\n",
              "      <td>38</td>\n",
              "      <td>0</td>\n",
              "      <td>263358.03</td>\n",
              "      <td>1.1</td>\n",
              "      <td>136</td>\n",
              "      <td>1</td>\n",
              "      <td>0</td>\n",
              "      <td>6</td>\n",
              "      <td>1</td>\n",
              "    </tr>\n",
              "    <tr>\n",
              "      <th>2</th>\n",
              "      <td>65.0</td>\n",
              "      <td>0</td>\n",
              "      <td>146</td>\n",
              "      <td>0</td>\n",
              "      <td>20</td>\n",
              "      <td>0</td>\n",
              "      <td>162000.00</td>\n",
              "      <td>1.3</td>\n",
              "      <td>129</td>\n",
              "      <td>1</td>\n",
              "      <td>1</td>\n",
              "      <td>7</td>\n",
              "      <td>1</td>\n",
              "    </tr>\n",
              "    <tr>\n",
              "      <th>3</th>\n",
              "      <td>50.0</td>\n",
              "      <td>1</td>\n",
              "      <td>111</td>\n",
              "      <td>0</td>\n",
              "      <td>20</td>\n",
              "      <td>0</td>\n",
              "      <td>210000.00</td>\n",
              "      <td>1.9</td>\n",
              "      <td>137</td>\n",
              "      <td>1</td>\n",
              "      <td>0</td>\n",
              "      <td>7</td>\n",
              "      <td>1</td>\n",
              "    </tr>\n",
              "    <tr>\n",
              "      <th>4</th>\n",
              "      <td>65.0</td>\n",
              "      <td>1</td>\n",
              "      <td>160</td>\n",
              "      <td>1</td>\n",
              "      <td>20</td>\n",
              "      <td>0</td>\n",
              "      <td>327000.00</td>\n",
              "      <td>2.7</td>\n",
              "      <td>116</td>\n",
              "      <td>0</td>\n",
              "      <td>0</td>\n",
              "      <td>8</td>\n",
              "      <td>1</td>\n",
              "    </tr>\n",
              "  </tbody>\n",
              "</table>\n",
              "</div>"
            ],
            "text/plain": [
              "    age  anaemia  creatinine_phosphokinase  ...  smoking  time  DEATH_EVENT\n",
              "0  75.0        0                       582  ...        0     4            1\n",
              "1  55.0        0                      7861  ...        0     6            1\n",
              "2  65.0        0                       146  ...        1     7            1\n",
              "3  50.0        1                       111  ...        0     7            1\n",
              "4  65.0        1                       160  ...        0     8            1\n",
              "\n",
              "[5 rows x 13 columns]"
            ]
          },
          "metadata": {
            "tags": []
          },
          "execution_count": 12
        }
      ]
    },
    {
      "cell_type": "code",
      "metadata": {
        "id": "9RRgENoSNrbp",
        "colab": {
          "base_uri": "https://localhost:8080/"
        },
        "outputId": "66d3f24e-3486-45b9-9e2a-b1c94ada0218"
      },
      "source": [
        "HF.dtypes"
      ],
      "execution_count": 13,
      "outputs": [
        {
          "output_type": "execute_result",
          "data": {
            "text/plain": [
              "age                         float64\n",
              "anaemia                       int64\n",
              "creatinine_phosphokinase      int64\n",
              "diabetes                      int64\n",
              "ejection_fraction             int64\n",
              "high_blood_pressure           int64\n",
              "platelets                   float64\n",
              "serum_creatinine            float64\n",
              "serum_sodium                  int64\n",
              "sex                           int64\n",
              "smoking                       int64\n",
              "time                          int64\n",
              "DEATH_EVENT                   int64\n",
              "dtype: object"
            ]
          },
          "metadata": {
            "tags": []
          },
          "execution_count": 13
        }
      ]
    },
    {
      "cell_type": "code",
      "metadata": {
        "id": "2yX-NR-xNwQL",
        "colab": {
          "base_uri": "https://localhost:8080/"
        },
        "outputId": "3999eeb0-8444-442d-93fd-16db4649918b"
      },
      "source": [
        "HF.columns"
      ],
      "execution_count": 14,
      "outputs": [
        {
          "output_type": "execute_result",
          "data": {
            "text/plain": [
              "Index(['age', 'anaemia', 'creatinine_phosphokinase', 'diabetes',\n",
              "       'ejection_fraction', 'high_blood_pressure', 'platelets',\n",
              "       'serum_creatinine', 'serum_sodium', 'sex', 'smoking', 'time',\n",
              "       'DEATH_EVENT'],\n",
              "      dtype='object')"
            ]
          },
          "metadata": {
            "tags": []
          },
          "execution_count": 14
        }
      ]
    },
    {
      "cell_type": "code",
      "metadata": {
        "id": "RDtBKnKJNwym",
        "colab": {
          "base_uri": "https://localhost:8080/"
        },
        "outputId": "de101868-abd8-4a9b-91d3-5b04fab5d17f"
      },
      "source": [
        "HF.shape"
      ],
      "execution_count": 15,
      "outputs": [
        {
          "output_type": "execute_result",
          "data": {
            "text/plain": [
              "(299, 13)"
            ]
          },
          "metadata": {
            "tags": []
          },
          "execution_count": 15
        }
      ]
    },
    {
      "cell_type": "code",
      "metadata": {
        "id": "8AGt6-ELNw8R",
        "colab": {
          "base_uri": "https://localhost:8080/"
        },
        "outputId": "ba610b4a-22be-4a8d-9ae4-2f37d5e3d7e3"
      },
      "source": [
        "HF.info"
      ],
      "execution_count": 16,
      "outputs": [
        {
          "output_type": "execute_result",
          "data": {
            "text/plain": [
              "<bound method DataFrame.info of       age  anaemia  creatinine_phosphokinase  ...  smoking  time  DEATH_EVENT\n",
              "0    75.0        0                       582  ...        0     4            1\n",
              "1    55.0        0                      7861  ...        0     6            1\n",
              "2    65.0        0                       146  ...        1     7            1\n",
              "3    50.0        1                       111  ...        0     7            1\n",
              "4    65.0        1                       160  ...        0     8            1\n",
              "..    ...      ...                       ...  ...      ...   ...          ...\n",
              "294  62.0        0                        61  ...        1   270            0\n",
              "295  55.0        0                      1820  ...        0   271            0\n",
              "296  45.0        0                      2060  ...        0   278            0\n",
              "297  45.0        0                      2413  ...        1   280            0\n",
              "298  50.0        0                       196  ...        1   285            0\n",
              "\n",
              "[299 rows x 13 columns]>"
            ]
          },
          "metadata": {
            "tags": []
          },
          "execution_count": 16
        }
      ]
    },
    {
      "cell_type": "code",
      "metadata": {
        "id": "jmGaNXIuNxBu",
        "colab": {
          "base_uri": "https://localhost:8080/",
          "height": 317
        },
        "outputId": "5f005de5-6af8-4940-ec7c-45752e38139d"
      },
      "source": [
        "HF.describe()"
      ],
      "execution_count": 17,
      "outputs": [
        {
          "output_type": "execute_result",
          "data": {
            "text/html": [
              "<div>\n",
              "<style scoped>\n",
              "    .dataframe tbody tr th:only-of-type {\n",
              "        vertical-align: middle;\n",
              "    }\n",
              "\n",
              "    .dataframe tbody tr th {\n",
              "        vertical-align: top;\n",
              "    }\n",
              "\n",
              "    .dataframe thead th {\n",
              "        text-align: right;\n",
              "    }\n",
              "</style>\n",
              "<table border=\"1\" class=\"dataframe\">\n",
              "  <thead>\n",
              "    <tr style=\"text-align: right;\">\n",
              "      <th></th>\n",
              "      <th>age</th>\n",
              "      <th>anaemia</th>\n",
              "      <th>creatinine_phosphokinase</th>\n",
              "      <th>diabetes</th>\n",
              "      <th>ejection_fraction</th>\n",
              "      <th>high_blood_pressure</th>\n",
              "      <th>platelets</th>\n",
              "      <th>serum_creatinine</th>\n",
              "      <th>serum_sodium</th>\n",
              "      <th>sex</th>\n",
              "      <th>smoking</th>\n",
              "      <th>time</th>\n",
              "      <th>DEATH_EVENT</th>\n",
              "    </tr>\n",
              "  </thead>\n",
              "  <tbody>\n",
              "    <tr>\n",
              "      <th>count</th>\n",
              "      <td>299.000000</td>\n",
              "      <td>299.000000</td>\n",
              "      <td>299.000000</td>\n",
              "      <td>299.000000</td>\n",
              "      <td>299.000000</td>\n",
              "      <td>299.000000</td>\n",
              "      <td>299.000000</td>\n",
              "      <td>299.00000</td>\n",
              "      <td>299.000000</td>\n",
              "      <td>299.000000</td>\n",
              "      <td>299.00000</td>\n",
              "      <td>299.000000</td>\n",
              "      <td>299.00000</td>\n",
              "    </tr>\n",
              "    <tr>\n",
              "      <th>mean</th>\n",
              "      <td>60.833893</td>\n",
              "      <td>0.431438</td>\n",
              "      <td>581.839465</td>\n",
              "      <td>0.418060</td>\n",
              "      <td>38.083612</td>\n",
              "      <td>0.351171</td>\n",
              "      <td>263358.029264</td>\n",
              "      <td>1.39388</td>\n",
              "      <td>136.625418</td>\n",
              "      <td>0.648829</td>\n",
              "      <td>0.32107</td>\n",
              "      <td>130.260870</td>\n",
              "      <td>0.32107</td>\n",
              "    </tr>\n",
              "    <tr>\n",
              "      <th>std</th>\n",
              "      <td>11.894809</td>\n",
              "      <td>0.496107</td>\n",
              "      <td>970.287881</td>\n",
              "      <td>0.494067</td>\n",
              "      <td>11.834841</td>\n",
              "      <td>0.478136</td>\n",
              "      <td>97804.236869</td>\n",
              "      <td>1.03451</td>\n",
              "      <td>4.412477</td>\n",
              "      <td>0.478136</td>\n",
              "      <td>0.46767</td>\n",
              "      <td>77.614208</td>\n",
              "      <td>0.46767</td>\n",
              "    </tr>\n",
              "    <tr>\n",
              "      <th>min</th>\n",
              "      <td>40.000000</td>\n",
              "      <td>0.000000</td>\n",
              "      <td>23.000000</td>\n",
              "      <td>0.000000</td>\n",
              "      <td>14.000000</td>\n",
              "      <td>0.000000</td>\n",
              "      <td>25100.000000</td>\n",
              "      <td>0.50000</td>\n",
              "      <td>113.000000</td>\n",
              "      <td>0.000000</td>\n",
              "      <td>0.00000</td>\n",
              "      <td>4.000000</td>\n",
              "      <td>0.00000</td>\n",
              "    </tr>\n",
              "    <tr>\n",
              "      <th>25%</th>\n",
              "      <td>51.000000</td>\n",
              "      <td>0.000000</td>\n",
              "      <td>116.500000</td>\n",
              "      <td>0.000000</td>\n",
              "      <td>30.000000</td>\n",
              "      <td>0.000000</td>\n",
              "      <td>212500.000000</td>\n",
              "      <td>0.90000</td>\n",
              "      <td>134.000000</td>\n",
              "      <td>0.000000</td>\n",
              "      <td>0.00000</td>\n",
              "      <td>73.000000</td>\n",
              "      <td>0.00000</td>\n",
              "    </tr>\n",
              "    <tr>\n",
              "      <th>50%</th>\n",
              "      <td>60.000000</td>\n",
              "      <td>0.000000</td>\n",
              "      <td>250.000000</td>\n",
              "      <td>0.000000</td>\n",
              "      <td>38.000000</td>\n",
              "      <td>0.000000</td>\n",
              "      <td>262000.000000</td>\n",
              "      <td>1.10000</td>\n",
              "      <td>137.000000</td>\n",
              "      <td>1.000000</td>\n",
              "      <td>0.00000</td>\n",
              "      <td>115.000000</td>\n",
              "      <td>0.00000</td>\n",
              "    </tr>\n",
              "    <tr>\n",
              "      <th>75%</th>\n",
              "      <td>70.000000</td>\n",
              "      <td>1.000000</td>\n",
              "      <td>582.000000</td>\n",
              "      <td>1.000000</td>\n",
              "      <td>45.000000</td>\n",
              "      <td>1.000000</td>\n",
              "      <td>303500.000000</td>\n",
              "      <td>1.40000</td>\n",
              "      <td>140.000000</td>\n",
              "      <td>1.000000</td>\n",
              "      <td>1.00000</td>\n",
              "      <td>203.000000</td>\n",
              "      <td>1.00000</td>\n",
              "    </tr>\n",
              "    <tr>\n",
              "      <th>max</th>\n",
              "      <td>95.000000</td>\n",
              "      <td>1.000000</td>\n",
              "      <td>7861.000000</td>\n",
              "      <td>1.000000</td>\n",
              "      <td>80.000000</td>\n",
              "      <td>1.000000</td>\n",
              "      <td>850000.000000</td>\n",
              "      <td>9.40000</td>\n",
              "      <td>148.000000</td>\n",
              "      <td>1.000000</td>\n",
              "      <td>1.00000</td>\n",
              "      <td>285.000000</td>\n",
              "      <td>1.00000</td>\n",
              "    </tr>\n",
              "  </tbody>\n",
              "</table>\n",
              "</div>"
            ],
            "text/plain": [
              "              age     anaemia  ...        time  DEATH_EVENT\n",
              "count  299.000000  299.000000  ...  299.000000    299.00000\n",
              "mean    60.833893    0.431438  ...  130.260870      0.32107\n",
              "std     11.894809    0.496107  ...   77.614208      0.46767\n",
              "min     40.000000    0.000000  ...    4.000000      0.00000\n",
              "25%     51.000000    0.000000  ...   73.000000      0.00000\n",
              "50%     60.000000    0.000000  ...  115.000000      0.00000\n",
              "75%     70.000000    1.000000  ...  203.000000      1.00000\n",
              "max     95.000000    1.000000  ...  285.000000      1.00000\n",
              "\n",
              "[8 rows x 13 columns]"
            ]
          },
          "metadata": {
            "tags": []
          },
          "execution_count": 17
        }
      ]
    },
    {
      "cell_type": "code",
      "metadata": {
        "id": "d8PgSdkrNxCs",
        "colab": {
          "base_uri": "https://localhost:8080/",
          "height": 733
        },
        "outputId": "1aa0335c-9d51-4df1-8c8c-9759fd6f1cc8"
      },
      "source": [
        "plt.figure(figsize=(15,10))\n",
        "sns.heatmap(HF.corr(method='pearson'), annot=True)"
      ],
      "execution_count": 18,
      "outputs": [
        {
          "output_type": "execute_result",
          "data": {
            "text/plain": [
              "<matplotlib.axes._subplots.AxesSubplot at 0x7fb84c9f7bd0>"
            ]
          },
          "metadata": {
            "tags": []
          },
          "execution_count": 18
        },
        {
          "output_type": "display_data",
          "data": {
            "image/png": "[encoded data removed]",
            "text/plain": [
              "<Figure size 1080x720 with 2 Axes>"
            ]
          },
          "metadata": {
            "tags": [],
            "needs_background": "light"
          }
        }
      ]
    },
    {
      "cell_type": "code",
      "metadata": {
        "id": "b_Q8KWCANxHb"
      },
      "source": [
        "HF.rename(columns={'creatinine_phosphokinase':'CPK','high_blood_pressure':'HBP', 'ejection_fraction':'EF', 'DEATH_EVENT':'death_event'},inplace=True);\n",
        "HF.rename(columns=lambda x:x.strip().replace(' ','_'),inplace=True)"
      ],
      "execution_count": 19,
      "outputs": []
    },
    {
      "cell_type": "code",
      "metadata": {
        "id": "nUe8HiTbODhU",
        "colab": {
          "base_uri": "https://localhost:8080/"
        },
        "outputId": "01c20ae7-4b6c-4198-cc77-0ab0e140c98f"
      },
      "source": [
        "HF.columns"
      ],
      "execution_count": 20,
      "outputs": [
        {
          "output_type": "execute_result",
          "data": {
            "text/plain": [
              "Index(['age', 'anaemia', 'CPK', 'diabetes', 'EF', 'HBP', 'platelets',\n",
              "       'serum_creatinine', 'serum_sodium', 'sex', 'smoking', 'time',\n",
              "       'death_event'],\n",
              "      dtype='object')"
            ]
          },
          "metadata": {
            "tags": []
          },
          "execution_count": 20
        }
      ]
    },
    {
      "cell_type": "code",
      "metadata": {
        "id": "Y89VJ5qxODiW",
        "colab": {
          "base_uri": "https://localhost:8080/",
          "height": 419
        },
        "outputId": "13befbf8-e186-4df4-a88c-340f79842d19"
      },
      "source": [
        "HF.isnull()"
      ],
      "execution_count": 21,
      "outputs": [
        {
          "output_type": "execute_result",
          "data": {
            "text/html": [
              "<div>\n",
              "<style scoped>\n",
              "    .dataframe tbody tr th:only-of-type {\n",
              "        vertical-align: middle;\n",
              "    }\n",
              "\n",
              "    .dataframe tbody tr th {\n",
              "        vertical-align: top;\n",
              "    }\n",
              "\n",
              "    .dataframe thead th {\n",
              "        text-align: right;\n",
              "    }\n",
              "</style>\n",
              "<table border=\"1\" class=\"dataframe\">\n",
              "  <thead>\n",
              "    <tr style=\"text-align: right;\">\n",
              "      <th></th>\n",
              "      <th>age</th>\n",
              "      <th>anaemia</th>\n",
              "      <th>CPK</th>\n",
              "      <th>diabetes</th>\n",
              "      <th>EF</th>\n",
              "      <th>HBP</th>\n",
              "      <th>platelets</th>\n",
              "      <th>serum_creatinine</th>\n",
              "      <th>serum_sodium</th>\n",
              "      <th>sex</th>\n",
              "      <th>smoking</th>\n",
              "      <th>time</th>\n",
              "      <th>death_event</th>\n",
              "    </tr>\n",
              "  </thead>\n",
              "  <tbody>\n",
              "    <tr>\n",
              "      <th>0</th>\n",
              "      <td>False</td>\n",
              "      <td>False</td>\n",
              "      <td>False</td>\n",
              "      <td>False</td>\n",
              "      <td>False</td>\n",
              "      <td>False</td>\n",
              "      <td>False</td>\n",
              "      <td>False</td>\n",
              "      <td>False</td>\n",
              "      <td>False</td>\n",
              "      <td>False</td>\n",
              "      <td>False</td>\n",
              "      <td>False</td>\n",
              "    </tr>\n",
              "    <tr>\n",
              "      <th>1</th>\n",
              "      <td>False</td>\n",
              "      <td>False</td>\n",
              "      <td>False</td>\n",
              "      <td>False</td>\n",
              "      <td>False</td>\n",
              "      <td>False</td>\n",
              "      <td>False</td>\n",
              "      <td>False</td>\n",
              "      <td>False</td>\n",
              "      <td>False</td>\n",
              "      <td>False</td>\n",
              "      <td>False</td>\n",
              "      <td>False</td>\n",
              "    </tr>\n",
              "    <tr>\n",
              "      <th>2</th>\n",
              "      <td>False</td>\n",
              "      <td>False</td>\n",
              "      <td>False</td>\n",
              "      <td>False</td>\n",
              "      <td>False</td>\n",
              "      <td>False</td>\n",
              "      <td>False</td>\n",
              "      <td>False</td>\n",
              "      <td>False</td>\n",
              "      <td>False</td>\n",
              "      <td>False</td>\n",
              "      <td>False</td>\n",
              "      <td>False</td>\n",
              "    </tr>\n",
              "    <tr>\n",
              "      <th>3</th>\n",
              "      <td>False</td>\n",
              "      <td>False</td>\n",
              "      <td>False</td>\n",
              "      <td>False</td>\n",
              "      <td>False</td>\n",
              "      <td>False</td>\n",
              "      <td>False</td>\n",
              "      <td>False</td>\n",
              "      <td>False</td>\n",
              "      <td>False</td>\n",
              "      <td>False</td>\n",
              "      <td>False</td>\n",
              "      <td>False</td>\n",
              "    </tr>\n",
              "    <tr>\n",
              "      <th>4</th>\n",
              "      <td>False</td>\n",
              "      <td>False</td>\n",
              "      <td>False</td>\n",
              "      <td>False</td>\n",
              "      <td>False</td>\n",
              "      <td>False</td>\n",
              "      <td>False</td>\n",
              "      <td>False</td>\n",
              "      <td>False</td>\n",
              "      <td>False</td>\n",
              "      <td>False</td>\n",
              "      <td>False</td>\n",
              "      <td>False</td>\n",
              "    </tr>\n",
              "    <tr>\n",
              "      <th>...</th>\n",
              "      <td>...</td>\n",
              "      <td>...</td>\n",
              "      <td>...</td>\n",
              "      <td>...</td>\n",
              "      <td>...</td>\n",
              "      <td>...</td>\n",
              "      <td>...</td>\n",
              "      <td>...</td>\n",
              "      <td>...</td>\n",
              "      <td>...</td>\n",
              "      <td>...</td>\n",
              "      <td>...</td>\n",
              "      <td>...</td>\n",
              "    </tr>\n",
              "    <tr>\n",
              "      <th>294</th>\n",
              "      <td>False</td>\n",
              "      <td>False</td>\n",
              "      <td>False</td>\n",
              "      <td>False</td>\n",
              "      <td>False</td>\n",
              "      <td>False</td>\n",
              "      <td>False</td>\n",
              "      <td>False</td>\n",
              "      <td>False</td>\n",
              "      <td>False</td>\n",
              "      <td>False</td>\n",
              "      <td>False</td>\n",
              "      <td>False</td>\n",
              "    </tr>\n",
              "    <tr>\n",
              "      <th>295</th>\n",
              "      <td>False</td>\n",
              "      <td>False</td>\n",
              "      <td>False</td>\n",
              "      <td>False</td>\n",
              "      <td>False</td>\n",
              "      <td>False</td>\n",
              "      <td>False</td>\n",
              "      <td>False</td>\n",
              "      <td>False</td>\n",
              "      <td>False</td>\n",
              "      <td>False</td>\n",
              "      <td>False</td>\n",
              "      <td>False</td>\n",
              "    </tr>\n",
              "    <tr>\n",
              "      <th>296</th>\n",
              "      <td>False</td>\n",
              "      <td>False</td>\n",
              "      <td>False</td>\n",
              "      <td>False</td>\n",
              "      <td>False</td>\n",
              "      <td>False</td>\n",
              "      <td>False</td>\n",
              "      <td>False</td>\n",
              "      <td>False</td>\n",
              "      <td>False</td>\n",
              "      <td>False</td>\n",
              "      <td>False</td>\n",
              "      <td>False</td>\n",
              "    </tr>\n",
              "    <tr>\n",
              "      <th>297</th>\n",
              "      <td>False</td>\n",
              "      <td>False</td>\n",
              "      <td>False</td>\n",
              "      <td>False</td>\n",
              "      <td>False</td>\n",
              "      <td>False</td>\n",
              "      <td>False</td>\n",
              "      <td>False</td>\n",
              "      <td>False</td>\n",
              "      <td>False</td>\n",
              "      <td>False</td>\n",
              "      <td>False</td>\n",
              "      <td>False</td>\n",
              "    </tr>\n",
              "    <tr>\n",
              "      <th>298</th>\n",
              "      <td>False</td>\n",
              "      <td>False</td>\n",
              "      <td>False</td>\n",
              "      <td>False</td>\n",
              "      <td>False</td>\n",
              "      <td>False</td>\n",
              "      <td>False</td>\n",
              "      <td>False</td>\n",
              "      <td>False</td>\n",
              "      <td>False</td>\n",
              "      <td>False</td>\n",
              "      <td>False</td>\n",
              "      <td>False</td>\n",
              "    </tr>\n",
              "  </tbody>\n",
              "</table>\n",
              "<p>299 rows × 13 columns</p>\n",
              "</div>"
            ],
            "text/plain": [
              "       age  anaemia    CPK  diabetes  ...    sex  smoking   time  death_event\n",
              "0    False    False  False     False  ...  False    False  False        False\n",
              "1    False    False  False     False  ...  False    False  False        False\n",
              "2    False    False  False     False  ...  False    False  False        False\n",
              "3    False    False  False     False  ...  False    False  False        False\n",
              "4    False    False  False     False  ...  False    False  False        False\n",
              "..     ...      ...    ...       ...  ...    ...      ...    ...          ...\n",
              "294  False    False  False     False  ...  False    False  False        False\n",
              "295  False    False  False     False  ...  False    False  False        False\n",
              "296  False    False  False     False  ...  False    False  False        False\n",
              "297  False    False  False     False  ...  False    False  False        False\n",
              "298  False    False  False     False  ...  False    False  False        False\n",
              "\n",
              "[299 rows x 13 columns]"
            ]
          },
          "metadata": {
            "tags": []
          },
          "execution_count": 21
        }
      ]
    },
    {
      "cell_type": "code",
      "metadata": {
        "id": "6QcHUL2WODm0",
        "colab": {
          "base_uri": "https://localhost:8080/"
        },
        "outputId": "85c1351b-ef79-4f83-988d-8723c41b245e"
      },
      "source": [
        "HF.isnull().sum()"
      ],
      "execution_count": 22,
      "outputs": [
        {
          "output_type": "execute_result",
          "data": {
            "text/plain": [
              "age                 0\n",
              "anaemia             0\n",
              "CPK                 0\n",
              "diabetes            0\n",
              "EF                  0\n",
              "HBP                 0\n",
              "platelets           0\n",
              "serum_creatinine    0\n",
              "serum_sodium        0\n",
              "sex                 0\n",
              "smoking             0\n",
              "time                0\n",
              "death_event         0\n",
              "dtype: int64"
            ]
          },
          "metadata": {
            "tags": []
          },
          "execution_count": 22
        }
      ]
    },
    {
      "cell_type": "code",
      "metadata": {
        "id": "RIP3qYavODvE",
        "colab": {
          "base_uri": "https://localhost:8080/"
        },
        "outputId": "8899d4e1-5928-4408-ef94-e9bac5d8d040"
      },
      "source": [
        "HF.duplicated()"
      ],
      "execution_count": 23,
      "outputs": [
        {
          "output_type": "execute_result",
          "data": {
            "text/plain": [
              "0      False\n",
              "1      False\n",
              "2      False\n",
              "3      False\n",
              "4      False\n",
              "       ...  \n",
              "294    False\n",
              "295    False\n",
              "296    False\n",
              "297    False\n",
              "298    False\n",
              "Length: 299, dtype: bool"
            ]
          },
          "metadata": {
            "tags": []
          },
          "execution_count": 23
        }
      ]
    },
    {
      "cell_type": "code",
      "metadata": {
        "id": "DwWrjsKuODwA",
        "colab": {
          "base_uri": "https://localhost:8080/"
        },
        "outputId": "c01e3764-f09e-4898-a91f-2a8f232717c0"
      },
      "source": [
        "HF.duplicated().sum()"
      ],
      "execution_count": 24,
      "outputs": [
        {
          "output_type": "execute_result",
          "data": {
            "text/plain": [
              "0"
            ]
          },
          "metadata": {
            "tags": []
          },
          "execution_count": 24
        }
      ]
    },
    {
      "cell_type": "code",
      "metadata": {
        "id": "lQD1HzysODz-",
        "colab": {
          "base_uri": "https://localhost:8080/",
          "height": 419
        },
        "outputId": "a0fc8137-9556-46b6-97a8-be63decc188c"
      },
      "source": [
        "HF.drop_duplicates(subset=None, keep='first', inplace=False)"
      ],
      "execution_count": 25,
      "outputs": [
        {
          "output_type": "execute_result",
          "data": {
            "text/html": [
              "<div>\n",
              "<style scoped>\n",
              "    .dataframe tbody tr th:only-of-type {\n",
              "        vertical-align: middle;\n",
              "    }\n",
              "\n",
              "    .dataframe tbody tr th {\n",
              "        vertical-align: top;\n",
              "    }\n",
              "\n",
              "    .dataframe thead th {\n",
              "        text-align: right;\n",
              "    }\n",
              "</style>\n",
              "<table border=\"1\" class=\"dataframe\">\n",
              "  <thead>\n",
              "    <tr style=\"text-align: right;\">\n",
              "      <th></th>\n",
              "      <th>age</th>\n",
              "      <th>anaemia</th>\n",
              "      <th>CPK</th>\n",
              "      <th>diabetes</th>\n",
              "      <th>EF</th>\n",
              "      <th>HBP</th>\n",
              "      <th>platelets</th>\n",
              "      <th>serum_creatinine</th>\n",
              "      <th>serum_sodium</th>\n",
              "      <th>sex</th>\n",
              "      <th>smoking</th>\n",
              "      <th>time</th>\n",
              "      <th>death_event</th>\n",
              "    </tr>\n",
              "  </thead>\n",
              "  <tbody>\n",
              "    <tr>\n",
              "      <th>0</th>\n",
              "      <td>75.0</td>\n",
              "      <td>0</td>\n",
              "      <td>582</td>\n",
              "      <td>0</td>\n",
              "      <td>20</td>\n",
              "      <td>1</td>\n",
              "      <td>265000.00</td>\n",
              "      <td>1.9</td>\n",
              "      <td>130</td>\n",
              "      <td>1</td>\n",
              "      <td>0</td>\n",
              "      <td>4</td>\n",
              "      <td>1</td>\n",
              "    </tr>\n",
              "    <tr>\n",
              "      <th>1</th>\n",
              "      <td>55.0</td>\n",
              "      <td>0</td>\n",
              "      <td>7861</td>\n",
              "      <td>0</td>\n",
              "      <td>38</td>\n",
              "      <td>0</td>\n",
              "      <td>263358.03</td>\n",
              "      <td>1.1</td>\n",
              "      <td>136</td>\n",
              "      <td>1</td>\n",
              "      <td>0</td>\n",
              "      <td>6</td>\n",
              "      <td>1</td>\n",
              "    </tr>\n",
              "    <tr>\n",
              "      <th>2</th>\n",
              "      <td>65.0</td>\n",
              "      <td>0</td>\n",
              "      <td>146</td>\n",
              "      <td>0</td>\n",
              "      <td>20</td>\n",
              "      <td>0</td>\n",
              "      <td>162000.00</td>\n",
              "      <td>1.3</td>\n",
              "      <td>129</td>\n",
              "      <td>1</td>\n",
              "      <td>1</td>\n",
              "      <td>7</td>\n",
              "      <td>1</td>\n",
              "    </tr>\n",
              "    <tr>\n",
              "      <th>3</th>\n",
              "      <td>50.0</td>\n",
              "      <td>1</td>\n",
              "      <td>111</td>\n",
              "      <td>0</td>\n",
              "      <td>20</td>\n",
              "      <td>0</td>\n",
              "      <td>210000.00</td>\n",
              "      <td>1.9</td>\n",
              "      <td>137</td>\n",
              "      <td>1</td>\n",
              "      <td>0</td>\n",
              "      <td>7</td>\n",
              "      <td>1</td>\n",
              "    </tr>\n",
              "    <tr>\n",
              "      <th>4</th>\n",
              "      <td>65.0</td>\n",
              "      <td>1</td>\n",
              "      <td>160</td>\n",
              "      <td>1</td>\n",
              "      <td>20</td>\n",
              "      <td>0</td>\n",
              "      <td>327000.00</td>\n",
              "      <td>2.7</td>\n",
              "      <td>116</td>\n",
              "      <td>0</td>\n",
              "      <td>0</td>\n",
              "      <td>8</td>\n",
              "      <td>1</td>\n",
              "    </tr>\n",
              "    <tr>\n",
              "      <th>...</th>\n",
              "      <td>...</td>\n",
              "      <td>...</td>\n",
              "      <td>...</td>\n",
              "      <td>...</td>\n",
              "      <td>...</td>\n",
              "      <td>...</td>\n",
              "      <td>...</td>\n",
              "      <td>...</td>\n",
              "      <td>...</td>\n",
              "      <td>...</td>\n",
              "      <td>...</td>\n",
              "      <td>...</td>\n",
              "      <td>...</td>\n",
              "    </tr>\n",
              "    <tr>\n",
              "      <th>294</th>\n",
              "      <td>62.0</td>\n",
              "      <td>0</td>\n",
              "      <td>61</td>\n",
              "      <td>1</td>\n",
              "      <td>38</td>\n",
              "      <td>1</td>\n",
              "      <td>155000.00</td>\n",
              "      <td>1.1</td>\n",
              "      <td>143</td>\n",
              "      <td>1</td>\n",
              "      <td>1</td>\n",
              "      <td>270</td>\n",
              "      <td>0</td>\n",
              "    </tr>\n",
              "    <tr>\n",
              "      <th>295</th>\n",
              "      <td>55.0</td>\n",
              "      <td>0</td>\n",
              "      <td>1820</td>\n",
              "      <td>0</td>\n",
              "      <td>38</td>\n",
              "      <td>0</td>\n",
              "      <td>270000.00</td>\n",
              "      <td>1.2</td>\n",
              "      <td>139</td>\n",
              "      <td>0</td>\n",
              "      <td>0</td>\n",
              "      <td>271</td>\n",
              "      <td>0</td>\n",
              "    </tr>\n",
              "    <tr>\n",
              "      <th>296</th>\n",
              "      <td>45.0</td>\n",
              "      <td>0</td>\n",
              "      <td>2060</td>\n",
              "      <td>1</td>\n",
              "      <td>60</td>\n",
              "      <td>0</td>\n",
              "      <td>742000.00</td>\n",
              "      <td>0.8</td>\n",
              "      <td>138</td>\n",
              "      <td>0</td>\n",
              "      <td>0</td>\n",
              "      <td>278</td>\n",
              "      <td>0</td>\n",
              "    </tr>\n",
              "    <tr>\n",
              "      <th>297</th>\n",
              "      <td>45.0</td>\n",
              "      <td>0</td>\n",
              "      <td>2413</td>\n",
              "      <td>0</td>\n",
              "      <td>38</td>\n",
              "      <td>0</td>\n",
              "      <td>140000.00</td>\n",
              "      <td>1.4</td>\n",
              "      <td>140</td>\n",
              "      <td>1</td>\n",
              "      <td>1</td>\n",
              "      <td>280</td>\n",
              "      <td>0</td>\n",
              "    </tr>\n",
              "    <tr>\n",
              "      <th>298</th>\n",
              "      <td>50.0</td>\n",
              "      <td>0</td>\n",
              "      <td>196</td>\n",
              "      <td>0</td>\n",
              "      <td>45</td>\n",
              "      <td>0</td>\n",
              "      <td>395000.00</td>\n",
              "      <td>1.6</td>\n",
              "      <td>136</td>\n",
              "      <td>1</td>\n",
              "      <td>1</td>\n",
              "      <td>285</td>\n",
              "      <td>0</td>\n",
              "    </tr>\n",
              "  </tbody>\n",
              "</table>\n",
              "<p>299 rows × 13 columns</p>\n",
              "</div>"
            ],
            "text/plain": [
              "      age  anaemia   CPK  diabetes  ...  sex  smoking  time  death_event\n",
              "0    75.0        0   582         0  ...    1        0     4            1\n",
              "1    55.0        0  7861         0  ...    1        0     6            1\n",
              "2    65.0        0   146         0  ...    1        1     7            1\n",
              "3    50.0        1   111         0  ...    1        0     7            1\n",
              "4    65.0        1   160         1  ...    0        0     8            1\n",
              "..    ...      ...   ...       ...  ...  ...      ...   ...          ...\n",
              "294  62.0        0    61         1  ...    1        1   270            0\n",
              "295  55.0        0  1820         0  ...    0        0   271            0\n",
              "296  45.0        0  2060         1  ...    0        0   278            0\n",
              "297  45.0        0  2413         0  ...    1        1   280            0\n",
              "298  50.0        0   196         0  ...    1        1   285            0\n",
              "\n",
              "[299 rows x 13 columns]"
            ]
          },
          "metadata": {
            "tags": []
          },
          "execution_count": 25
        }
      ]
    },
    {
      "cell_type": "code",
      "metadata": {
        "id": "zUDH6eWvOD1C",
        "colab": {
          "base_uri": "https://localhost:8080/"
        },
        "outputId": "b133c59b-e8f3-40c9-bd52-ca5d55a7c1dc"
      },
      "source": [
        "HF.nunique()"
      ],
      "execution_count": 26,
      "outputs": [
        {
          "output_type": "execute_result",
          "data": {
            "text/plain": [
              "age                  47\n",
              "anaemia               2\n",
              "CPK                 208\n",
              "diabetes              2\n",
              "EF                   17\n",
              "HBP                   2\n",
              "platelets           176\n",
              "serum_creatinine     40\n",
              "serum_sodium         27\n",
              "sex                   2\n",
              "smoking               2\n",
              "time                148\n",
              "death_event           2\n",
              "dtype: int64"
            ]
          },
          "metadata": {
            "tags": []
          },
          "execution_count": 26
        }
      ]
    },
    {
      "cell_type": "markdown",
      "metadata": {
        "id": "xo3C7XvGQ5jG"
      },
      "source": [
        "## Exploratory Data Analysis"
      ]
    },
    {
      "cell_type": "markdown",
      "metadata": {
        "id": "n0PRWL03RJOJ"
      },
      "source": [
        "**Death** **Event** **Column**"
      ]
    },
    {
      "cell_type": "code",
      "metadata": {
        "id": "xF9F2pCLOD4d",
        "colab": {
          "base_uri": "https://localhost:8080/",
          "height": 839
        },
        "outputId": "e19be9d3-628c-44b2-adf0-1f903a8418be"
      },
      "source": [
        "plt.figure(figsize = (12, 7))\n",
        "\n",
        "sns.countplot(y = 'death_event', data = HF)\n",
        "plt.show()\n",
        "\n",
        "values = HF['death_event'].value_counts()\n",
        "labels = ['Survived', 'Dead']\n",
        "\n",
        "fig, ax = plt.subplots(figsize = (5, 5), dpi = 100)\n",
        "explode = (0, 0.06)\n",
        "\n",
        "patches, texts, autotexts = ax.pie(values, labels = labels, autopct = '%1.2f%%', shadow = True,\n",
        "                                   startangle = 90, explode = explode)\n",
        "\n",
        "plt.setp(texts, color = 'grey')\n",
        "plt.setp(autotexts, size = 12, color = 'white')\n",
        "autotexts[1].set_color('black')\n",
        "plt.show()"
      ],
      "execution_count": 27,
      "outputs": [
        {
          "output_type": "display_data",
          "data": {
            "image/png": "[encoded data removed]",
            "text/plain": [
              "<Figure size 864x504 with 1 Axes>"
            ]
          },
          "metadata": {
            "tags": [],
            "needs_background": "light"
          }
        },
        {
          "output_type": "display_data",
          "data": {
            "image/png": "[encoded data removed]",
            "text/plain": [
              "<Figure size 500x500 with 1 Axes>"
            ]
          },
          "metadata": {
            "tags": []
          }
        }
      ]
    },
    {
      "cell_type": "code",
      "metadata": {
        "id": "Hjvfc3TRR2-D"
      },
      "source": [
        ""
      ],
      "execution_count": 27,
      "outputs": []
    },
    {
      "cell_type": "code",
      "metadata": {
        "id": "XECnCvEaOD-t",
        "colab": {
          "base_uri": "https://localhost:8080/",
          "height": 676
        },
        "outputId": "90ac52c2-044f-4980-ac52-8fdd9d6c6586"
      },
      "source": [
        "plt.figure(figsize = (15, 6))\n",
        "plt.style.use('ggplot')\n",
        "\n",
        "sns.distplot(HF['age'])\n",
        "plt.show()\n",
        "\n",
        "sns.boxplot(HF['age'])\n",
        "\n"
      ],
      "execution_count": 28,
      "outputs": [
        {
          "output_type": "display_data",
          "data": {
            "image/png": "[encoded data removed]",
            "text/plain": [
              "<Figure size 1080x432 with 1 Axes>"
            ]
          },
          "metadata": {
            "tags": [],
            "needs_background": "light"
          }
        },
        {
          "output_type": "execute_result",
          "data": {
            "text/plain": [
              "<matplotlib.axes._subplots.AxesSubplot at 0x7fb843190f10>"
            ]
          },
          "metadata": {
            "tags": []
          },
          "execution_count": 28
        },
        {
          "output_type": "display_data",
          "data": {
            "image/png": "[encoded data removed]",
            "text/plain": [
              "<Figure size 432x288 with 1 Axes>"
            ]
          },
          "metadata": {
            "tags": []
          }
        }
      ]
    },
    {
      "cell_type": "markdown",
      "metadata": {
        "id": "NCZyNCtYbkud"
      },
      "source": [
        "CPK"
      ]
    },
    {
      "cell_type": "code",
      "metadata": {
        "id": "VcD9bkuVNxIk",
        "colab": {
          "base_uri": "https://localhost:8080/",
          "height": 300
        },
        "outputId": "1f30dbd7-cceb-4294-a4f1-dd3428bd79e7"
      },
      "source": [
        "sns.kdeplot(\n",
        "   data=HF, x=\"CPK\", hue=\"death_event\",\n",
        "   fill=True, common_norm=False, palette=\"rocket\",\n",
        "   alpha=.5, linewidth=0,\n",
        ")\n"
      ],
      "execution_count": 29,
      "outputs": [
        {
          "output_type": "execute_result",
          "data": {
            "text/plain": [
              "<matplotlib.axes._subplots.AxesSubplot at 0x7fb844287590>"
            ]
          },
          "metadata": {
            "tags": []
          },
          "execution_count": 29
        },
        {
          "output_type": "display_data",
          "data": {
            "image/png": "[encoded data removed]",
            "text/plain": [
              "<Figure size 432x288 with 1 Axes>"
            ]
          },
          "metadata": {
            "tags": []
          }
        }
      ]
    },
    {
      "cell_type": "code",
      "metadata": {
        "id": "vUWNMDDAS4_W",
        "colab": {
          "base_uri": "https://localhost:8080/",
          "height": 299
        },
        "outputId": "63413696-8a26-4789-a2ba-01592cb413c4"
      },
      "source": [
        "sns.boxplot(HF['CPK'])"
      ],
      "execution_count": 30,
      "outputs": [
        {
          "output_type": "execute_result",
          "data": {
            "text/plain": [
              "<matplotlib.axes._subplots.AxesSubplot at 0x7fb84ca19a10>"
            ]
          },
          "metadata": {
            "tags": []
          },
          "execution_count": 30
        },
        {
          "output_type": "display_data",
          "data": {
            "image/png": "[encoded data removed]",
            "text/plain": [
              "<Figure size 432x288 with 1 Axes>"
            ]
          },
          "metadata": {
            "tags": []
          }
        }
      ]
    },
    {
      "cell_type": "markdown",
      "metadata": {
        "id": "O7DRPZQebGw2"
      },
      "source": [
        "Ejection Fraction (EF)"
      ]
    },
    {
      "cell_type": "code",
      "metadata": {
        "id": "5R_9_MBvax_H",
        "colab": {
          "base_uri": "https://localhost:8080/",
          "height": 299
        },
        "outputId": "a793cc02-5518-4b4b-c6a5-2915915f2d09"
      },
      "source": [
        "sns.kdeplot(\n",
        "   data=HF, x=\"EF\", hue=\"death_event\",\n",
        "   fill=True, common_norm=False, palette=\"viridis\",\n",
        "   alpha=.5, linewidth=0,\n",
        ")"
      ],
      "execution_count": 31,
      "outputs": [
        {
          "output_type": "execute_result",
          "data": {
            "text/plain": [
              "<matplotlib.axes._subplots.AxesSubplot at 0x7fb841ced550>"
            ]
          },
          "metadata": {
            "tags": []
          },
          "execution_count": 31
        },
        {
          "output_type": "display_data",
          "data": {
            "image/png": "[encoded data removed]",
            "text/plain": [
              "<Figure size 432x288 with 1 Axes>"
            ]
          },
          "metadata": {
            "tags": []
          }
        }
      ]
    },
    {
      "cell_type": "code",
      "metadata": {
        "id": "yaSQdgHUa7uc",
        "colab": {
          "base_uri": "https://localhost:8080/",
          "height": 299
        },
        "outputId": "92c3b2cd-5d20-4c5c-ac3d-42f03098f2db"
      },
      "source": [
        "sns.boxplot(HF['EF'])"
      ],
      "execution_count": 32,
      "outputs": [
        {
          "output_type": "execute_result",
          "data": {
            "text/plain": [
              "<matplotlib.axes._subplots.AxesSubplot at 0x7fb841c6d790>"
            ]
          },
          "metadata": {
            "tags": []
          },
          "execution_count": 32
        },
        {
          "output_type": "display_data",
          "data": {
            "image/png": "[encoded data removed]",
            "text/plain": [
              "<Figure size 432x288 with 1 Axes>"
            ]
          },
          "metadata": {
            "tags": []
          }
        }
      ]
    },
    {
      "cell_type": "markdown",
      "metadata": {
        "id": "uHVYkHtubL78"
      },
      "source": [
        "Platelets"
      ]
    },
    {
      "cell_type": "code",
      "metadata": {
        "id": "QHu0BAbATLUM",
        "colab": {
          "base_uri": "https://localhost:8080/",
          "height": 310
        },
        "outputId": "9b673436-3fb1-4a60-f50f-d737ca8cc8a8"
      },
      "source": [
        "sns.kdeplot(\n",
        "   data=HF, x=\"platelets\", hue=\"death_event\",\n",
        "   fill=True, common_norm=False, palette=\"magma\",\n",
        "   alpha=.5, linewidth=0,\n",
        ")"
      ],
      "execution_count": 33,
      "outputs": [
        {
          "output_type": "execute_result",
          "data": {
            "text/plain": [
              "<matplotlib.axes._subplots.AxesSubplot at 0x7fb841bcc950>"
            ]
          },
          "metadata": {
            "tags": []
          },
          "execution_count": 33
        },
        {
          "output_type": "display_data",
          "data": {
            "image/png": "[encoded data removed]",
            "text/plain": [
              "<Figure size 432x288 with 1 Axes>"
            ]
          },
          "metadata": {
            "tags": []
          }
        }
      ]
    },
    {
      "cell_type": "code",
      "metadata": {
        "id": "hgaEAPjPT3fK",
        "colab": {
          "base_uri": "https://localhost:8080/",
          "height": 299
        },
        "outputId": "2a668977-0dc9-4f96-bc8e-7b3f5c5874e9"
      },
      "source": [
        "sns.boxplot(HF['platelets'])"
      ],
      "execution_count": 34,
      "outputs": [
        {
          "output_type": "execute_result",
          "data": {
            "text/plain": [
              "<matplotlib.axes._subplots.AxesSubplot at 0x7fb841c562d0>"
            ]
          },
          "metadata": {
            "tags": []
          },
          "execution_count": 34
        },
        {
          "output_type": "display_data",
          "data": {
            "image/png": "[encoded data removed]",
            "text/plain": [
              "<Figure size 432x288 with 1 Axes>"
            ]
          },
          "metadata": {
            "tags": []
          }
        }
      ]
    },
    {
      "cell_type": "markdown",
      "metadata": {
        "id": "e-89jcT1bRD_"
      },
      "source": [
        "Serum Sodium"
      ]
    },
    {
      "cell_type": "code",
      "metadata": {
        "id": "UaSbtX2BUK9K",
        "colab": {
          "base_uri": "https://localhost:8080/",
          "height": 299
        },
        "outputId": "598626d8-9af3-4f12-c632-454c07820259"
      },
      "source": [
        "sns.kdeplot(\n",
        "   data=HF, x=\"serum_sodium\", hue=\"death_event\",\n",
        "   fill=True, common_norm=False, palette=\"rocket\",\n",
        "   alpha=.5, linewidth=0,\n",
        ")"
      ],
      "execution_count": 35,
      "outputs": [
        {
          "output_type": "execute_result",
          "data": {
            "text/plain": [
              "<matplotlib.axes._subplots.AxesSubplot at 0x7fb841b33f10>"
            ]
          },
          "metadata": {
            "tags": []
          },
          "execution_count": 35
        },
        {
          "output_type": "display_data",
          "data": {
            "image/png": "[encoded data removed]",
            "text/plain": [
              "<Figure size 432x288 with 1 Axes>"
            ]
          },
          "metadata": {
            "tags": []
          }
        }
      ]
    },
    {
      "cell_type": "code",
      "metadata": {
        "id": "PRoBsKJCUfwS",
        "colab": {
          "base_uri": "https://localhost:8080/",
          "height": 299
        },
        "outputId": "72681b76-5bbd-4998-f56c-14dc932fdad4"
      },
      "source": [
        "sns.boxplot(HF['serum_sodium'])"
      ],
      "execution_count": 36,
      "outputs": [
        {
          "output_type": "execute_result",
          "data": {
            "text/plain": [
              "<matplotlib.axes._subplots.AxesSubplot at 0x7fb841ac22d0>"
            ]
          },
          "metadata": {
            "tags": []
          },
          "execution_count": 36
        },
        {
          "output_type": "display_data",
          "data": {
            "image/png": "[encoded data removed]",
            "text/plain": [
              "<Figure size 432x288 with 1 Axes>"
            ]
          },
          "metadata": {
            "tags": []
          }
        }
      ]
    },
    {
      "cell_type": "markdown",
      "metadata": {
        "id": "8Z42aeekbXq-"
      },
      "source": [
        "Serum Creatinine"
      ]
    },
    {
      "cell_type": "code",
      "metadata": {
        "id": "8iVmXR_pUXZH",
        "colab": {
          "base_uri": "https://localhost:8080/",
          "height": 299
        },
        "outputId": "16ec5e14-9391-47a8-cf7a-16abe84d9c87"
      },
      "source": [
        "sns.kdeplot(\n",
        "   data=HF, x=\"serum_creatinine\", hue=\"death_event\",\n",
        "   fill=True, common_norm=False, palette=\"mako\",\n",
        "   alpha=.5, linewidth=0,\n",
        ")"
      ],
      "execution_count": 37,
      "outputs": [
        {
          "output_type": "execute_result",
          "data": {
            "text/plain": [
              "<matplotlib.axes._subplots.AxesSubplot at 0x7fb841a1d390>"
            ]
          },
          "metadata": {
            "tags": []
          },
          "execution_count": 37
        },
        {
          "output_type": "display_data",
          "data": {
            "image/png": "[encoded data removed]",
            "text/plain": [
              "<Figure size 432x288 with 1 Axes>"
            ]
          },
          "metadata": {
            "tags": []
          }
        }
      ]
    },
    {
      "cell_type": "code",
      "metadata": {
        "id": "FzDTBUa6Umol",
        "colab": {
          "base_uri": "https://localhost:8080/",
          "height": 299
        },
        "outputId": "455e417f-0396-4b38-bd0a-92a3b4438858"
      },
      "source": [
        "sns.boxplot(HF['serum_creatinine'])"
      ],
      "execution_count": 38,
      "outputs": [
        {
          "output_type": "execute_result",
          "data": {
            "text/plain": [
              "<matplotlib.axes._subplots.AxesSubplot at 0x7fb84199ec10>"
            ]
          },
          "metadata": {
            "tags": []
          },
          "execution_count": 38
        },
        {
          "output_type": "display_data",
          "data": {
            "image/png": "[encoded data removed]",
            "text/plain": [
              "<Figure size 432x288 with 1 Axes>"
            ]
          },
          "metadata": {
            "tags": []
          }
        }
      ]
    },
    {
      "cell_type": "markdown",
      "metadata": {
        "id": "UjfmoYUXbdWE"
      },
      "source": [
        "Time"
      ]
    },
    {
      "cell_type": "code",
      "metadata": {
        "id": "00XkamqWUzRE",
        "colab": {
          "base_uri": "https://localhost:8080/",
          "height": 299
        },
        "outputId": "fa07fa44-2f2c-4de5-a26b-8cdc4124aab5"
      },
      "source": [
        "sns.kdeplot(\n",
        "   data=HF, x=\"time\", hue=\"death_event\",\n",
        "   fill=True, common_norm=False, palette=\"flare\",\n",
        "   alpha=.5, linewidth=0,\n",
        ")"
      ],
      "execution_count": 39,
      "outputs": [
        {
          "output_type": "execute_result",
          "data": {
            "text/plain": [
              "<matplotlib.axes._subplots.AxesSubplot at 0x7fb84196be10>"
            ]
          },
          "metadata": {
            "tags": []
          },
          "execution_count": 39
        },
        {
          "output_type": "display_data",
          "data": {
            "image/png": "[encoded data removed]",
            "text/plain": [
              "<Figure size 432x288 with 1 Axes>"
            ]
          },
          "metadata": {
            "tags": []
          }
        }
      ]
    },
    {
      "cell_type": "code",
      "metadata": {
        "id": "kcvKojTZU8Ij",
        "colab": {
          "base_uri": "https://localhost:8080/",
          "height": 299
        },
        "outputId": "45daf6c8-61e3-41f1-e6a7-3dc21fda3c55"
      },
      "source": [
        "sns.boxplot(HF['time'])"
      ],
      "execution_count": 40,
      "outputs": [
        {
          "output_type": "execute_result",
          "data": {
            "text/plain": [
              "<matplotlib.axes._subplots.AxesSubplot at 0x7fb8418c9210>"
            ]
          },
          "metadata": {
            "tags": []
          },
          "execution_count": 40
        },
        {
          "output_type": "display_data",
          "data": {
            "image/png": "[encoded data removed]",
            "text/plain": [
              "<Figure size 432x288 with 1 Axes>"
            ]
          },
          "metadata": {
            "tags": []
          }
        }
      ]
    },
    {
      "cell_type": "markdown",
      "metadata": {
        "id": "8-Bk7lzsVOPP"
      },
      "source": [
        ""
      ]
    },
    {
      "cell_type": "markdown",
      "metadata": {
        "id": "2mLlmgUcVOnL"
      },
      "source": [
        "Anaemia"
      ]
    },
    {
      "cell_type": "code",
      "metadata": {
        "id": "u-8CDIwjXN09",
        "colab": {
          "base_uri": "https://localhost:8080/"
        },
        "outputId": "84d0cb8b-3bf9-4cb3-c2f7-ba6a6914c994"
      },
      "source": [
        "(HF['anaemia'].value_counts()/sum(HF['anaemia'].value_counts()))*100"
      ],
      "execution_count": 41,
      "outputs": [
        {
          "output_type": "execute_result",
          "data": {
            "text/plain": [
              "0    56.856187\n",
              "1    43.143813\n",
              "Name: anaemia, dtype: float64"
            ]
          },
          "metadata": {
            "tags": []
          },
          "execution_count": 41
        }
      ]
    },
    {
      "cell_type": "code",
      "metadata": {
        "id": "gfuZHCUwXJzU",
        "colab": {
          "base_uri": "https://localhost:8080/"
        },
        "outputId": "11da899b-1426-41b4-b9e5-b74c23bfee90"
      },
      "source": [
        "HF.anaemia.value_counts()"
      ],
      "execution_count": 42,
      "outputs": [
        {
          "output_type": "execute_result",
          "data": {
            "text/plain": [
              "0    170\n",
              "1    129\n",
              "Name: anaemia, dtype: int64"
            ]
          },
          "metadata": {
            "tags": []
          },
          "execution_count": 42
        }
      ]
    },
    {
      "cell_type": "code",
      "metadata": {
        "id": "Zv4WoUtvV0b5",
        "colab": {
          "base_uri": "https://localhost:8080/"
        },
        "outputId": "836bc7dc-5dcb-41e1-d4ee-75ddc991ba99"
      },
      "source": [
        "HF.groupby(['anaemia', 'death_event'])['death_event'].count()"
      ],
      "execution_count": 43,
      "outputs": [
        {
          "output_type": "execute_result",
          "data": {
            "text/plain": [
              "anaemia  death_event\n",
              "0        0              120\n",
              "         1               50\n",
              "1        0               83\n",
              "         1               46\n",
              "Name: death_event, dtype: int64"
            ]
          },
          "metadata": {
            "tags": []
          },
          "execution_count": 43
        }
      ]
    },
    {
      "cell_type": "code",
      "metadata": {
        "id": "zM6Z07GdVLDJ",
        "colab": {
          "base_uri": "https://localhost:8080/",
          "height": 500
        },
        "outputId": "268f6571-bdc4-49d6-aa25-a0bed0d170fc"
      },
      "source": [
        "plt.figure(figsize = (16, 8))\n",
        "\n",
        "sns.countplot('anaemia', hue = 'death_event', data = HF)\n",
        "plt.show()"
      ],
      "execution_count": 44,
      "outputs": [
        {
          "output_type": "display_data",
          "data": {
            "image/png": "[encoded data removed]",
            "text/plain": [
              "<Figure size 1152x576 with 1 Axes>"
            ]
          },
          "metadata": {
            "tags": []
          }
        }
      ]
    },
    {
      "cell_type": "markdown",
      "metadata": {
        "id": "MrocwQYCXXK5"
      },
      "source": [
        "Diabetes"
      ]
    },
    {
      "cell_type": "code",
      "metadata": {
        "id": "c-5YEOX-XWJH",
        "colab": {
          "base_uri": "https://localhost:8080/"
        },
        "outputId": "b4ef6ebd-403c-41c6-dafe-cd6ec04db100"
      },
      "source": [
        "(HF['diabetes'].value_counts()/sum(HF['diabetes'].value_counts()))*100"
      ],
      "execution_count": 45,
      "outputs": [
        {
          "output_type": "execute_result",
          "data": {
            "text/plain": [
              "0    58.19398\n",
              "1    41.80602\n",
              "Name: diabetes, dtype: float64"
            ]
          },
          "metadata": {
            "tags": []
          },
          "execution_count": 45
        }
      ]
    },
    {
      "cell_type": "code",
      "metadata": {
        "id": "DGW66gj-XepY",
        "colab": {
          "base_uri": "https://localhost:8080/"
        },
        "outputId": "1ce5f969-141c-4e4a-9b77-c9db76a70f92"
      },
      "source": [
        "HF.diabetes.value_counts()"
      ],
      "execution_count": 46,
      "outputs": [
        {
          "output_type": "execute_result",
          "data": {
            "text/plain": [
              "0    174\n",
              "1    125\n",
              "Name: diabetes, dtype: int64"
            ]
          },
          "metadata": {
            "tags": []
          },
          "execution_count": 46
        }
      ]
    },
    {
      "cell_type": "code",
      "metadata": {
        "id": "Lr9hwFSYXhiR",
        "colab": {
          "base_uri": "https://localhost:8080/"
        },
        "outputId": "7f1d03d5-5712-4377-a8f1-9b16e38c9b6e"
      },
      "source": [
        "HF.groupby(['diabetes', 'death_event'])['death_event'].count()"
      ],
      "execution_count": 47,
      "outputs": [
        {
          "output_type": "execute_result",
          "data": {
            "text/plain": [
              "diabetes  death_event\n",
              "0         0              118\n",
              "          1               56\n",
              "1         0               85\n",
              "          1               40\n",
              "Name: death_event, dtype: int64"
            ]
          },
          "metadata": {
            "tags": []
          },
          "execution_count": 47
        }
      ]
    },
    {
      "cell_type": "code",
      "metadata": {
        "id": "6niEfqO3Xj_7",
        "colab": {
          "base_uri": "https://localhost:8080/",
          "height": 500
        },
        "outputId": "0d7bbbce-b19c-4cf6-9fd9-916c87956fcb"
      },
      "source": [
        "plt.figure(figsize = (16, 8))\n",
        "\n",
        "sns.countplot('diabetes', hue = 'death_event', data = HF)\n",
        "plt.show()"
      ],
      "execution_count": 48,
      "outputs": [
        {
          "output_type": "display_data",
          "data": {
            "image/png": "[encoded data removed]",
            "text/plain": [
              "<Figure size 1152x576 with 1 Axes>"
            ]
          },
          "metadata": {
            "tags": []
          }
        }
      ]
    },
    {
      "cell_type": "markdown",
      "metadata": {
        "id": "7zZ0Vb26YuWw"
      },
      "source": [
        "Hgh Blood Pressure (HBP)"
      ]
    },
    {
      "cell_type": "code",
      "metadata": {
        "id": "u6QKJWmFYlo_",
        "colab": {
          "base_uri": "https://localhost:8080/"
        },
        "outputId": "d27ae78a-8a78-4d9a-c222-bd43127946a2"
      },
      "source": [
        "(HF['HBP'].value_counts()/sum(HF['HBP'].value_counts()))*100"
      ],
      "execution_count": 49,
      "outputs": [
        {
          "output_type": "execute_result",
          "data": {
            "text/plain": [
              "0    64.882943\n",
              "1    35.117057\n",
              "Name: HBP, dtype: float64"
            ]
          },
          "metadata": {
            "tags": []
          },
          "execution_count": 49
        }
      ]
    },
    {
      "cell_type": "code",
      "metadata": {
        "id": "09pEV3CcY63Y",
        "colab": {
          "base_uri": "https://localhost:8080/"
        },
        "outputId": "5b127b9e-8d85-4b0e-de15-5f96ff1903fd"
      },
      "source": [
        "HF.HBP.value_counts()"
      ],
      "execution_count": 50,
      "outputs": [
        {
          "output_type": "execute_result",
          "data": {
            "text/plain": [
              "0    194\n",
              "1    105\n",
              "Name: HBP, dtype: int64"
            ]
          },
          "metadata": {
            "tags": []
          },
          "execution_count": 50
        }
      ]
    },
    {
      "cell_type": "code",
      "metadata": {
        "id": "l3Vog9_HY_wP",
        "colab": {
          "base_uri": "https://localhost:8080/"
        },
        "outputId": "a782c8c1-fb43-4c33-8e8d-58e573b0b0f7"
      },
      "source": [
        "HF.groupby(['HBP', 'death_event'])['death_event'].count()"
      ],
      "execution_count": 51,
      "outputs": [
        {
          "output_type": "execute_result",
          "data": {
            "text/plain": [
              "HBP  death_event\n",
              "0    0              137\n",
              "     1               57\n",
              "1    0               66\n",
              "     1               39\n",
              "Name: death_event, dtype: int64"
            ]
          },
          "metadata": {
            "tags": []
          },
          "execution_count": 51
        }
      ]
    },
    {
      "cell_type": "code",
      "metadata": {
        "id": "_C71DHeoZCpK",
        "colab": {
          "base_uri": "https://localhost:8080/",
          "height": 500
        },
        "outputId": "656f682e-ca1d-4817-bb31-be71943638a7"
      },
      "source": [
        "plt.figure(figsize = (16, 8))\n",
        "\n",
        "sns.countplot('HBP', hue = 'death_event', data = HF)\n",
        "plt.show()"
      ],
      "execution_count": 52,
      "outputs": [
        {
          "output_type": "display_data",
          "data": {
            "image/png": "[encoded data removed]",
            "text/plain": [
              "<Figure size 1152x576 with 1 Axes>"
            ]
          },
          "metadata": {
            "tags": []
          }
        }
      ]
    },
    {
      "cell_type": "markdown",
      "metadata": {
        "id": "Y8k6yMSEZe4r"
      },
      "source": [
        "Sex"
      ]
    },
    {
      "cell_type": "code",
      "metadata": {
        "id": "_T6QUA5uZCqy",
        "colab": {
          "base_uri": "https://localhost:8080/"
        },
        "outputId": "66c6d4c0-64c3-4e34-f858-f1633bf387cb"
      },
      "source": [
        "(HF['sex'].value_counts()/sum(HF['sex'].value_counts()))*100"
      ],
      "execution_count": 53,
      "outputs": [
        {
          "output_type": "execute_result",
          "data": {
            "text/plain": [
              "1    64.882943\n",
              "0    35.117057\n",
              "Name: sex, dtype: float64"
            ]
          },
          "metadata": {
            "tags": []
          },
          "execution_count": 53
        }
      ]
    },
    {
      "cell_type": "code",
      "metadata": {
        "id": "HNmabWbnZCt4",
        "colab": {
          "base_uri": "https://localhost:8080/"
        },
        "outputId": "fa914b37-6459-48a8-aec4-c9d93fbe0b21"
      },
      "source": [
        "HF.sex.value_counts()"
      ],
      "execution_count": 54,
      "outputs": [
        {
          "output_type": "execute_result",
          "data": {
            "text/plain": [
              "1    194\n",
              "0    105\n",
              "Name: sex, dtype: int64"
            ]
          },
          "metadata": {
            "tags": []
          },
          "execution_count": 54
        }
      ]
    },
    {
      "cell_type": "code",
      "metadata": {
        "id": "KD1tla9ZZCv0",
        "colab": {
          "base_uri": "https://localhost:8080/"
        },
        "outputId": "f1101f00-b0d6-4d24-9483-eeb5e0dc5971"
      },
      "source": [
        "HF.groupby(['sex', 'death_event'])['death_event'].count()"
      ],
      "execution_count": 55,
      "outputs": [
        {
          "output_type": "execute_result",
          "data": {
            "text/plain": [
              "sex  death_event\n",
              "0    0               71\n",
              "     1               34\n",
              "1    0              132\n",
              "     1               62\n",
              "Name: death_event, dtype: int64"
            ]
          },
          "metadata": {
            "tags": []
          },
          "execution_count": 55
        }
      ]
    },
    {
      "cell_type": "code",
      "metadata": {
        "id": "_FKeuwf3ZCyr",
        "colab": {
          "base_uri": "https://localhost:8080/",
          "height": 500
        },
        "outputId": "e94cd40b-7ac2-4885-e3a9-86716d4bd878"
      },
      "source": [
        "plt.figure(figsize = (16, 8))\n",
        "\n",
        "sns.countplot('sex', hue = 'death_event', data = HF)\n",
        "plt.show()"
      ],
      "execution_count": 56,
      "outputs": [
        {
          "output_type": "display_data",
          "data": {
            "image/png": "[encoded data removed]",
            "text/plain": [
              "<Figure size 1152x576 with 1 Axes>"
            ]
          },
          "metadata": {
            "tags": []
          }
        }
      ]
    },
    {
      "cell_type": "markdown",
      "metadata": {
        "id": "oS2VRt6Zb4sG"
      },
      "source": [
        "Smoking"
      ]
    },
    {
      "cell_type": "code",
      "metadata": {
        "id": "MyCDGL-Ub8eb",
        "colab": {
          "base_uri": "https://localhost:8080/"
        },
        "outputId": "b46a32fb-1a91-4275-8745-2cb2a777d719"
      },
      "source": [
        "(HF['smoking'].value_counts()/sum(HF['smoking'].value_counts()))*100"
      ],
      "execution_count": 57,
      "outputs": [
        {
          "output_type": "execute_result",
          "data": {
            "text/plain": [
              "0    67.892977\n",
              "1    32.107023\n",
              "Name: smoking, dtype: float64"
            ]
          },
          "metadata": {
            "tags": []
          },
          "execution_count": 57
        }
      ]
    },
    {
      "cell_type": "code",
      "metadata": {
        "id": "bbsNvnypb_Oq",
        "colab": {
          "base_uri": "https://localhost:8080/"
        },
        "outputId": "5424f1ae-1fba-414d-8225-1ca89da03f3a"
      },
      "source": [
        "HF.smoking.value_counts()"
      ],
      "execution_count": 58,
      "outputs": [
        {
          "output_type": "execute_result",
          "data": {
            "text/plain": [
              "0    203\n",
              "1     96\n",
              "Name: smoking, dtype: int64"
            ]
          },
          "metadata": {
            "tags": []
          },
          "execution_count": 58
        }
      ]
    },
    {
      "cell_type": "code",
      "metadata": {
        "id": "Ojcy20LGcFxL",
        "colab": {
          "base_uri": "https://localhost:8080/"
        },
        "outputId": "ed280a6b-9c7d-42ba-fcdd-242cfc72d8ed"
      },
      "source": [
        "HF.groupby(['smoking', 'death_event'])['death_event'].count()"
      ],
      "execution_count": 59,
      "outputs": [
        {
          "output_type": "execute_result",
          "data": {
            "text/plain": [
              "smoking  death_event\n",
              "0        0              137\n",
              "         1               66\n",
              "1        0               66\n",
              "         1               30\n",
              "Name: death_event, dtype: int64"
            ]
          },
          "metadata": {
            "tags": []
          },
          "execution_count": 59
        }
      ]
    },
    {
      "cell_type": "code",
      "metadata": {
        "id": "ZVMw7LOZcKn4",
        "colab": {
          "base_uri": "https://localhost:8080/",
          "height": 500
        },
        "outputId": "297075fe-ddbf-46b6-a8d8-6db7e59036b4"
      },
      "source": [
        "plt.figure(figsize = (16, 8))\n",
        "\n",
        "sns.countplot('smoking', hue = 'death_event', data = HF)\n",
        "plt.show()"
      ],
      "execution_count": 60,
      "outputs": [
        {
          "output_type": "display_data",
          "data": {
            "image/png": "[encoded data removed]",
            "text/plain": [
              "<Figure size 1152x576 with 1 Axes>"
            ]
          },
          "metadata": {
            "tags": []
          }
        }
      ]
    },
    {
      "cell_type": "markdown",
      "metadata": {
        "id": "dxhKRyyTaIxK"
      },
      "source": [
        "# **Model Building**"
      ]
    },
    {
      "cell_type": "code",
      "metadata": {
        "id": "OtSJ6DmWhZmK",
        "colab": {
          "base_uri": "https://localhost:8080/"
        },
        "outputId": "7d5095f7-8f6d-4090-c6f6-9aa1d75591f9"
      },
      "source": [
        "outliers = ['CPK','Platelets','serum_sodium','serum_creatinine']\n",
        "def outlier_removal(HF,column):\n",
        "    q1 = HF[column].quantile(0.25)\n",
        "    q3 = HF[column].quantile(0.75)\n",
        "    iqr = q3 - q1\n",
        "    point_low = q1 - 1.5 * iqr\n",
        "    point_high = q3 + 1.5 * iqr\n",
        "    clean_HF = HF.loc[(HF[column] >  point_low) & (HF[column] <  point_high)]\n",
        "    return clean_HF\n",
        "\n",
        "# clean the dataset by removing outliers\n",
        "HF_cleaned = outlier_removal(outlier_removal(outlier_removal(HF,'CPK'),'platelets'),'serum_sodium')\n",
        "print(HF.shape)\n",
        "print(HF_cleaned.shape)"
      ],
      "execution_count": 61,
      "outputs": [
        {
          "output_type": "stream",
          "text": [
            "(299, 13)\n",
            "(247, 13)\n"
          ],
          "name": "stdout"
        }
      ]
    },
    {
      "cell_type": "code",
      "metadata": {
        "id": "HneYo8YWZC0U"
      },
      "source": [
        "X = HF.drop('death_event',axis=1)\n",
        "y = HF['death_event']"
      ],
      "execution_count": 62,
      "outputs": []
    },
    {
      "cell_type": "code",
      "metadata": {
        "id": "0op2Jur8ZC4j",
        "colab": {
          "base_uri": "https://localhost:8080/"
        },
        "outputId": "5f264eae-bffe-4d69-fd71-732029014228"
      },
      "source": [
        "from imblearn.over_sampling import RandomOverSampler\n",
        "rs = RandomOverSampler(random_state=42)\n",
        "X, y = rs.fit_resample(X,y)\n",
        "X.shape,y.shape"
      ],
      "execution_count": 63,
      "outputs": [
        {
          "output_type": "execute_result",
          "data": {
            "text/plain": [
              "((406, 12), (406,))"
            ]
          },
          "metadata": {
            "tags": []
          },
          "execution_count": 63
        }
      ]
    },
    {
      "cell_type": "code",
      "metadata": {
        "id": "Gspw_92jgkwp"
      },
      "source": [
        "features = ['age', 'anaemia', 'CPK', 'diabetes',\n",
        "       'EF', 'HBP', 'platelets',\n",
        "       'serum_creatinine', 'serum_sodium', 'sex', 'smoking', 'time']\n",
        "label = ['death_event']\n",
        "X=HF[features]\n",
        "y=HF[label]"
      ],
      "execution_count": 64,
      "outputs": []
    },
    {
      "cell_type": "code",
      "metadata": {
        "id": "Iz1gKA86ZC7Z"
      },
      "source": [
        "from sklearn.model_selection import train_test_split\n",
        "X_train,X_test, y_train,y_test=train_test_split(X,y,test_size=0.33, shuffle =True,random_state=42)"
      ],
      "execution_count": 65,
      "outputs": []
    },
    {
      "cell_type": "code",
      "metadata": {
        "id": "fGw-qAhdgAQI"
      },
      "source": [
        "F1 = ['time','EF','serum_creatinine','age','serum_sodium','HBP']\n",
        "predictors = HF[F1]\n",
        "target = HF[\"death_event\"]\n",
        "\n",
        "X_train, X_test, y_train, y_test = train_test_split(predictors, target, test_size = 0.22, random_state = 0)"
      ],
      "execution_count": 66,
      "outputs": []
    },
    {
      "cell_type": "code",
      "metadata": {
        "id": "Q3uQNIxxgAZK"
      },
      "source": [
        "from sklearn.preprocessing import StandardScaler\n",
        "sc=StandardScaler()\n",
        "\n",
        "X_train = sc.fit_transform(X_train[F1])\n",
        "X_test = sc.transform(X_test[F1])"
      ],
      "execution_count": 67,
      "outputs": []
    },
    {
      "cell_type": "markdown",
      "metadata": {
        "id": "N9XUGvjoyaYL"
      },
      "source": [
        "Logistic Regression"
      ]
    },
    {
      "cell_type": "code",
      "metadata": {
        "id": "uWZfuw_Tzh8U",
        "colab": {
          "base_uri": "https://localhost:8080/"
        },
        "outputId": "007ba10b-a45a-4c65-85cc-3880125e8875"
      },
      "source": [
        "from sklearn.linear_model import LogisticRegression\n",
        "log_reg = LogisticRegression()\n",
        "log_reg.fit(X_train,y_train)"
      ],
      "execution_count": 68,
      "outputs": [
        {
          "output_type": "execute_result",
          "data": {
            "text/plain": [
              "LogisticRegression(C=1.0, class_weight=None, dual=False, fit_intercept=True,\n",
              "                   intercept_scaling=1, l1_ratio=None, max_iter=100,\n",
              "                   multi_class='auto', n_jobs=None, penalty='l2',\n",
              "                   random_state=None, solver='lbfgs', tol=0.0001, verbose=0,\n",
              "                   warm_start=False)"
            ]
          },
          "metadata": {
            "tags": []
          },
          "execution_count": 68
        }
      ]
    },
    {
      "cell_type": "code",
      "metadata": {
        "id": "NmqD46Dlzloh",
        "colab": {
          "base_uri": "https://localhost:8080/"
        },
        "outputId": "b2d2b82c-d611-4a0c-9667-659d0682ea5c"
      },
      "source": [
        "y_pred_log_reg = log_reg.predict(X_test)\n",
        "y_pred_log_reg"
      ],
      "execution_count": 69,
      "outputs": [
        {
          "output_type": "execute_result",
          "data": {
            "text/plain": [
              "array([0, 0, 1, 0, 0, 0, 1, 0, 1, 0, 0, 1, 0, 0, 1, 1, 0, 0, 0, 0, 0, 0,\n",
              "       1, 0, 0, 0, 0, 0, 0, 0, 0, 1, 0, 0, 0, 0, 0, 0, 0, 1, 0, 0, 0, 0,\n",
              "       1, 0, 0, 0, 0, 1, 0, 0, 0, 0, 1, 0, 0, 1, 0, 0, 1, 0, 0, 0, 0, 0])"
            ]
          },
          "metadata": {
            "tags": []
          },
          "execution_count": 69
        }
      ]
    },
    {
      "cell_type": "code",
      "metadata": {
        "id": "w_vHuCWxzvaL",
        "colab": {
          "base_uri": "https://localhost:8080/"
        },
        "outputId": "92a10ca2-f6f7-4972-cab8-cf21c2bf5e36"
      },
      "source": [
        "from sklearn.metrics import f1_score, roc_auc_score,accuracy_score,confusion_matrix, precision_recall_curve, auc, roc_curve, recall_score, classification_report \n",
        "classification_report = classification_report(y_test, y_pred_log_reg)\n",
        "print(classification_report)"
      ],
      "execution_count": 70,
      "outputs": [
        {
          "output_type": "stream",
          "text": [
            "              precision    recall  f1-score   support\n",
            "\n",
            "           0       0.77      0.95      0.85        42\n",
            "           1       0.86      0.50      0.63        24\n",
            "\n",
            "    accuracy                           0.79        66\n",
            "   macro avg       0.81      0.73      0.74        66\n",
            "weighted avg       0.80      0.79      0.77        66\n",
            "\n"
          ],
          "name": "stdout"
        }
      ]
    },
    {
      "cell_type": "code",
      "metadata": {
        "id": "zXL4qTrI0Roz",
        "colab": {
          "base_uri": "https://localhost:8080/"
        },
        "outputId": "4d4d2a27-4a83-4d8d-9be7-d959a05e65d8"
      },
      "source": [
        "print(accuracy_score(y_test,y_pred_log_reg))"
      ],
      "execution_count": 71,
      "outputs": [
        {
          "output_type": "stream",
          "text": [
            "0.7878787878787878\n"
          ],
          "name": "stdout"
        }
      ]
    },
    {
      "cell_type": "code",
      "metadata": {
        "id": "nAohjCeSSCnt",
        "colab": {
          "base_uri": "https://localhost:8080/"
        },
        "outputId": "8ce4cb95-cf5b-4e5f-c8f5-00c17549f266"
      },
      "source": [
        "auc = roc_auc_score(y_test, y_pred_log_reg)\n",
        "auc"
      ],
      "execution_count": 72,
      "outputs": [
        {
          "output_type": "execute_result",
          "data": {
            "text/plain": [
              "0.726190476190476"
            ]
          },
          "metadata": {
            "tags": []
          },
          "execution_count": 72
        }
      ]
    },
    {
      "cell_type": "markdown",
      "metadata": {
        "id": "p30LVDuaysBe"
      },
      "source": [
        "Random Forest"
      ]
    },
    {
      "cell_type": "code",
      "metadata": {
        "id": "Zp9OV9jfZDCi"
      },
      "source": [
        "from sklearn.ensemble import RandomForestClassifier\n",
        "RFC = RandomForestClassifier()"
      ],
      "execution_count": 73,
      "outputs": []
    },
    {
      "cell_type": "code",
      "metadata": {
        "id": "RIoonAnO9Yns",
        "colab": {
          "base_uri": "https://localhost:8080/"
        },
        "outputId": "a80f2074-1d7f-4ac4-fc79-be769a47d50c"
      },
      "source": [
        "#random forest\n",
        "model = RandomForestClassifier(n_estimators=100, max_depth=5, random_state=1)\n",
        "model.fit(X_train, y_train)\n",
        "y_pred = model.predict(X_test)\n",
        "\n",
        "acc_randomforest = round(accuracy_score(y_pred, y_test) * 100, 2)\n",
        "print(\"Random Forest Model Accuracy : \",acc_randomforest)\n",
        "print(classification_report)"
      ],
      "execution_count": 74,
      "outputs": [
        {
          "output_type": "stream",
          "text": [
            "Random Forest Model Accuracy :  84.85\n",
            "              precision    recall  f1-score   support\n",
            "\n",
            "           0       0.77      0.95      0.85        42\n",
            "           1       0.86      0.50      0.63        24\n",
            "\n",
            "    accuracy                           0.79        66\n",
            "   macro avg       0.81      0.73      0.74        66\n",
            "weighted avg       0.80      0.79      0.77        66\n",
            "\n"
          ],
          "name": "stdout"
        }
      ]
    },
    {
      "cell_type": "code",
      "metadata": {
        "id": "dZbts7FpS8ro",
        "colab": {
          "base_uri": "https://localhost:8080/"
        },
        "outputId": "388a2449-bfae-4ee2-ddda-b6116f235491"
      },
      "source": [
        "auc = roc_auc_score(y_pred, y_test)\n",
        "auc"
      ],
      "execution_count": 75,
      "outputs": [
        {
          "output_type": "execute_result",
          "data": {
            "text/plain": [
              "0.87875"
            ]
          },
          "metadata": {
            "tags": []
          },
          "execution_count": 75
        }
      ]
    },
    {
      "cell_type": "markdown",
      "metadata": {
        "id": "tvvfNP_Ln0Cl"
      },
      "source": [
        "MLPC"
      ]
    },
    {
      "cell_type": "code",
      "metadata": {
        "id": "exDcBIcmZDGe"
      },
      "source": [
        "from sklearn.neural_network import MLPClassifier\n",
        "M = MLPClassifier(hidden_layer_sizes=(128,128))"
      ],
      "execution_count": 76,
      "outputs": []
    },
    {
      "cell_type": "code",
      "metadata": {
        "id": "BD_h9FQWZDIK",
        "colab": {
          "base_uri": "https://localhost:8080/"
        },
        "outputId": "9e5d2a7d-2a46-430f-8cfb-a06e11912a79"
      },
      "source": [
        "M.fit(X_train,y_train)\n",
        "y_predM = M.predict(X_test)\n",
        "print(f1_score(y_test,y_predM))\n",
        "print(confusion_matrix(y_test,y_predM))\n",
        "print(classification_report)"
      ],
      "execution_count": 77,
      "outputs": [
        {
          "output_type": "stream",
          "text": [
            "0.7272727272727272\n",
            "[[38  4]\n",
            " [ 8 16]]\n",
            "              precision    recall  f1-score   support\n",
            "\n",
            "           0       0.77      0.95      0.85        42\n",
            "           1       0.86      0.50      0.63        24\n",
            "\n",
            "    accuracy                           0.79        66\n",
            "   macro avg       0.81      0.73      0.74        66\n",
            "weighted avg       0.80      0.79      0.77        66\n",
            "\n"
          ],
          "name": "stdout"
        }
      ]
    },
    {
      "cell_type": "code",
      "metadata": {
        "id": "LsoGuGlkTIkm",
        "colab": {
          "base_uri": "https://localhost:8080/"
        },
        "outputId": "cec752c0-de76-4cb7-d145-be67eb949702"
      },
      "source": [
        "auc = roc_auc_score(y_test, y_predM)\n",
        "auc"
      ],
      "execution_count": 78,
      "outputs": [
        {
          "output_type": "execute_result",
          "data": {
            "text/plain": [
              "0.7857142857142857"
            ]
          },
          "metadata": {
            "tags": []
          },
          "execution_count": 78
        }
      ]
    },
    {
      "cell_type": "markdown",
      "metadata": {
        "id": "rQfrY_kWoN15"
      },
      "source": [
        "XGB"
      ]
    },
    {
      "cell_type": "code",
      "metadata": {
        "id": "mU5vUmlVZDMr",
        "colab": {
          "base_uri": "https://localhost:8080/"
        },
        "outputId": "e4fc26cf-7640-42e0-8db5-d6f964fdfcf8"
      },
      "source": [
        "import xgboost as xgb\n",
        "model = xgb.XGBClassifier()\n",
        "model.fit(X_train,y_train)\n",
        "y_pred1 = model.predict(X_test)\n",
        "roc_auc_score(y_test, y_pred1)"
      ],
      "execution_count": 79,
      "outputs": [
        {
          "output_type": "execute_result",
          "data": {
            "text/plain": [
              "0.818452380952381"
            ]
          },
          "metadata": {
            "tags": []
          },
          "execution_count": 79
        }
      ]
    },
    {
      "cell_type": "code",
      "metadata": {
        "id": "IuGjB1_Aogfb",
        "colab": {
          "base_uri": "https://localhost:8080/"
        },
        "outputId": "e23b6410-d5e4-4d7d-c9c2-1808da634fb9"
      },
      "source": [
        "print(classification_report)"
      ],
      "execution_count": 80,
      "outputs": [
        {
          "output_type": "stream",
          "text": [
            "              precision    recall  f1-score   support\n",
            "\n",
            "           0       0.77      0.95      0.85        42\n",
            "           1       0.86      0.50      0.63        24\n",
            "\n",
            "    accuracy                           0.79        66\n",
            "   macro avg       0.81      0.73      0.74        66\n",
            "weighted avg       0.80      0.79      0.77        66\n",
            "\n"
          ],
          "name": "stdout"
        }
      ]
    },
    {
      "cell_type": "code",
      "metadata": {
        "id": "b3mhIfMNoR7j",
        "colab": {
          "base_uri": "https://localhost:8080/"
        },
        "outputId": "f9398b84-b411-4e59-f872-f9592563e8e2"
      },
      "source": [
        "accuracy = accuracy_score(y_test, y_pred1)\n",
        "print(accuracy)"
      ],
      "execution_count": 81,
      "outputs": [
        {
          "output_type": "stream",
          "text": [
            "0.8484848484848485\n"
          ],
          "name": "stdout"
        }
      ]
    },
    {
      "cell_type": "markdown",
      "metadata": {
        "id": "TbERU7A3pbW3"
      },
      "source": [
        "Gaussian Naive Bayes"
      ]
    },
    {
      "cell_type": "code",
      "metadata": {
        "id": "aMdhKghEpe1N"
      },
      "source": [
        "from sklearn.metrics import accuracy_score\n",
        "from sklearn.naive_bayes import GaussianNB"
      ],
      "execution_count": 82,
      "outputs": []
    },
    {
      "cell_type": "code",
      "metadata": {
        "id": "PG2eBhRYpORv",
        "colab": {
          "base_uri": "https://localhost:8080/"
        },
        "outputId": "ca5e0d14-eae8-4ae1-a517-6b18a589e979"
      },
      "source": [
        "#gaussian naive bayes\n",
        "gnb = GaussianNB()\n",
        "gnb.fit(X_train, y_train)\n",
        "  \n",
        "# making predictions on the testing set\n",
        "y_pred = gnb.predict(X_test)\n",
        "  \n",
        "# comparing actual response values (y_test) with predicted response values (y_pred)\n",
        "acc_naivebayes = round(accuracy_score(y_test, y_pred)*100,2)\n",
        "print(\"Gaussian Naive Bayes model accuracy(in %):\",acc_naivebayes )\n",
        "print(classification_report)"
      ],
      "execution_count": 83,
      "outputs": [
        {
          "output_type": "stream",
          "text": [
            "Gaussian Naive Bayes model accuracy(in %): 78.79\n",
            "              precision    recall  f1-score   support\n",
            "\n",
            "           0       0.77      0.95      0.85        42\n",
            "           1       0.86      0.50      0.63        24\n",
            "\n",
            "    accuracy                           0.79        66\n",
            "   macro avg       0.81      0.73      0.74        66\n",
            "weighted avg       0.80      0.79      0.77        66\n",
            "\n"
          ],
          "name": "stdout"
        }
      ]
    },
    {
      "cell_type": "code",
      "metadata": {
        "id": "JrAxF2jnTZ0n",
        "colab": {
          "base_uri": "https://localhost:8080/"
        },
        "outputId": "9203d856-b283-4be1-94f1-2d9ab61320fe"
      },
      "source": [
        "auc = roc_auc_score(y_test, y_pred)\n",
        "auc"
      ],
      "execution_count": 84,
      "outputs": [
        {
          "output_type": "execute_result",
          "data": {
            "text/plain": [
              "0.726190476190476"
            ]
          },
          "metadata": {
            "tags": []
          },
          "execution_count": 84
        }
      ]
    },
    {
      "cell_type": "markdown",
      "metadata": {
        "id": "VTeJj1-DqzJD"
      },
      "source": [
        "SVM"
      ]
    },
    {
      "cell_type": "code",
      "metadata": {
        "id": "0h907KKDq0WT",
        "colab": {
          "base_uri": "https://localhost:8080/"
        },
        "outputId": "0daf52ca-3c4c-493e-e7f9-555e8e723e95"
      },
      "source": [
        "#SVM Classifier\n",
        "\n",
        "from sklearn.svm import SVC  \n",
        "clf = SVC(kernel='linear') \n",
        "  \n",
        "# fitting x samples and y classes \n",
        "clf.fit(X_train, y_train) \n",
        "y_pred = clf.predict(X_test)\n",
        "\n",
        "acc_SVM = round(accuracy_score(y_pred, y_test) * 100, 2)\n",
        "print(\"SVM Model Accuracy : \",acc_SVM)\n",
        "print(classification_report)"
      ],
      "execution_count": 85,
      "outputs": [
        {
          "output_type": "stream",
          "text": [
            "SVM Model Accuracy :  78.79\n",
            "              precision    recall  f1-score   support\n",
            "\n",
            "           0       0.77      0.95      0.85        42\n",
            "           1       0.86      0.50      0.63        24\n",
            "\n",
            "    accuracy                           0.79        66\n",
            "   macro avg       0.81      0.73      0.74        66\n",
            "weighted avg       0.80      0.79      0.77        66\n",
            "\n"
          ],
          "name": "stdout"
        }
      ]
    },
    {
      "cell_type": "code",
      "metadata": {
        "id": "m0UUIZ3WTg3h",
        "colab": {
          "base_uri": "https://localhost:8080/"
        },
        "outputId": "2c3fa54d-fa2f-4dbb-a0d9-2d01b3dfbd6a"
      },
      "source": [
        "auc = roc_auc_score(y_pred, y_test)\n",
        "auc"
      ],
      "execution_count": 86,
      "outputs": [
        {
          "output_type": "execute_result",
          "data": {
            "text/plain": [
              "0.8131868131868132"
            ]
          },
          "metadata": {
            "tags": []
          },
          "execution_count": 86
        }
      ]
    },
    {
      "cell_type": "markdown",
      "metadata": {
        "id": "7d4IZ06hq_rr"
      },
      "source": [
        "DTC"
      ]
    },
    {
      "cell_type": "code",
      "metadata": {
        "id": "JbSQA2ATrCqb",
        "colab": {
          "base_uri": "https://localhost:8080/"
        },
        "outputId": "2c7cb55b-797c-4723-d4d3-e9e2250dd1ae"
      },
      "source": [
        "from sklearn.tree import DecisionTreeClassifier\n",
        "\n",
        "modeldt = DecisionTreeClassifier()\n",
        "\n",
        "# fit the model with the training data\n",
        "modeldt.fit(X_train,y_train)\n",
        "\n",
        "# depth of the decision tree\n",
        "print('Depth of the Decision Tree :', modeldt.get_depth())\n",
        "\n",
        "# predict the target on the train dataset\n",
        "predict_train = modeldt.predict(X_train)\n",
        "\n",
        "# Accuray Score on train dataset\n",
        "accuracy_train = accuracy_score(y_train,predict_train)\n",
        "print('accuracy_score on train dataset : ', accuracy_train)\n",
        "\n",
        "# predict the target on the test dataset\n",
        "predict_test = model.predict(X_test)\n",
        "\n",
        "# Accuracy Score on test dataset\n",
        "accuracy_test = accuracy_score(y_test,predict_test)\n",
        "print('accuracy_score on test dataset : ', accuracy_test*100)\n",
        "print(classification_report)"
      ],
      "execution_count": 87,
      "outputs": [
        {
          "output_type": "stream",
          "text": [
            "Depth of the Decision Tree : 11\n",
            "accuracy_score on train dataset :  1.0\n",
            "accuracy_score on test dataset :  84.84848484848484\n",
            "              precision    recall  f1-score   support\n",
            "\n",
            "           0       0.77      0.95      0.85        42\n",
            "           1       0.86      0.50      0.63        24\n",
            "\n",
            "    accuracy                           0.79        66\n",
            "   macro avg       0.81      0.73      0.74        66\n",
            "weighted avg       0.80      0.79      0.77        66\n",
            "\n"
          ],
          "name": "stdout"
        }
      ]
    },
    {
      "cell_type": "code",
      "metadata": {
        "id": "fGOkMvKWTrle",
        "colab": {
          "base_uri": "https://localhost:8080/"
        },
        "outputId": "de8e1abc-5194-40bd-91de-be31d735d873"
      },
      "source": [
        "auc = roc_auc_score(y_test, predict_test)\n",
        "auc"
      ],
      "execution_count": 88,
      "outputs": [
        {
          "output_type": "execute_result",
          "data": {
            "text/plain": [
              "0.818452380952381"
            ]
          },
          "metadata": {
            "tags": []
          },
          "execution_count": 88
        }
      ]
    },
    {
      "cell_type": "markdown",
      "metadata": {
        "id": "Ce2qPaucEFoO"
      },
      "source": [
        "Gradient Boostingg Classifier"
      ]
    },
    {
      "cell_type": "code",
      "metadata": {
        "id": "k4ePVgtHDQaU"
      },
      "source": [
        "from sklearn.ensemble import GradientBoostingClassifier\n",
        "import lightgbm"
      ],
      "execution_count": 89,
      "outputs": []
    },
    {
      "cell_type": "code",
      "metadata": {
        "id": "1BY8rsCUC-J9",
        "colab": {
          "base_uri": "https://localhost:8080/"
        },
        "outputId": "6a9771ab-330a-434f-9116-82cb83d7ec9a"
      },
      "source": [
        "gradientboost_clf = GradientBoostingClassifier(max_depth=2, random_state=1)\n",
        "gradientboost_clf.fit(X_train,y_train)\n",
        "gradientboost_pred = gradientboost_clf.predict(X_test)\n",
        "gradientboost_f1 = f1_score(y_test, gradientboost_pred)\n",
        "gradientboost_f1\n",
        "\n",
        "acc_GBC= round(accuracy_score(y_pred, y_test) * 100, 2)\n",
        "print(acc_GBC)\n",
        "\n",
        "print(classification_report)"
      ],
      "execution_count": 90,
      "outputs": [
        {
          "output_type": "stream",
          "text": [
            "78.79\n",
            "              precision    recall  f1-score   support\n",
            "\n",
            "           0       0.77      0.95      0.85        42\n",
            "           1       0.86      0.50      0.63        24\n",
            "\n",
            "    accuracy                           0.79        66\n",
            "   macro avg       0.81      0.73      0.74        66\n",
            "weighted avg       0.80      0.79      0.77        66\n",
            "\n"
          ],
          "name": "stdout"
        }
      ]
    },
    {
      "cell_type": "code",
      "metadata": {
        "id": "9DJK9ThfTzzm",
        "colab": {
          "base_uri": "https://localhost:8080/"
        },
        "outputId": "2461651b-d231-4b2f-9676-df92ab5b4354"
      },
      "source": [
        "auc = roc_auc_score(y_pred, y_test)\n",
        "auc"
      ],
      "execution_count": 91,
      "outputs": [
        {
          "output_type": "execute_result",
          "data": {
            "text/plain": [
              "0.8131868131868132"
            ]
          },
          "metadata": {
            "tags": []
          },
          "execution_count": 91
        }
      ]
    },
    {
      "cell_type": "markdown",
      "metadata": {
        "id": "qZcfxjLLFI9F"
      },
      "source": [
        "LGBMC"
      ]
    },
    {
      "cell_type": "code",
      "metadata": {
        "id": "DgP3FrtZEazT",
        "colab": {
          "base_uri": "https://localhost:8080/"
        },
        "outputId": "65ddc233-190c-4ba1-9c71-f9dfa090c0fd"
      },
      "source": [
        "from sklearn.metrics import precision_score\n",
        "lgb_clf = lightgbm.LGBMClassifier(max_depth=2, random_state=4)\n",
        "lgb_clf.fit(X_train,y_train)\n",
        "lgb_pred = lgb_clf.predict(X_test)\n",
        "lgb_f1 = f1_score(y_test, lgb_pred)\n",
        "lgb_precision = precision_score(y_test, lgb_pred)\n",
        "lgb_f1"
      ],
      "execution_count": 92,
      "outputs": [
        {
          "output_type": "execute_result",
          "data": {
            "text/plain": [
              "0.7999999999999999"
            ]
          },
          "metadata": {
            "tags": []
          },
          "execution_count": 92
        }
      ]
    },
    {
      "cell_type": "code",
      "metadata": {
        "id": "HLpgiZqNUwvt",
        "colab": {
          "base_uri": "https://localhost:8080/"
        },
        "outputId": "3ab717c1-f22d-4802-fe7d-54344e12c763"
      },
      "source": [
        "acc_lgb = round(accuracy_score(y_test, lgb_pred) * 100, 2)\n",
        "acc_lgb"
      ],
      "execution_count": 93,
      "outputs": [
        {
          "output_type": "execute_result",
          "data": {
            "text/plain": [
              "86.36"
            ]
          },
          "metadata": {
            "tags": []
          },
          "execution_count": 93
        }
      ]
    },
    {
      "cell_type": "code",
      "metadata": {
        "id": "aBcroDZnT7xO",
        "colab": {
          "base_uri": "https://localhost:8080/"
        },
        "outputId": "9257eb77-7b19-44f7-a671-4af28e9167c0"
      },
      "source": [
        "auc = roc_auc_score(y_test, lgb_pred)\n",
        "auc"
      ],
      "execution_count": 94,
      "outputs": [
        {
          "output_type": "execute_result",
          "data": {
            "text/plain": [
              "0.8392857142857143"
            ]
          },
          "metadata": {
            "tags": []
          },
          "execution_count": 94
        }
      ]
    },
    {
      "cell_type": "code",
      "metadata": {
        "id": "GqFFO1NQVOS-"
      },
      "source": [
        ""
      ],
      "execution_count": 94,
      "outputs": []
    },
    {
      "cell_type": "code",
      "metadata": {
        "id": "oZMywD0OVObI"
      },
      "source": [
        "# saving the model \n",
        "import pickle \n",
        "pickle_out = open(\"classifier.pkl\", mode = \"wb\") \n",
        "pickle.dump(lgb_clf, pickle_out) \n",
        "pickle_out.close()"
      ],
      "execution_count": 95,
      "outputs": []
    },
    {
      "cell_type": "code",
      "metadata": {
        "id": "vXJZnvrQVk39"
      },
      "source": [
        "!pip install -q pyngrok\n",
        "\n",
        "!pip install -q streamlit\n",
        "\n",
        "!pip install -q streamlit_ace"
      ],
      "execution_count": 96,
      "outputs": []
    },
    {
      "cell_type": "code",
      "metadata": {
        "id": "Ye-Yr3PcVk_b",
        "colab": {
          "base_uri": "https://localhost:8080/"
        },
        "outputId": "8f7b152f-94f1-4f1c-e90d-e5acaccf9d56"
      },
      "source": [
        "%%writefile app.py\n",
        " \n",
        "import pickle\n",
        "import streamlit as st\n",
        " \n",
        "# loading the trained model\n",
        "pickle_in = open('classifier.pkl', 'rb') \n",
        "classifier = pickle.load(pickle_in)\n",
        " \n",
        "@st.cache()\n",
        "  \n",
        "# defining the function which will make the prediction using the data which the user inputs \n",
        "def prediction(time,EF,serum_creatinine,age,serum_sodium,HBP):   \n",
        " \n",
        "    # Pre-processing user input    \n",
        "    if HBP == \"Yes\":\n",
        "        HBP = 1\n",
        "    else:\n",
        "        HBP = 0\n",
        " \n",
        "  \n",
        "    # Making predictions \n",
        "    prediction = classifier.predict( \n",
        "        [[time,EF,serum_creatinine,age,serum_sodium,HBP]])\n",
        "     \n",
        "    if prediction == 0:\n",
        "        pred = 'Will Survive'\n",
        "    else:\n",
        "        pred = 'Will Die'\n",
        "    return pred\n",
        "      \n",
        "  \n",
        "# this is the main function in which we define our webpage  \n",
        "def main():       \n",
        "    # front end elements of the web page \n",
        "    html_temp = \"\"\" \n",
        "    <div style =\"background-color:yellow;padding:13px\"> \n",
        "    <h1 style =\"color:black;text-align:center;\">Streamlit Heart Failure Survival Prediction App</h1> \n",
        "    </div> \n",
        "    \"\"\"\n",
        "      \n",
        "    # display the front end aspect\n",
        "    st.markdown(html_temp, unsafe_allow_html = True) \n",
        "      \n",
        "    # following lines create boxes in which user can enter data required to make prediction \n",
        "    age = st.number_input(\"What Is Patient's Age?\") \n",
        "    HBP = st.selectbox('Does Patient Have High Blood Pressure?',(\"Yes\",\"No\"))\n",
        "    time = st.number_input(\"How Long Has Patient Had It?\") \n",
        "    EF = st.number_input(\"Ejection Fraction In Percentage\")\n",
        "    serum_creatinine = st.number_input(\"How much creatinine is in the patient's blood?\")\n",
        "    serum_sodium = st.number_input(\"How much sodium is in the patient's blood?\")\n",
        "    result =\"\"\n",
        "      \n",
        "    # when 'Predict' is clicked, make the prediction and store it \n",
        "    if st.button(\"Predict\"): \n",
        "        result = prediction(time,EF,serum_creatinine,age,serum_sodium,HBP) \n",
        "        st.success('Patient {}'.format(result))\n",
        "        \n",
        "     \n",
        "if __name__=='__main__': \n",
        "    main()"
      ],
      "execution_count": 97,
      "outputs": [
        {
          "output_type": "stream",
          "text": [
            "Overwriting app.py\n"
          ],
          "name": "stdout"
        }
      ]
    },
    {
      "cell_type": "code",
      "metadata": {
        "id": "-w7qQr8zcpak"
      },
      "source": [
        "!streamlit run app.py &>/dev/null&"
      ],
      "execution_count": 98,
      "outputs": []
    },
    {
      "cell_type": "code",
      "metadata": {
        "id": "Yrwho1t2wBYK",
        "colab": {
          "base_uri": "https://localhost:8080/"
        },
        "outputId": "5d339850-43c1-42d7-d834-1c53f86d2e55"
      },
      "source": [
        "!git init"
      ],
      "execution_count": 99,
      "outputs": [
        {
          "output_type": "stream",
          "text": [
            "Reinitialized existing Git repository in /content/.git/\n"
          ],
          "name": "stdout"
        }
      ]
    },
    {
      "cell_type": "code",
      "metadata": {
        "id": "h259c2mHx6sl"
      },
      "source": [
        "!mkdir -p ~/.streamlit/"
      ],
      "execution_count": 100,
      "outputs": []
    },
    {
      "cell_type": "code",
      "metadata": {
        "id": "G12HSzxrylch"
      },
      "source": [
        "!echo \"\\\n",
        "[server]\\n\\\n",
        "headless = true\\n\\\n",
        "port = $PORT\\n\\\n",
        "enableCORS = false\\n\\\n",
        "\\n\\\n",
        "\" > ~/.streamlit/config.toml"
      ],
      "execution_count": 101,
      "outputs": []
    },
    {
      "cell_type": "code",
      "metadata": {
        "id": "jBMMYrj2zHd_",
        "colab": {
          "base_uri": "https://localhost:8080/"
        },
        "outputId": "eb3b0af1-08c5-475b-bf26-eb4d5950eb74"
      },
      "source": [
        "%%writefile requirements.txt\n",
        "\n",
        "streamlit"
      ],
      "execution_count": 102,
      "outputs": [
        {
          "output_type": "stream",
          "text": [
            "Overwriting requirements.txt\n"
          ],
          "name": "stdout"
        }
      ]
    },
    {
      "cell_type": "code",
      "metadata": {
        "id": "6Rtlz1UOypGP",
        "colab": {
          "base_uri": "https://localhost:8080/"
        },
        "outputId": "021650eb-4a83-41be-e89d-dfbdcbf9a4e8"
      },
      "source": [
        "%%writefile Procfile\n",
        "\n",
        "web: sh setup.sh && streamlit run app.py"
      ],
      "execution_count": 103,
      "outputs": [
        {
          "output_type": "stream",
          "text": [
            "Overwriting Procfile\n"
          ],
          "name": "stdout"
        }
      ]
    },
    {
      "cell_type": "code",
      "metadata": {
        "id": "E6_uc1aT0_KM",
        "colab": {
          "base_uri": "https://localhost:8080/"
        },
        "outputId": "057a6ec5-2acb-4f71-fbcf-1a8f6eba8be4"
      },
      "source": [
        "!curl https://cli-assets.heroku.com/install-ubuntu.sh | sh"
      ],
      "execution_count": 104,
      "outputs": [
        {
          "output_type": "stream",
          "text": [
            "  % Total    % Received % Xferd  Average Speed   Time    Time     Time  Current\n",
            "                                 Dload  Upload   Total   Spent    Left  Speed\n",
            "100  1232  100  1232    0     0   3923      0 --:--:-- --:--:-- --:--:--  3923\n",
            "+ dpkg -s apt-transport-https\n",
            "+ echo deb https://cli-assets.heroku.com/apt ./\n",
            "+ dpkg -s heroku-toolbelt\n",
            "+ true\n",
            "+ apt-key add -\n",
            "+ curl https://cli-assets.heroku.com/apt/release.key\n",
            "  % Total    % Received % Xferd  Average Speed   Time    Time     Time  Current\n",
            "                                 Dload  Upload   Total   Spent    Left  Speed\n",
            "100  5393  100  5393    0     0   146k      0 --:--:-- --:--:-- --:--:--  146k\n",
            "OK\n",
            "+ apt-get update\n",
            "Hit:1 https://cli-assets.heroku.com/apt ./ InRelease\n",
            "Ign:2 https://developer.download.nvidia.com/compute/cuda/repos/ubuntu1804/x86_64  InRelease\n",
            "Get:3 http://security.ubuntu.com/ubuntu bionic-security InRelease [88.7 kB]\n",
            "Hit:4 http://ppa.launchpad.net/c2d4u.team/c2d4u4.0+/ubuntu bionic InRelease\n",
            "Ign:5 https://developer.download.nvidia.com/compute/machine-learning/repos/ubuntu1804/x86_64  InRelease\n",
            "Hit:6 https://developer.download.nvidia.com/compute/cuda/repos/ubuntu1804/x86_64  Release\n",
            "Hit:7 https://developer.download.nvidia.com/compute/machine-learning/repos/ubuntu1804/x86_64  Release\n",
            "Hit:8 http://archive.ubuntu.com/ubuntu bionic InRelease\n",
            "Hit:9 https://cloud.r-project.org/bin/linux/ubuntu bionic-cran40/ InRelease\n",
            "Get:11 http://archive.ubuntu.com/ubuntu bionic-updates InRelease [88.7 kB]\n",
            "Hit:12 http://ppa.launchpad.net/cran/libgit2/ubuntu bionic InRelease\n",
            "Hit:14 http://ppa.launchpad.net/deadsnakes/ppa/ubuntu bionic InRelease\n",
            "Get:15 http://archive.ubuntu.com/ubuntu bionic-backports InRelease [74.6 kB]\n",
            "Hit:16 http://ppa.launchpad.net/graphics-drivers/ppa/ubuntu bionic InRelease\n",
            "Fetched 252 kB in 3s (99.1 kB/s)\n",
            "Reading package lists... Done\n",
            "+ apt-get install -y heroku\n",
            "Reading package lists... Done\n",
            "Building dependency tree       \n",
            "Reading state information... Done\n",
            "heroku is already the newest version (7.54.0-1).\n",
            "The following package was automatically installed and is no longer required:\n",
            "  libnvidia-common-460\n",
            "Use 'apt autoremove' to remove it.\n",
            "0 upgraded, 0 newly installed, 0 to remove and 72 not upgraded.\n",
            "heroku installed to /usr/bin/heroku\n",
            "heroku/7.54.0 linux-x64 node-v12.21.0\n"
          ],
          "name": "stdout"
        }
      ]
    },
    {
      "cell_type": "code",
      "metadata": {
        "colab": {
          "base_uri": "https://localhost:8080/"
        },
        "id": "8oKoMrsYCQT0",
        "outputId": "9003049e-40a9-45df-eccd-384a8369a63f"
      },
      "source": [
        "!heroku login -i"
      ],
      "execution_count": 110,
      "outputs": [
        {
          "output_type": "stream",
          "text": [
            "heroku: Enter your login credentials\n",
            "Email: olamidefiyin15@gmail.com\n",
            "\u001b[2K\u001b[GPassword: *************/usr/lib/heroku/node_modules/cli-ux/node_modules/@oclif/errors/lib/index.js:42\n",
            "        throw err;\n",
            "        ^\n",
            "\n",
            "CLIError: timed out\n",
            "    at Object.error (/usr/lib/heroku/node_modules/\u001b[4mcli-ux\u001b[24m/node_modules/\u001b[4m@oclif\u001b[24m/errors/lib/index.js:26:15)\n",
            "    at Timeout._onTimeout (/usr/lib/heroku/node_modules/\u001b[4m@heroku-cli\u001b[24m/plugin-auth/node_modules/\u001b[4m@heroku-cli\u001b[24m/command/lib/login.js:28:38)\n",
            "\u001b[90m    at listOnTimeout (internal/timers.js:554:17)\u001b[39m\n",
            "\u001b[90m    at processTimers (internal/timers.js:497:7)\u001b[39m {\n",
            "  oclif: { exit: \u001b[33m2\u001b[39m },\n",
            "  code: \u001b[90mundefined\u001b[39m\n",
            "}\n"
          ],
          "name": "stdout"
        }
      ]
    },
    {
      "cell_type": "code",
      "metadata": {
        "id": "-z4Q35-3zSs0",
        "colab": {
          "base_uri": "https://localhost:8080/"
        },
        "outputId": "04b837b2-8f1f-430d-d401-65c962c96d5a"
      },
      "source": [
        "!heroku create #input_your_app_name (it'd look like this: app_name.)"
      ],
      "execution_count": 106,
      "outputs": [
        {
          "output_type": "stream",
          "text": [
            "\u001b[G\u001b[2K\u001b[?25lCreating app... \u001b[35m⣾\u001b[39m \n",
            "\u001b[1A\u001b[16C\u001b[35m⣽\u001b[39m\u001b[1B\u001b[G\u001b[2K\u001b[1A\u001b[16C\u001b[35m⣻\u001b[39m\u001b[1B\u001b[G\u001b[2K\u001b[1A\u001b[16C\u001b[35m⢿\u001b[39m\u001b[1B\u001b[G\u001b[2K\u001b[1A\u001b[16C\u001b[35m⡿\u001b[39m\u001b[1B\u001b[G\u001b[2K\u001b[1A\u001b[16C\u001b[35m⣟\u001b[39m\u001b[1B\u001b[G\u001b[2K\u001b[1A\u001b[16C\u001b[35m⣯\u001b[39m\u001b[1B\u001b[G\u001b[2K\u001b[1A\u001b[16C\u001b[35m⣷\u001b[39m\u001b[1B\u001b[G\u001b[2K\u001b[1A\u001b[JCreating app... \u001b[31m\u001b[1m!\u001b[22m\u001b[39m\n",
            "\u001b[?25h \u001b[31m▸\u001b[39m    Invalid credentials\n",
            " \u001b[31m▸\u001b[39m    provided.\n",
            "heroku: Press any key to open up the browser to login or \u001b[33mq\u001b[39m to exit: ^C\n"
          ],
          "name": "stdout"
        }
      ]
    },
    {
      "cell_type": "code",
      "metadata": {
        "id": "NcNLT4LRcw2-",
        "colab": {
          "base_uri": "https://localhost:8080/"
        },
        "outputId": "c84782f6-11b8-418b-fb2e-c2c994d7305e"
      },
      "source": [
        "from pyngrok import ngrok\n",
        " \n",
        "public_url = ngrok.connect('8501')\n",
        "public_url"
      ],
      "execution_count": 107,
      "outputs": [
        {
          "output_type": "execute_result",
          "data": {
            "text/plain": [
              "<NgrokTunnel: \"http://cec46cc8a11e.ngrok.io\" -> \"http://localhost:8501\">"
            ]
          },
          "metadata": {
            "tags": []
          },
          "execution_count": 107
        }
      ]
    }
  ]
}